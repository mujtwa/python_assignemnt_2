{
 "cells": [
  {
   "cell_type": "markdown",
   "metadata": {},
   "source": [
    "## Natural Processing language"
   ]
  },
  {
   "cell_type": "markdown",
   "metadata": {},
   "source": [
    "### Tokenization"
   ]
  },
  {
   "cell_type": "code",
   "execution_count": null,
   "metadata": {},
   "outputs": [],
   "source": [
    "import nltk\n",
    "## Tokenization of paragraphs/sentences"
   ]
  },
  {
   "cell_type": "code",
   "execution_count": null,
   "metadata": {},
   "outputs": [],
   "source": [
    "nltk.download(\"punkt\")"
   ]
  },
  {
   "cell_type": "code",
   "execution_count": null,
   "metadata": {},
   "outputs": [],
   "source": [
    "paragraph=\"\"\"As a scientist and specialist, \n",
    "            Sir Abdul Kalam took a shot at a few significant projects of the Defense Research and Development Organization (DRDO) and Indian Space Research Organization (ISRO).\n",
    "            He began working with the Indian Space Research Organization (ISRO) since 1972. He was additionally a significant part of Pokhran II Nuclear Test in 1998.\n",
    "            In 1980, he put the Rohini satellite close to the Earth’s circle which caused India to be a member from the International Club. He had structured the indigenous objective entering controlled rocket (Guided Missiles).\n",
    "            He is worldwide renowned as the ‘Rocket Man of India’ for his extraordinary work in space science.\n",
    "            The fruitful testing of ‘Agni Missile’ and ‘Prithvi Missile’ was practically unthinkable without his essential support. Kalam Ji consistently showed Indian youth to build up their ability and use it for the development of the country. for his work in science and open government assistance, \n",
    "            he got the Bharat Ratna and different esteemed honours of India.\n",
    "            We are most familiar with the accomplishments of Dr APJ Abdul Kalam as a defence scientist. As a result of it, the alliance of N. D. A. government made him the contender for the post of leader of India in 2002. With about 90% vote, he swore as the eleventh president of India on 25 July 2002 in Parliament within sight of Prime Minister Atal Bihari Vajpayee and his bureau of ministers.\n",
    "            Sir Abdul Kalam was a vegan and carefully followed discipline throughout his life. \n",
    "            Even though he didn’t have connections with a political field,\n",
    "            he was politically productive on account of his idea of patriotism and his devotion towards open government assistance.\n",
    "            He has been the central President who has never had any association with legislative issues or political exercises.\n",
    "            In his few books, Kalam Sir has explained how he turned into the president of India.\n",
    "            Through this book, \n",
    "            he has explained numerous occasions that happened with him turning into the president.\n",
    "             \"\"\""
   ]
  },
  {
   "cell_type": "code",
   "execution_count": null,
   "metadata": {},
   "outputs": [],
   "source": []
  }
 ],
 "metadata": {
  "kernelspec": {
   "display_name": "Python 3",
   "language": "python",
   "name": "python3"
  },
  "language_info": {
   "codemirror_mode": {
    "name": "ipython",
    "version": 3
   },
   "file_extension": ".py",
   "mimetype": "text/x-python",
   "name": "python",
   "nbconvert_exporter": "python",
   "pygments_lexer": "ipython3",
   "version": "3.8.5"
  }
 },
 "nbformat": 4,
 "nbformat_minor": 4
}
