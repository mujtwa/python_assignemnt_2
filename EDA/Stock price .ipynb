{
 "cells": [
  {
   "cell_type": "code",
   "execution_count": 12,
   "metadata": {},
   "outputs": [],
   "source": [
    "import seaborn as sns\n",
    "import matplotlib.pyplot as plt\n",
    "import numpy as np\n",
    "import pandas as pd"
   ]
  },
  {
   "cell_type": "code",
   "execution_count": 13,
   "metadata": {},
   "outputs": [],
   "source": [
    "df=pd.read_csv(r\"C:\\Users\\asus\\Downloads\\stock_price_data_eod.csv\")"
   ]
  },
  {
   "cell_type": "code",
   "execution_count": 14,
   "metadata": {},
   "outputs": [
    {
     "data": {
      "text/html": [
       "<div>\n",
       "<style scoped>\n",
       "    .dataframe tbody tr th:only-of-type {\n",
       "        vertical-align: middle;\n",
       "    }\n",
       "\n",
       "    .dataframe tbody tr th {\n",
       "        vertical-align: top;\n",
       "    }\n",
       "\n",
       "    .dataframe thead th {\n",
       "        text-align: right;\n",
       "    }\n",
       "</style>\n",
       "<table border=\"1\" class=\"dataframe\">\n",
       "  <thead>\n",
       "    <tr style=\"text-align: right;\">\n",
       "      <th></th>\n",
       "      <th>open</th>\n",
       "      <th>high</th>\n",
       "      <th>low</th>\n",
       "      <th>close</th>\n",
       "      <th>volume</th>\n",
       "      <th>adj_high</th>\n",
       "      <th>adj_low</th>\n",
       "      <th>adj_close</th>\n",
       "      <th>adj_open</th>\n",
       "      <th>adj_volume</th>\n",
       "      <th>symbol</th>\n",
       "      <th>exchange</th>\n",
       "      <th>date</th>\n",
       "    </tr>\n",
       "  </thead>\n",
       "  <tbody>\n",
       "    <tr>\n",
       "      <th>0</th>\n",
       "      <td>1737.27</td>\n",
       "      <td>1757.50</td>\n",
       "      <td>1736.09</td>\n",
       "      <td>1752.64</td>\n",
       "      <td>1053479.0</td>\n",
       "      <td>1757.50</td>\n",
       "      <td>1736.09</td>\n",
       "      <td>1752.64</td>\n",
       "      <td>1737.27</td>\n",
       "      <td>1053479.0</td>\n",
       "      <td>GOOGL</td>\n",
       "      <td>XNAS</td>\n",
       "      <td>2020-12-31T00:00:00+0000</td>\n",
       "    </tr>\n",
       "    <tr>\n",
       "      <th>1</th>\n",
       "      <td>1765.00</td>\n",
       "      <td>1767.76</td>\n",
       "      <td>1728.00</td>\n",
       "      <td>1736.25</td>\n",
       "      <td>1051308.0</td>\n",
       "      <td>1767.76</td>\n",
       "      <td>1728.00</td>\n",
       "      <td>1736.25</td>\n",
       "      <td>1765.00</td>\n",
       "      <td>1051308.0</td>\n",
       "      <td>GOOGL</td>\n",
       "      <td>XNAS</td>\n",
       "      <td>2020-12-30T00:00:00+0000</td>\n",
       "    </tr>\n",
       "    <tr>\n",
       "      <th>2</th>\n",
       "      <td>1787.23</td>\n",
       "      <td>1788.47</td>\n",
       "      <td>1755.11</td>\n",
       "      <td>1757.76</td>\n",
       "      <td>986287.0</td>\n",
       "      <td>1788.47</td>\n",
       "      <td>1755.11</td>\n",
       "      <td>1757.76</td>\n",
       "      <td>1787.23</td>\n",
       "      <td>986287.0</td>\n",
       "      <td>GOOGL</td>\n",
       "      <td>XNAS</td>\n",
       "      <td>2020-12-29T00:00:00+0000</td>\n",
       "    </tr>\n",
       "    <tr>\n",
       "      <th>3</th>\n",
       "      <td>1744.91</td>\n",
       "      <td>1787.00</td>\n",
       "      <td>1741.82</td>\n",
       "      <td>1773.96</td>\n",
       "      <td>1379642.0</td>\n",
       "      <td>1787.00</td>\n",
       "      <td>1741.82</td>\n",
       "      <td>1773.96</td>\n",
       "      <td>1744.91</td>\n",
       "      <td>1379642.0</td>\n",
       "      <td>GOOGL</td>\n",
       "      <td>XNAS</td>\n",
       "      <td>2020-12-28T00:00:00+0000</td>\n",
       "    </tr>\n",
       "    <tr>\n",
       "      <th>4</th>\n",
       "      <td>1729.00</td>\n",
       "      <td>1742.41</td>\n",
       "      <td>1724.35</td>\n",
       "      <td>1734.16</td>\n",
       "      <td>465638.0</td>\n",
       "      <td>1742.41</td>\n",
       "      <td>1724.35</td>\n",
       "      <td>1734.16</td>\n",
       "      <td>1729.00</td>\n",
       "      <td>465638.0</td>\n",
       "      <td>GOOGL</td>\n",
       "      <td>XNAS</td>\n",
       "      <td>2020-12-24T00:00:00+0000</td>\n",
       "    </tr>\n",
       "  </tbody>\n",
       "</table>\n",
       "</div>"
      ],
      "text/plain": [
       "      open     high      low    close     volume  adj_high  adj_low  \\\n",
       "0  1737.27  1757.50  1736.09  1752.64  1053479.0   1757.50  1736.09   \n",
       "1  1765.00  1767.76  1728.00  1736.25  1051308.0   1767.76  1728.00   \n",
       "2  1787.23  1788.47  1755.11  1757.76   986287.0   1788.47  1755.11   \n",
       "3  1744.91  1787.00  1741.82  1773.96  1379642.0   1787.00  1741.82   \n",
       "4  1729.00  1742.41  1724.35  1734.16   465638.0   1742.41  1724.35   \n",
       "\n",
       "   adj_close  adj_open  adj_volume symbol exchange                      date  \n",
       "0    1752.64   1737.27   1053479.0  GOOGL     XNAS  2020-12-31T00:00:00+0000  \n",
       "1    1736.25   1765.00   1051308.0  GOOGL     XNAS  2020-12-30T00:00:00+0000  \n",
       "2    1757.76   1787.23    986287.0  GOOGL     XNAS  2020-12-29T00:00:00+0000  \n",
       "3    1773.96   1744.91   1379642.0  GOOGL     XNAS  2020-12-28T00:00:00+0000  \n",
       "4    1734.16   1729.00    465638.0  GOOGL     XNAS  2020-12-24T00:00:00+0000  "
      ]
     },
     "execution_count": 14,
     "metadata": {},
     "output_type": "execute_result"
    }
   ],
   "source": [
    "df.head()"
   ]
  },
  {
   "cell_type": "markdown",
   "metadata": {},
   "source": [
    "## Missing values"
   ]
  },
  {
   "cell_type": "code",
   "execution_count": 15,
   "metadata": {},
   "outputs": [
    {
     "name": "stdout",
     "output_type": "stream",
     "text": [
      "<class 'pandas.core.frame.DataFrame'>\n",
      "RangeIndex: 1600 entries, 0 to 1599\n",
      "Data columns (total 13 columns):\n",
      " #   Column      Non-Null Count  Dtype  \n",
      "---  ------      --------------  -----  \n",
      " 0   open        1600 non-null   float64\n",
      " 1   high        1600 non-null   float64\n",
      " 2   low         1600 non-null   float64\n",
      " 3   close       1600 non-null   float64\n",
      " 4   volume      1600 non-null   float64\n",
      " 5   adj_high    1600 non-null   float64\n",
      " 6   adj_low     1600 non-null   float64\n",
      " 7   adj_close   1600 non-null   float64\n",
      " 8   adj_open    1600 non-null   float64\n",
      " 9   adj_volume  1600 non-null   float64\n",
      " 10  symbol      1600 non-null   object \n",
      " 11  exchange    1600 non-null   object \n",
      " 12  date        1600 non-null   object \n",
      "dtypes: float64(10), object(3)\n",
      "memory usage: 162.6+ KB\n"
     ]
    }
   ],
   "source": [
    "df.info()"
   ]
  },
  {
   "cell_type": "code",
   "execution_count": null,
   "metadata": {},
   "outputs": [],
   "source": []
  },
  {
   "cell_type": "code",
   "execution_count": 16,
   "metadata": {},
   "outputs": [
    {
     "data": {
      "text/html": [
       "<div>\n",
       "<style scoped>\n",
       "    .dataframe tbody tr th:only-of-type {\n",
       "        vertical-align: middle;\n",
       "    }\n",
       "\n",
       "    .dataframe tbody tr th {\n",
       "        vertical-align: top;\n",
       "    }\n",
       "\n",
       "    .dataframe thead th {\n",
       "        text-align: right;\n",
       "    }\n",
       "</style>\n",
       "<table border=\"1\" class=\"dataframe\">\n",
       "  <thead>\n",
       "    <tr style=\"text-align: right;\">\n",
       "      <th></th>\n",
       "      <th>open</th>\n",
       "      <th>high</th>\n",
       "      <th>low</th>\n",
       "      <th>close</th>\n",
       "      <th>volume</th>\n",
       "      <th>adj_high</th>\n",
       "      <th>adj_low</th>\n",
       "      <th>adj_close</th>\n",
       "      <th>adj_open</th>\n",
       "      <th>adj_volume</th>\n",
       "      <th>symbol</th>\n",
       "      <th>exchange</th>\n",
       "      <th>date</th>\n",
       "    </tr>\n",
       "  </thead>\n",
       "  <tbody>\n",
       "    <tr>\n",
       "      <th>0</th>\n",
       "      <td>1737.27</td>\n",
       "      <td>1757.50</td>\n",
       "      <td>1736.09</td>\n",
       "      <td>1752.64</td>\n",
       "      <td>1053479.0</td>\n",
       "      <td>1757.50</td>\n",
       "      <td>1736.09</td>\n",
       "      <td>1752.64</td>\n",
       "      <td>1737.27</td>\n",
       "      <td>1053479.0</td>\n",
       "      <td>GOOGL</td>\n",
       "      <td>XNAS</td>\n",
       "      <td>2020-12-31T00:00:00+0000</td>\n",
       "    </tr>\n",
       "    <tr>\n",
       "      <th>1</th>\n",
       "      <td>1765.00</td>\n",
       "      <td>1767.76</td>\n",
       "      <td>1728.00</td>\n",
       "      <td>1736.25</td>\n",
       "      <td>1051308.0</td>\n",
       "      <td>1767.76</td>\n",
       "      <td>1728.00</td>\n",
       "      <td>1736.25</td>\n",
       "      <td>1765.00</td>\n",
       "      <td>1051308.0</td>\n",
       "      <td>GOOGL</td>\n",
       "      <td>XNAS</td>\n",
       "      <td>2020-12-30T00:00:00+0000</td>\n",
       "    </tr>\n",
       "    <tr>\n",
       "      <th>2</th>\n",
       "      <td>1787.23</td>\n",
       "      <td>1788.47</td>\n",
       "      <td>1755.11</td>\n",
       "      <td>1757.76</td>\n",
       "      <td>986287.0</td>\n",
       "      <td>1788.47</td>\n",
       "      <td>1755.11</td>\n",
       "      <td>1757.76</td>\n",
       "      <td>1787.23</td>\n",
       "      <td>986287.0</td>\n",
       "      <td>GOOGL</td>\n",
       "      <td>XNAS</td>\n",
       "      <td>2020-12-29T00:00:00+0000</td>\n",
       "    </tr>\n",
       "    <tr>\n",
       "      <th>3</th>\n",
       "      <td>1744.91</td>\n",
       "      <td>1787.00</td>\n",
       "      <td>1741.82</td>\n",
       "      <td>1773.96</td>\n",
       "      <td>1379642.0</td>\n",
       "      <td>1787.00</td>\n",
       "      <td>1741.82</td>\n",
       "      <td>1773.96</td>\n",
       "      <td>1744.91</td>\n",
       "      <td>1379642.0</td>\n",
       "      <td>GOOGL</td>\n",
       "      <td>XNAS</td>\n",
       "      <td>2020-12-28T00:00:00+0000</td>\n",
       "    </tr>\n",
       "    <tr>\n",
       "      <th>4</th>\n",
       "      <td>1729.00</td>\n",
       "      <td>1742.41</td>\n",
       "      <td>1724.35</td>\n",
       "      <td>1734.16</td>\n",
       "      <td>465638.0</td>\n",
       "      <td>1742.41</td>\n",
       "      <td>1724.35</td>\n",
       "      <td>1734.16</td>\n",
       "      <td>1729.00</td>\n",
       "      <td>465638.0</td>\n",
       "      <td>GOOGL</td>\n",
       "      <td>XNAS</td>\n",
       "      <td>2020-12-24T00:00:00+0000</td>\n",
       "    </tr>\n",
       "  </tbody>\n",
       "</table>\n",
       "</div>"
      ],
      "text/plain": [
       "      open     high      low    close     volume  adj_high  adj_low  \\\n",
       "0  1737.27  1757.50  1736.09  1752.64  1053479.0   1757.50  1736.09   \n",
       "1  1765.00  1767.76  1728.00  1736.25  1051308.0   1767.76  1728.00   \n",
       "2  1787.23  1788.47  1755.11  1757.76   986287.0   1788.47  1755.11   \n",
       "3  1744.91  1787.00  1741.82  1773.96  1379642.0   1787.00  1741.82   \n",
       "4  1729.00  1742.41  1724.35  1734.16   465638.0   1742.41  1724.35   \n",
       "\n",
       "   adj_close  adj_open  adj_volume symbol exchange                      date  \n",
       "0    1752.64   1737.27   1053479.0  GOOGL     XNAS  2020-12-31T00:00:00+0000  \n",
       "1    1736.25   1765.00   1051308.0  GOOGL     XNAS  2020-12-30T00:00:00+0000  \n",
       "2    1757.76   1787.23    986287.0  GOOGL     XNAS  2020-12-29T00:00:00+0000  \n",
       "3    1773.96   1744.91   1379642.0  GOOGL     XNAS  2020-12-28T00:00:00+0000  \n",
       "4    1734.16   1729.00    465638.0  GOOGL     XNAS  2020-12-24T00:00:00+0000  "
      ]
     },
     "execution_count": 16,
     "metadata": {},
     "output_type": "execute_result"
    }
   ],
   "source": [
    "df.head()"
   ]
  },
  {
   "cell_type": "code",
   "execution_count": 17,
   "metadata": {},
   "outputs": [
    {
     "data": {
      "text/plain": [
       "open          0\n",
       "high          0\n",
       "low           0\n",
       "close         0\n",
       "volume        0\n",
       "adj_high      0\n",
       "adj_low       0\n",
       "adj_close     0\n",
       "adj_open      0\n",
       "adj_volume    0\n",
       "symbol        0\n",
       "exchange      0\n",
       "date          0\n",
       "dtype: int64"
      ]
     },
     "execution_count": 17,
     "metadata": {},
     "output_type": "execute_result"
    }
   ],
   "source": [
    "df.isnull().sum()"
   ]
  },
  {
   "cell_type": "code",
   "execution_count": 18,
   "metadata": {},
   "outputs": [
    {
     "data": {
      "text/plain": [
       "open          float64\n",
       "high          float64\n",
       "low           float64\n",
       "close         float64\n",
       "volume        float64\n",
       "adj_high      float64\n",
       "adj_low       float64\n",
       "adj_close     float64\n",
       "adj_open      float64\n",
       "adj_volume    float64\n",
       "symbol         object\n",
       "exchange       object\n",
       "date           object\n",
       "dtype: object"
      ]
     },
     "execution_count": 18,
     "metadata": {},
     "output_type": "execute_result"
    }
   ],
   "source": [
    "df.dtypes"
   ]
  },
  {
   "cell_type": "code",
   "execution_count": 19,
   "metadata": {},
   "outputs": [
    {
     "data": {
      "text/plain": [
       "['XNAS', 'XNAS', 'XNAS', 'XNAS', 'XNAS', ..., 'XNYS', 'XNYS', 'XNYS', 'XNYS', 'XNYS']\n",
       "Length: 1600\n",
       "Categories (2, object): ['XNAS', 'XNYS']"
      ]
     },
     "execution_count": 19,
     "metadata": {},
     "output_type": "execute_result"
    }
   ],
   "source": [
    "pd.Categorical(df.exchange)"
   ]
  },
  {
   "cell_type": "code",
   "execution_count": 20,
   "metadata": {},
   "outputs": [
    {
     "data": {
      "text/plain": [
       "['GOOGL', 'GOOGL', 'GOOGL', 'GOOGL', 'GOOGL', ..., 'ABT', 'ABT', 'ABT', 'ABT', 'ABT']\n",
       "Length: 1600\n",
       "Categories (16, object): ['AAPL', 'ABT', 'AMZN', 'BABA', ..., 'NVDA', 'PYPL', 'TSLA', 'WMT']"
      ]
     },
     "execution_count": 20,
     "metadata": {},
     "output_type": "execute_result"
    }
   ],
   "source": [
    "pd.Categorical(df.symbol)"
   ]
  },
  {
   "cell_type": "code",
   "execution_count": 22,
   "metadata": {},
   "outputs": [
    {
     "data": {
      "text/plain": [
       "<BarContainer object of 1600 artists>"
      ]
     },
     "execution_count": 22,
     "metadata": {},
     "output_type": "execute_result"
    },
    {
     "data": {
      "image/png": "[encoded data removed]",
      "text/plain": [
       "<Figure size 432x288 with 1 Axes>"
      ]
     },
     "metadata": {
      "needs_background": "light"
     },
     "output_type": "display_data"
    }
   ],
   "source": [
    "plt.bar(x=\"exchange\",height=\"open\",data=df)"
   ]
  },
  {
   "cell_type": "code",
   "execution_count": 25,
   "metadata": {},
   "outputs": [
    {
     "data": {
      "text/plain": [
       "<BarContainer object of 1600 artists>"
      ]
     },
     "execution_count": 25,
     "metadata": {},
     "output_type": "execute_result"
    },
    {
     "data": {
      "image/png": "[encoded data removed]",
      "text/plain": [
       "<Figure size 1152x648 with 1 Axes>"
      ]
     },
     "metadata": {
      "needs_background": "light"
     },
     "output_type": "display_data"
    }
   ],
   "source": [
    "plt.figure(figsize=(16,9))\n",
    "plt.bar(x=\"symbol\",height=\"open\",data=df)"
   ]
  },
  {
   "cell_type": "code",
   "execution_count": 26,
   "metadata": {},
   "outputs": [],
   "source": [
    "## Numerical Variables"
   ]
  },
  {
   "cell_type": "code",
   "execution_count": 48,
   "metadata": {},
   "outputs": [],
   "source": [
    "numerical_features=[feature for feature in df.columns if df[feature].dtypes!=\"O\"]"
   ]
  },
  {
   "cell_type": "code",
   "execution_count": 49,
   "metadata": {},
   "outputs": [
    {
     "data": {
      "text/plain": [
       "['open',\n",
       " 'high',\n",
       " 'low',\n",
       " 'close',\n",
       " 'volume',\n",
       " 'adj_high',\n",
       " 'adj_low',\n",
       " 'adj_close',\n",
       " 'adj_open',\n",
       " 'adj_volume']"
      ]
     },
     "execution_count": 49,
     "metadata": {},
     "output_type": "execute_result"
    }
   ],
   "source": [
    "numerical_features"
   ]
  },
  {
   "cell_type": "code",
   "execution_count": 41,
   "metadata": {},
   "outputs": [
    {
     "data": {
      "text/plain": [
       "[1737.27, 1765.00, 1787.23, 1744.91, 1729.00, ..., 100.30, 100.93, 100.34, 99.55, 100.43]\n",
       "Length: 1600\n",
       "Categories (1557, float64): [92.05, 92.32, 94.78, 94.96, ..., 3467.99, 3485.00, 3489.58, 3547.00]"
      ]
     },
     "execution_count": 41,
     "metadata": {},
     "output_type": "execute_result"
    }
   ],
   "source": [
    "pd.Categorical(df.open)"
   ]
  },
  {
   "cell_type": "code",
   "execution_count": 42,
   "metadata": {},
   "outputs": [
    {
     "data": {
      "text/plain": [
       "[1736.09, 1728.00, 1755.11, 1741.82, 1724.35, ..., 100.210, 99.575, 100.000, 99.315, 98.670]\n",
       "Length: 1600\n",
       "Categories (1569, float64): [91.3800, 91.8700, 92.6617, 93.6700, ..., 3405.000, 3424.217, 3467.000, 3486.685]"
      ]
     },
     "execution_count": 42,
     "metadata": {},
     "output_type": "execute_result"
    }
   ],
   "source": [
    "pd.Categorical(df.low)"
   ]
  },
  {
   "cell_type": "code",
   "execution_count": 43,
   "metadata": {},
   "outputs": [
    {
     "data": {
      "text/plain": [
       "[1737.27, 1765.00, 1787.23, 1744.91, 1729.00, ..., 100.30, 100.93, 100.34, 99.55, 100.43]\n",
       "Length: 1600\n",
       "Categories (1561, float64): [92.05, 92.32, 94.78, 94.96, ..., 3467.99, 3485.00, 3489.58, 3547.00]"
      ]
     },
     "execution_count": 43,
     "metadata": {},
     "output_type": "execute_result"
    }
   ],
   "source": [
    "pd.Categorical(df.adj_open)"
   ]
  },
  {
   "cell_type": "code",
   "execution_count": 52,
   "metadata": {},
   "outputs": [],
   "source": [
    "discrete_features=[feature for feature in numerical_features if len(df[feature].unique())<25]"
   ]
  },
  {
   "cell_type": "code",
   "execution_count": 53,
   "metadata": {},
   "outputs": [
    {
     "data": {
      "text/plain": [
       "[]"
      ]
     },
     "execution_count": 53,
     "metadata": {},
     "output_type": "execute_result"
    }
   ],
   "source": [
    "discrete_features"
   ]
  },
  {
   "cell_type": "code",
   "execution_count": 55,
   "metadata": {
    "scrolled": false
   },
   "outputs": [
    {
     "data": {
      "image/png": "[encoded data removed]",
      "text/plain": [
       "<Figure size 432x288 with 1 Axes>"
      ]
     },
     "metadata": {
      "needs_background": "light"
     },
     "output_type": "display_data"
    },
    {
     "data": {
      "image/png": "[encoded data removed]",
      "text/plain": [
       "<Figure size 432x288 with 1 Axes>"
      ]
     },
     "metadata": {
      "needs_background": "light"
     },
     "output_type": "display_data"
    },
    {
     "data": {
      "image/png": "[encoded data removed]",
      "text/plain": [
       "<Figure size 432x288 with 1 Axes>"
      ]
     },
     "metadata": {
      "needs_background": "light"
     },
     "output_type": "display_data"
    },
    {
     "data": {
      "image/png": "[encoded data removed]",
      "text/plain": [
       "<Figure size 432x288 with 1 Axes>"
      ]
     },
     "metadata": {
      "needs_background": "light"
     },
     "output_type": "display_data"
    },
    {
     "data": {
      "image/png": "[encoded data removed]",
      "text/plain": [
       "<Figure size 432x288 with 1 Axes>"
      ]
     },
     "metadata": {
      "needs_background": "light"
     },
     "output_type": "display_data"
    },
    {
     "data": {
      "image/png": "[encoded data removed]",
      "text/plain": [
       "<Figure size 432x288 with 1 Axes>"
      ]
     },
     "metadata": {
      "needs_background": "light"
     },
     "output_type": "display_data"
    },
    {
     "data": {
      "image/png": "[encoded data removed]",
      "text/plain": [
       "<Figure size 432x288 with 1 Axes>"
      ]
     },
     "metadata": {
      "needs_background": "light"
     },
     "output_type": "display_data"
    },
    {
     "data": {
      "image/png": "[encoded data removed]",
      "text/plain": [
       "<Figure size 432x288 with 1 Axes>"
      ]
     },
     "metadata": {
      "needs_background": "light"
     },
     "output_type": "display_data"
    },
    {
     "data": {
      "image/png": "[encoded data removed]",
      "text/plain": [
       "<Figure size 432x288 with 1 Axes>"
      ]
     },
     "metadata": {
      "needs_background": "light"
     },
     "output_type": "display_data"
    },
    {
     "data": {
      "image/png": "[encoded data removed]",
      "text/plain": [
       "<Figure size 432x288 with 1 Axes>"
      ]
     },
     "metadata": {
      "needs_background": "light"
     },
     "output_type": "display_data"
    }
   ],
   "source": [
    "for feature in numerical_features:\n",
    "    df[feature].hist(bins=25)\n",
    "    plt.xlabel(feature)\n",
    "    plt.ylabel(\"Count\")\n",
    "    plt.show()"
   ]
  },
  {
   "cell_type": "code",
   "execution_count": 56,
   "metadata": {},
   "outputs": [],
   "source": [
    "## transformation of the dataset"
   ]
  },
  {
   "cell_type": "code",
   "execution_count": 57,
   "metadata": {},
   "outputs": [
    {
     "data": {
      "image/png": "[encoded data removed]",
      "text/plain": [
       "<Figure size 432x288 with 1 Axes>"
      ]
     },
     "metadata": {
      "needs_background": "light"
     },
     "output_type": "display_data"
    },
    {
     "data": {
      "image/png": "[encoded data removed]",
      "text/plain": [
       "<Figure size 432x288 with 1 Axes>"
      ]
     },
     "metadata": {
      "needs_background": "light"
     },
     "output_type": "display_data"
    },
    {
     "data": {
      "image/png": "[encoded data removed]",
      "text/plain": [
       "<Figure size 432x288 with 1 Axes>"
      ]
     },
     "metadata": {
      "needs_background": "light"
     },
     "output_type": "display_data"
    },
    {
     "data": {
      "image/png": "[encoded data removed]",
      "text/plain": [
       "<Figure size 432x288 with 1 Axes>"
      ]
     },
     "metadata": {
      "needs_background": "light"
     },
     "output_type": "display_data"
    },
    {
     "data": {
      "image/png": "[encoded data removed]",
      "text/plain": [
       "<Figure size 432x288 with 1 Axes>"
      ]
     },
     "metadata": {
      "needs_background": "light"
     },
     "output_type": "display_data"
    },
    {
     "data": {
      "image/png": "[encoded data removed]",
      "text/plain": [
       "<Figure size 432x288 with 1 Axes>"
      ]
     },
     "metadata": {
      "needs_background": "light"
     },
     "output_type": "display_data"
    },
    {
     "data": {
      "image/png": "[encoded data removed]",
      "text/plain": [
       "<Figure size 432x288 with 1 Axes>"
      ]
     },
     "metadata": {
      "needs_background": "light"
     },
     "output_type": "display_data"
    },
    {
     "data": {
      "image/png": "[encoded data removed]",
      "text/plain": [
       "<Figure size 432x288 with 1 Axes>"
      ]
     },
     "metadata": {
      "needs_background": "light"
     },
     "output_type": "display_data"
    },
    {
     "data": {
      "image/png": "[encoded data removed]",
      "text/plain": [
       "<Figure size 432x288 with 1 Axes>"
      ]
     },
     "metadata": {
      "needs_background": "light"
     },
     "output_type": "display_data"
    },
    {
     "data": {
      "image/png": "[encoded data removed]",
      "text/plain": [
       "<Figure size 432x288 with 1 Axes>"
      ]
     },
     "metadata": {
      "needs_background": "light"
     },
     "output_type": "display_data"
    }
   ],
   "source": [
    "for feature in numerical_features:\n",
    "    df[feature]=np.log(df[feature])\n",
    "    plt.scatter(df[feature],df['open'])\n",
    "    plt.xlabel(feature)\n",
    "    plt.ylabel(\"Open\")\n",
    "    plt.title(feature)\n",
    "    plt.show()"
   ]
  },
  {
   "cell_type": "code",
   "execution_count": 59,
   "metadata": {},
   "outputs": [
    {
     "data": {
      "image/png": "[encoded data removed]",
      "text/plain": [
       "<Figure size 432x288 with 1 Axes>"
      ]
     },
     "metadata": {
      "needs_background": "light"
     },
     "output_type": "display_data"
    },
    {
     "data": {
      "image/png": "[encoded data removed]",
      "text/plain": [
       "<Figure size 432x288 with 1 Axes>"
      ]
     },
     "metadata": {
      "needs_background": "light"
     },
     "output_type": "display_data"
    },
    {
     "data": {
      "image/png": "[encoded data removed]",
      "text/plain": [
       "<Figure size 432x288 with 1 Axes>"
      ]
     },
     "metadata": {
      "needs_background": "light"
     },
     "output_type": "display_data"
    },
    {
     "data": {
      "image/png": "[encoded data removed]",
      "text/plain": [
       "<Figure size 432x288 with 1 Axes>"
      ]
     },
     "metadata": {
      "needs_background": "light"
     },
     "output_type": "display_data"
    },
    {
     "data": {
      "image/png": "[encoded data removed]",
      "text/plain": [
       "<Figure size 432x288 with 1 Axes>"
      ]
     },
     "metadata": {
      "needs_background": "light"
     },
     "output_type": "display_data"
    },
    {
     "data": {
      "image/png": "[encoded data removed]",
      "text/plain": [
       "<Figure size 432x288 with 1 Axes>"
      ]
     },
     "metadata": {
      "needs_background": "light"
     },
     "output_type": "display_data"
    },
    {
     "data": {
      "image/png": "[encoded data removed]",
      "text/plain": [
       "<Figure size 432x288 with 1 Axes>"
      ]
     },
     "metadata": {
      "needs_background": "light"
     },
     "output_type": "display_data"
    },
    {
     "data": {
      "image/png": "[encoded data removed]",
      "text/plain": [
       "<Figure size 432x288 with 1 Axes>"
      ]
     },
     "metadata": {
      "needs_background": "light"
     },
     "output_type": "display_data"
    },
    {
     "data": {
      "image/png": "[encoded data removed]",
      "text/plain": [
       "<Figure size 432x288 with 1 Axes>"
      ]
     },
     "metadata": {
      "needs_background": "light"
     },
     "output_type": "display_data"
    },
    {
     "data": {
      "image/png": "[encoded data removed]",
      "text/plain": [
       "<Figure size 432x288 with 1 Axes>"
      ]
     },
     "metadata": {
      "needs_background": "light"
     },
     "output_type": "display_data"
    }
   ],
   "source": [
    "for feature in numerical_features:\n",
    "    df[feature]=np.log(df[feature])\n",
    "    df.boxplot(column=feature)\n",
    "    plt.ylabel(feature)\n",
    "    plt.show()"
   ]
  },
  {
   "cell_type": "code",
   "execution_count": 60,
   "metadata": {},
   "outputs": [
    {
     "data": {
      "text/plain": [
       "open          0\n",
       "high          0\n",
       "low           0\n",
       "close         0\n",
       "volume        0\n",
       "adj_high      0\n",
       "adj_low       0\n",
       "adj_close     0\n",
       "adj_open      0\n",
       "adj_volume    0\n",
       "symbol        0\n",
       "exchange      0\n",
       "date          0\n",
       "dtype: int64"
      ]
     },
     "execution_count": 60,
     "metadata": {},
     "output_type": "execute_result"
    }
   ],
   "source": [
    "df.isnull().sum()"
   ]
  },
  {
   "cell_type": "markdown",
   "metadata": {},
   "source": [
    "## Feature Engineering"
   ]
  },
  {
   "cell_type": "code",
   "execution_count": 72,
   "metadata": {},
   "outputs": [
    {
     "data": {
      "text/plain": [
       "[1, 1, 1, 1, 1, ..., 0, 0, 0, 0, 0]\n",
       "Length: 1600\n",
       "Categories (2, uint64): [0, 1]"
      ]
     },
     "execution_count": 72,
     "metadata": {},
     "output_type": "execute_result"
    }
   ],
   "source": [
    "pd.Categorical(df.symbol)"
   ]
  },
  {
   "cell_type": "code",
   "execution_count": 61,
   "metadata": {},
   "outputs": [
    {
     "data": {
      "text/html": [
       "<div>\n",
       "<style scoped>\n",
       "    .dataframe tbody tr th:only-of-type {\n",
       "        vertical-align: middle;\n",
       "    }\n",
       "\n",
       "    .dataframe tbody tr th {\n",
       "        vertical-align: top;\n",
       "    }\n",
       "\n",
       "    .dataframe thead th {\n",
       "        text-align: right;\n",
       "    }\n",
       "</style>\n",
       "<table border=\"1\" class=\"dataframe\">\n",
       "  <thead>\n",
       "    <tr style=\"text-align: right;\">\n",
       "      <th></th>\n",
       "      <th>open</th>\n",
       "      <th>high</th>\n",
       "      <th>low</th>\n",
       "      <th>close</th>\n",
       "      <th>volume</th>\n",
       "      <th>adj_high</th>\n",
       "      <th>adj_low</th>\n",
       "      <th>adj_close</th>\n",
       "      <th>adj_open</th>\n",
       "      <th>adj_volume</th>\n",
       "      <th>symbol</th>\n",
       "      <th>exchange</th>\n",
       "      <th>date</th>\n",
       "    </tr>\n",
       "  </thead>\n",
       "  <tbody>\n",
       "    <tr>\n",
       "      <th>0</th>\n",
       "      <td>0.697918</td>\n",
       "      <td>2.011116</td>\n",
       "      <td>2.009474</td>\n",
       "      <td>2.010745</td>\n",
       "      <td>2.629556</td>\n",
       "      <td>2.011116</td>\n",
       "      <td>2.009474</td>\n",
       "      <td>2.010745</td>\n",
       "      <td>2.009565</td>\n",
       "      <td>2.629556</td>\n",
       "      <td>GOOGL</td>\n",
       "      <td>XNAS</td>\n",
       "      <td>2020-12-31T00:00:00+0000</td>\n",
       "    </tr>\n",
       "    <tr>\n",
       "      <th>1</th>\n",
       "      <td>0.698973</td>\n",
       "      <td>2.011894</td>\n",
       "      <td>2.008847</td>\n",
       "      <td>2.009486</td>\n",
       "      <td>2.629407</td>\n",
       "      <td>2.011894</td>\n",
       "      <td>2.008847</td>\n",
       "      <td>2.009486</td>\n",
       "      <td>2.011685</td>\n",
       "      <td>2.629407</td>\n",
       "      <td>GOOGL</td>\n",
       "      <td>XNAS</td>\n",
       "      <td>2020-12-30T00:00:00+0000</td>\n",
       "    </tr>\n",
       "    <tr>\n",
       "      <th>2</th>\n",
       "      <td>0.699804</td>\n",
       "      <td>2.013451</td>\n",
       "      <td>2.010933</td>\n",
       "      <td>2.011135</td>\n",
       "      <td>2.624792</td>\n",
       "      <td>2.013451</td>\n",
       "      <td>2.010933</td>\n",
       "      <td>2.011135</td>\n",
       "      <td>2.013358</td>\n",
       "      <td>2.624792</td>\n",
       "      <td>GOOGL</td>\n",
       "      <td>XNAS</td>\n",
       "      <td>2020-12-29T00:00:00+0000</td>\n",
       "    </tr>\n",
       "    <tr>\n",
       "      <th>3</th>\n",
       "      <td>0.698211</td>\n",
       "      <td>2.013341</td>\n",
       "      <td>2.009915</td>\n",
       "      <td>2.012362</td>\n",
       "      <td>2.648819</td>\n",
       "      <td>2.013341</td>\n",
       "      <td>2.009915</td>\n",
       "      <td>2.012362</td>\n",
       "      <td>2.010153</td>\n",
       "      <td>2.648819</td>\n",
       "      <td>GOOGL</td>\n",
       "      <td>XNAS</td>\n",
       "      <td>2020-12-28T00:00:00+0000</td>\n",
       "    </tr>\n",
       "    <tr>\n",
       "      <th>4</th>\n",
       "      <td>0.697600</td>\n",
       "      <td>2.009961</td>\n",
       "      <td>2.008564</td>\n",
       "      <td>2.009325</td>\n",
       "      <td>2.568877</td>\n",
       "      <td>2.009961</td>\n",
       "      <td>2.008564</td>\n",
       "      <td>2.009325</td>\n",
       "      <td>2.008925</td>\n",
       "      <td>2.568877</td>\n",
       "      <td>GOOGL</td>\n",
       "      <td>XNAS</td>\n",
       "      <td>2020-12-24T00:00:00+0000</td>\n",
       "    </tr>\n",
       "  </tbody>\n",
       "</table>\n",
       "</div>"
      ],
      "text/plain": [
       "       open      high       low     close    volume  adj_high   adj_low  \\\n",
       "0  0.697918  2.011116  2.009474  2.010745  2.629556  2.011116  2.009474   \n",
       "1  0.698973  2.011894  2.008847  2.009486  2.629407  2.011894  2.008847   \n",
       "2  0.699804  2.013451  2.010933  2.011135  2.624792  2.013451  2.010933   \n",
       "3  0.698211  2.013341  2.009915  2.012362  2.648819  2.013341  2.009915   \n",
       "4  0.697600  2.009961  2.008564  2.009325  2.568877  2.009961  2.008564   \n",
       "\n",
       "   adj_close  adj_open  adj_volume symbol exchange                      date  \n",
       "0   2.010745  2.009565    2.629556  GOOGL     XNAS  2020-12-31T00:00:00+0000  \n",
       "1   2.009486  2.011685    2.629407  GOOGL     XNAS  2020-12-30T00:00:00+0000  \n",
       "2   2.011135  2.013358    2.624792  GOOGL     XNAS  2020-12-29T00:00:00+0000  \n",
       "3   2.012362  2.010153    2.648819  GOOGL     XNAS  2020-12-28T00:00:00+0000  \n",
       "4   2.009325  2.008925    2.568877  GOOGL     XNAS  2020-12-24T00:00:00+0000  "
      ]
     },
     "execution_count": 61,
     "metadata": {},
     "output_type": "execute_result"
    }
   ],
   "source": [
    "df.head()"
   ]
  },
  {
   "cell_type": "code",
   "execution_count": 63,
   "metadata": {},
   "outputs": [],
   "source": [
    "df['exchange']=pd.get_dummies(df['exchange'],drop_first=True)"
   ]
  },
  {
   "cell_type": "code",
   "execution_count": 70,
   "metadata": {},
   "outputs": [],
   "source": [
    "from sklearn.preprocessing import OneHotEncoder"
   ]
  },
  {
   "cell_type": "code",
   "execution_count": 71,
   "metadata": {},
   "outputs": [
    {
     "data": {
      "text/plain": [
       "[1, 1, 1, 1, 1, ..., 0, 0, 0, 0, 0]\n",
       "Length: 1600\n",
       "Categories (2, uint64): [0, 1]"
      ]
     },
     "execution_count": 71,
     "metadata": {},
     "output_type": "execute_result"
    }
   ],
   "source": [
    "pd.Categorical(df.symbol)"
   ]
  },
  {
   "cell_type": "code",
   "execution_count": null,
   "metadata": {},
   "outputs": [],
   "source": []
  },
  {
   "cell_type": "code",
   "execution_count": 68,
   "metadata": {},
   "outputs": [
    {
     "data": {
      "text/html": [
       "<div>\n",
       "<style scoped>\n",
       "    .dataframe tbody tr th:only-of-type {\n",
       "        vertical-align: middle;\n",
       "    }\n",
       "\n",
       "    .dataframe tbody tr th {\n",
       "        vertical-align: top;\n",
       "    }\n",
       "\n",
       "    .dataframe thead th {\n",
       "        text-align: right;\n",
       "    }\n",
       "</style>\n",
       "<table border=\"1\" class=\"dataframe\">\n",
       "  <thead>\n",
       "    <tr style=\"text-align: right;\">\n",
       "      <th></th>\n",
       "      <th>open</th>\n",
       "      <th>high</th>\n",
       "      <th>low</th>\n",
       "      <th>close</th>\n",
       "      <th>volume</th>\n",
       "      <th>adj_high</th>\n",
       "      <th>adj_low</th>\n",
       "      <th>adj_close</th>\n",
       "      <th>adj_open</th>\n",
       "      <th>adj_volume</th>\n",
       "      <th>symbol</th>\n",
       "      <th>exchange</th>\n",
       "      <th>date</th>\n",
       "    </tr>\n",
       "  </thead>\n",
       "  <tbody>\n",
       "    <tr>\n",
       "      <th>0</th>\n",
       "      <td>0.697918</td>\n",
       "      <td>2.011116</td>\n",
       "      <td>2.009474</td>\n",
       "      <td>2.010745</td>\n",
       "      <td>2.629556</td>\n",
       "      <td>2.011116</td>\n",
       "      <td>2.009474</td>\n",
       "      <td>2.010745</td>\n",
       "      <td>2.009565</td>\n",
       "      <td>2.629556</td>\n",
       "      <td>1</td>\n",
       "      <td>0</td>\n",
       "      <td>2020-12-31T00:00:00+0000</td>\n",
       "    </tr>\n",
       "    <tr>\n",
       "      <th>1</th>\n",
       "      <td>0.698973</td>\n",
       "      <td>2.011894</td>\n",
       "      <td>2.008847</td>\n",
       "      <td>2.009486</td>\n",
       "      <td>2.629407</td>\n",
       "      <td>2.011894</td>\n",
       "      <td>2.008847</td>\n",
       "      <td>2.009486</td>\n",
       "      <td>2.011685</td>\n",
       "      <td>2.629407</td>\n",
       "      <td>1</td>\n",
       "      <td>0</td>\n",
       "      <td>2020-12-30T00:00:00+0000</td>\n",
       "    </tr>\n",
       "    <tr>\n",
       "      <th>2</th>\n",
       "      <td>0.699804</td>\n",
       "      <td>2.013451</td>\n",
       "      <td>2.010933</td>\n",
       "      <td>2.011135</td>\n",
       "      <td>2.624792</td>\n",
       "      <td>2.013451</td>\n",
       "      <td>2.010933</td>\n",
       "      <td>2.011135</td>\n",
       "      <td>2.013358</td>\n",
       "      <td>2.624792</td>\n",
       "      <td>1</td>\n",
       "      <td>0</td>\n",
       "      <td>2020-12-29T00:00:00+0000</td>\n",
       "    </tr>\n",
       "    <tr>\n",
       "      <th>3</th>\n",
       "      <td>0.698211</td>\n",
       "      <td>2.013341</td>\n",
       "      <td>2.009915</td>\n",
       "      <td>2.012362</td>\n",
       "      <td>2.648819</td>\n",
       "      <td>2.013341</td>\n",
       "      <td>2.009915</td>\n",
       "      <td>2.012362</td>\n",
       "      <td>2.010153</td>\n",
       "      <td>2.648819</td>\n",
       "      <td>1</td>\n",
       "      <td>0</td>\n",
       "      <td>2020-12-28T00:00:00+0000</td>\n",
       "    </tr>\n",
       "    <tr>\n",
       "      <th>4</th>\n",
       "      <td>0.697600</td>\n",
       "      <td>2.009961</td>\n",
       "      <td>2.008564</td>\n",
       "      <td>2.009325</td>\n",
       "      <td>2.568877</td>\n",
       "      <td>2.009961</td>\n",
       "      <td>2.008564</td>\n",
       "      <td>2.009325</td>\n",
       "      <td>2.008925</td>\n",
       "      <td>2.568877</td>\n",
       "      <td>1</td>\n",
       "      <td>0</td>\n",
       "      <td>2020-12-24T00:00:00+0000</td>\n",
       "    </tr>\n",
       "  </tbody>\n",
       "</table>\n",
       "</div>"
      ],
      "text/plain": [
       "       open      high       low     close    volume  adj_high   adj_low  \\\n",
       "0  0.697918  2.011116  2.009474  2.010745  2.629556  2.011116  2.009474   \n",
       "1  0.698973  2.011894  2.008847  2.009486  2.629407  2.011894  2.008847   \n",
       "2  0.699804  2.013451  2.010933  2.011135  2.624792  2.013451  2.010933   \n",
       "3  0.698211  2.013341  2.009915  2.012362  2.648819  2.013341  2.009915   \n",
       "4  0.697600  2.009961  2.008564  2.009325  2.568877  2.009961  2.008564   \n",
       "\n",
       "   adj_close  adj_open  adj_volume  symbol  exchange                      date  \n",
       "0   2.010745  2.009565    2.629556       1         0  2020-12-31T00:00:00+0000  \n",
       "1   2.009486  2.011685    2.629407       1         0  2020-12-30T00:00:00+0000  \n",
       "2   2.011135  2.013358    2.624792       1         0  2020-12-29T00:00:00+0000  \n",
       "3   2.012362  2.010153    2.648819       1         0  2020-12-28T00:00:00+0000  \n",
       "4   2.009325  2.008925    2.568877       1         0  2020-12-24T00:00:00+0000  "
      ]
     },
     "execution_count": 68,
     "metadata": {},
     "output_type": "execute_result"
    }
   ],
   "source": [
    "df.head()"
   ]
  },
  {
   "cell_type": "code",
   "execution_count": 69,
   "metadata": {},
   "outputs": [
    {
     "data": {
      "text/plain": [
       "[1, 1, 1, 1, 1, ..., 0, 0, 0, 0, 0]\n",
       "Length: 1600\n",
       "Categories (2, uint64): [0, 1]"
      ]
     },
     "execution_count": 69,
     "metadata": {},
     "output_type": "execute_result"
    }
   ],
   "source": [
    "pd.Categorical(df.symbol)"
   ]
  },
  {
   "cell_type": "code",
   "execution_count": 73,
   "metadata": {},
   "outputs": [],
   "source": [
    "## Feature scalling"
   ]
  },
  {
   "cell_type": "code",
   "execution_count": 74,
   "metadata": {},
   "outputs": [],
   "source": [
    "df=df.drop('date',axis=1)"
   ]
  },
  {
   "cell_type": "code",
   "execution_count": 75,
   "metadata": {},
   "outputs": [
    {
     "data": {
      "text/html": [
       "<div>\n",
       "<style scoped>\n",
       "    .dataframe tbody tr th:only-of-type {\n",
       "        vertical-align: middle;\n",
       "    }\n",
       "\n",
       "    .dataframe tbody tr th {\n",
       "        vertical-align: top;\n",
       "    }\n",
       "\n",
       "    .dataframe thead th {\n",
       "        text-align: right;\n",
       "    }\n",
       "</style>\n",
       "<table border=\"1\" class=\"dataframe\">\n",
       "  <thead>\n",
       "    <tr style=\"text-align: right;\">\n",
       "      <th></th>\n",
       "      <th>open</th>\n",
       "      <th>high</th>\n",
       "      <th>low</th>\n",
       "      <th>close</th>\n",
       "      <th>volume</th>\n",
       "      <th>adj_high</th>\n",
       "      <th>adj_low</th>\n",
       "      <th>adj_close</th>\n",
       "      <th>adj_open</th>\n",
       "      <th>adj_volume</th>\n",
       "      <th>symbol</th>\n",
       "      <th>exchange</th>\n",
       "    </tr>\n",
       "  </thead>\n",
       "  <tbody>\n",
       "    <tr>\n",
       "      <th>0</th>\n",
       "      <td>0.697918</td>\n",
       "      <td>2.011116</td>\n",
       "      <td>2.009474</td>\n",
       "      <td>2.010745</td>\n",
       "      <td>2.629556</td>\n",
       "      <td>2.011116</td>\n",
       "      <td>2.009474</td>\n",
       "      <td>2.010745</td>\n",
       "      <td>2.009565</td>\n",
       "      <td>2.629556</td>\n",
       "      <td>1</td>\n",
       "      <td>0</td>\n",
       "    </tr>\n",
       "    <tr>\n",
       "      <th>1</th>\n",
       "      <td>0.698973</td>\n",
       "      <td>2.011894</td>\n",
       "      <td>2.008847</td>\n",
       "      <td>2.009486</td>\n",
       "      <td>2.629407</td>\n",
       "      <td>2.011894</td>\n",
       "      <td>2.008847</td>\n",
       "      <td>2.009486</td>\n",
       "      <td>2.011685</td>\n",
       "      <td>2.629407</td>\n",
       "      <td>1</td>\n",
       "      <td>0</td>\n",
       "    </tr>\n",
       "    <tr>\n",
       "      <th>2</th>\n",
       "      <td>0.699804</td>\n",
       "      <td>2.013451</td>\n",
       "      <td>2.010933</td>\n",
       "      <td>2.011135</td>\n",
       "      <td>2.624792</td>\n",
       "      <td>2.013451</td>\n",
       "      <td>2.010933</td>\n",
       "      <td>2.011135</td>\n",
       "      <td>2.013358</td>\n",
       "      <td>2.624792</td>\n",
       "      <td>1</td>\n",
       "      <td>0</td>\n",
       "    </tr>\n",
       "    <tr>\n",
       "      <th>3</th>\n",
       "      <td>0.698211</td>\n",
       "      <td>2.013341</td>\n",
       "      <td>2.009915</td>\n",
       "      <td>2.012362</td>\n",
       "      <td>2.648819</td>\n",
       "      <td>2.013341</td>\n",
       "      <td>2.009915</td>\n",
       "      <td>2.012362</td>\n",
       "      <td>2.010153</td>\n",
       "      <td>2.648819</td>\n",
       "      <td>1</td>\n",
       "      <td>0</td>\n",
       "    </tr>\n",
       "    <tr>\n",
       "      <th>4</th>\n",
       "      <td>0.697600</td>\n",
       "      <td>2.009961</td>\n",
       "      <td>2.008564</td>\n",
       "      <td>2.009325</td>\n",
       "      <td>2.568877</td>\n",
       "      <td>2.009961</td>\n",
       "      <td>2.008564</td>\n",
       "      <td>2.009325</td>\n",
       "      <td>2.008925</td>\n",
       "      <td>2.568877</td>\n",
       "      <td>1</td>\n",
       "      <td>0</td>\n",
       "    </tr>\n",
       "  </tbody>\n",
       "</table>\n",
       "</div>"
      ],
      "text/plain": [
       "       open      high       low     close    volume  adj_high   adj_low  \\\n",
       "0  0.697918  2.011116  2.009474  2.010745  2.629556  2.011116  2.009474   \n",
       "1  0.698973  2.011894  2.008847  2.009486  2.629407  2.011894  2.008847   \n",
       "2  0.699804  2.013451  2.010933  2.011135  2.624792  2.013451  2.010933   \n",
       "3  0.698211  2.013341  2.009915  2.012362  2.648819  2.013341  2.009915   \n",
       "4  0.697600  2.009961  2.008564  2.009325  2.568877  2.009961  2.008564   \n",
       "\n",
       "   adj_close  adj_open  adj_volume  symbol  exchange  \n",
       "0   2.010745  2.009565    2.629556       1         0  \n",
       "1   2.009486  2.011685    2.629407       1         0  \n",
       "2   2.011135  2.013358    2.624792       1         0  \n",
       "3   2.012362  2.010153    2.648819       1         0  \n",
       "4   2.009325  2.008925    2.568877       1         0  "
      ]
     },
     "execution_count": 75,
     "metadata": {},
     "output_type": "execute_result"
    }
   ],
   "source": [
    "df.head()"
   ]
  },
  {
   "cell_type": "code",
   "execution_count": 76,
   "metadata": {},
   "outputs": [
    {
     "data": {
      "text/plain": [
       "MinMaxScaler()"
      ]
     },
     "execution_count": 76,
     "metadata": {},
     "output_type": "execute_result"
    }
   ],
   "source": [
    "from sklearn.preprocessing import MinMaxScaler\n",
    "scaler=MinMaxScaler()\n",
    "scaler.fit(df)"
   ]
  },
  {
   "cell_type": "code",
   "execution_count": 77,
   "metadata": {},
   "outputs": [
    {
     "data": {
      "text/plain": [
       "array([[0.86562566, 0.84696391, 0.848897  , ..., 0.14806899, 1.        ,\n",
       "        0.        ],\n",
       "       [0.86881266, 0.84828802, 0.84783794, ..., 0.14770596, 1.        ,\n",
       "        0.        ],\n",
       "       [0.87132445, 0.8509344 , 0.85136501, ..., 0.13644417, 1.        ,\n",
       "        0.        ],\n",
       "       ...,\n",
       "       [0.03759037, 0.02878727, 0.03342502, ..., 0.29461955, 0.        ,\n",
       "        1.        ],\n",
       "       [0.03419336, 0.02817109, 0.03089946, ..., 0.30638775, 0.        ,\n",
       "        1.        ],\n",
       "       [0.03797507, 0.0257202 , 0.02850191, ..., 0.40175884, 0.        ,\n",
       "        1.        ]])"
      ]
     },
     "execution_count": 77,
     "metadata": {},
     "output_type": "execute_result"
    }
   ],
   "source": [
    "scaler.transform(df)"
   ]
  },
  {
   "cell_type": "code",
   "execution_count": 79,
   "metadata": {},
   "outputs": [],
   "source": [
    "t=df.columns"
   ]
  },
  {
   "cell_type": "code",
   "execution_count": 80,
   "metadata": {},
   "outputs": [],
   "source": [
    "data=pd.DataFrame(scaler.transform(df),columns=t)"
   ]
  },
  {
   "cell_type": "code",
   "execution_count": 82,
   "metadata": {},
   "outputs": [
    {
     "data": {
      "text/html": [
       "<div>\n",
       "<style scoped>\n",
       "    .dataframe tbody tr th:only-of-type {\n",
       "        vertical-align: middle;\n",
       "    }\n",
       "\n",
       "    .dataframe tbody tr th {\n",
       "        vertical-align: top;\n",
       "    }\n",
       "\n",
       "    .dataframe thead th {\n",
       "        text-align: right;\n",
       "    }\n",
       "</style>\n",
       "<table border=\"1\" class=\"dataframe\">\n",
       "  <thead>\n",
       "    <tr style=\"text-align: right;\">\n",
       "      <th></th>\n",
       "      <th>open</th>\n",
       "      <th>high</th>\n",
       "      <th>low</th>\n",
       "      <th>close</th>\n",
       "      <th>volume</th>\n",
       "      <th>adj_high</th>\n",
       "      <th>adj_low</th>\n",
       "      <th>adj_close</th>\n",
       "      <th>adj_open</th>\n",
       "      <th>adj_volume</th>\n",
       "      <th>symbol</th>\n",
       "      <th>exchange</th>\n",
       "    </tr>\n",
       "  </thead>\n",
       "  <tbody>\n",
       "    <tr>\n",
       "      <th>0</th>\n",
       "      <td>0.865626</td>\n",
       "      <td>0.846964</td>\n",
       "      <td>0.848897</td>\n",
       "      <td>0.848015</td>\n",
       "      <td>0.148795</td>\n",
       "      <td>0.846964</td>\n",
       "      <td>0.848897</td>\n",
       "      <td>0.848015</td>\n",
       "      <td>0.845626</td>\n",
       "      <td>0.148069</td>\n",
       "      <td>1.0</td>\n",
       "      <td>0.0</td>\n",
       "    </tr>\n",
       "    <tr>\n",
       "      <th>1</th>\n",
       "      <td>0.868813</td>\n",
       "      <td>0.848288</td>\n",
       "      <td>0.847838</td>\n",
       "      <td>0.845881</td>\n",
       "      <td>0.148431</td>\n",
       "      <td>0.848288</td>\n",
       "      <td>0.847838</td>\n",
       "      <td>0.845881</td>\n",
       "      <td>0.849208</td>\n",
       "      <td>0.147706</td>\n",
       "      <td>1.0</td>\n",
       "      <td>0.0</td>\n",
       "    </tr>\n",
       "    <tr>\n",
       "      <th>2</th>\n",
       "      <td>0.871324</td>\n",
       "      <td>0.850934</td>\n",
       "      <td>0.851365</td>\n",
       "      <td>0.848677</td>\n",
       "      <td>0.137114</td>\n",
       "      <td>0.850934</td>\n",
       "      <td>0.851365</td>\n",
       "      <td>0.848677</td>\n",
       "      <td>0.852034</td>\n",
       "      <td>0.136444</td>\n",
       "      <td>1.0</td>\n",
       "      <td>0.0</td>\n",
       "    </tr>\n",
       "    <tr>\n",
       "      <th>3</th>\n",
       "      <td>0.866510</td>\n",
       "      <td>0.850748</td>\n",
       "      <td>0.849644</td>\n",
       "      <td>0.850757</td>\n",
       "      <td>0.196033</td>\n",
       "      <td>0.850748</td>\n",
       "      <td>0.849644</td>\n",
       "      <td>0.850757</td>\n",
       "      <td>0.846619</td>\n",
       "      <td>0.195076</td>\n",
       "      <td>1.0</td>\n",
       "      <td>0.0</td>\n",
       "    </tr>\n",
       "    <tr>\n",
       "      <th>4</th>\n",
       "      <td>0.864663</td>\n",
       "      <td>0.845000</td>\n",
       "      <td>0.847358</td>\n",
       "      <td>0.845607</td>\n",
       "      <td>0.000000</td>\n",
       "      <td>0.845000</td>\n",
       "      <td>0.847358</td>\n",
       "      <td>0.845607</td>\n",
       "      <td>0.844545</td>\n",
       "      <td>0.000000</td>\n",
       "      <td>1.0</td>\n",
       "      <td>0.0</td>\n",
       "    </tr>\n",
       "  </tbody>\n",
       "</table>\n",
       "</div>"
      ],
      "text/plain": [
       "       open      high       low     close    volume  adj_high   adj_low  \\\n",
       "0  0.865626  0.846964  0.848897  0.848015  0.148795  0.846964  0.848897   \n",
       "1  0.868813  0.848288  0.847838  0.845881  0.148431  0.848288  0.847838   \n",
       "2  0.871324  0.850934  0.851365  0.848677  0.137114  0.850934  0.851365   \n",
       "3  0.866510  0.850748  0.849644  0.850757  0.196033  0.850748  0.849644   \n",
       "4  0.864663  0.845000  0.847358  0.845607  0.000000  0.845000  0.847358   \n",
       "\n",
       "   adj_close  adj_open  adj_volume  symbol  exchange  \n",
       "0   0.848015  0.845626    0.148069     1.0       0.0  \n",
       "1   0.845881  0.849208    0.147706     1.0       0.0  \n",
       "2   0.848677  0.852034    0.136444     1.0       0.0  \n",
       "3   0.850757  0.846619    0.195076     1.0       0.0  \n",
       "4   0.845607  0.844545    0.000000     1.0       0.0  "
      ]
     },
     "execution_count": 82,
     "metadata": {},
     "output_type": "execute_result"
    }
   ],
   "source": [
    "data.head()"
   ]
  },
  {
   "cell_type": "code",
   "execution_count": 83,
   "metadata": {},
   "outputs": [],
   "source": [
    "## Feature selection"
   ]
  },
  {
   "cell_type": "code",
   "execution_count": 85,
   "metadata": {},
   "outputs": [
    {
     "data": {
      "text/plain": [
       "12"
      ]
     },
     "execution_count": 85,
     "metadata": {},
     "output_type": "execute_result"
    }
   ],
   "source": [
    "len(data.columns)"
   ]
  },
  {
   "cell_type": "code",
   "execution_count": 86,
   "metadata": {},
   "outputs": [],
   "source": [
    "## Capture the dependent feature\n",
    "y=data['open']\n",
    "X=df.drop('open',axis=1)"
   ]
  },
  {
   "cell_type": "code",
   "execution_count": 87,
   "metadata": {},
   "outputs": [],
   "source": [
    "## Apply feature selection"
   ]
  },
  {
   "cell_type": "code",
   "execution_count": 88,
   "metadata": {},
   "outputs": [],
   "source": [
    "from sklearn.linear_model import Lasso\n",
    "from sklearn.feature_selection import SelectFromModel"
   ]
  },
  {
   "cell_type": "code",
   "execution_count": 93,
   "metadata": {},
   "outputs": [
    {
     "name": "stderr",
     "output_type": "stream",
     "text": [
      "C:\\Users\\asus\\anaconda3\\lib\\site-packages\\sklearn\\linear_model\\_coordinate_descent.py:529: ConvergenceWarning: Objective did not converge. You might want to increase the number of iterations. Duality gap: 0.015598982443830067, tolerance: 0.011423226424458807\n",
      "  model = cd_fast.enet_coordinate_descent(\n"
     ]
    },
    {
     "data": {
      "text/plain": [
       "SelectFromModel(estimator=Lasso(alpha=0.005))"
      ]
     },
     "execution_count": 93,
     "metadata": {},
     "output_type": "execute_result"
    }
   ],
   "source": [
    "feauture_sel_model=SelectFromModel(Lasso(alpha=0.005))\n",
    "feauture_sel_model.fit(X,y)"
   ]
  },
  {
   "cell_type": "code",
   "execution_count": 95,
   "metadata": {},
   "outputs": [
    {
     "data": {
      "text/plain": [
       "array([ True,  True, False, False, False, False, False, False, False,\n",
       "       False,  True])"
      ]
     },
     "execution_count": 95,
     "metadata": {},
     "output_type": "execute_result"
    }
   ],
   "source": [
    "feauture_sel_model.get_support()"
   ]
  },
  {
   "cell_type": "code",
   "execution_count": 96,
   "metadata": {},
   "outputs": [
    {
     "data": {
      "text/html": [
       "<div>\n",
       "<style scoped>\n",
       "    .dataframe tbody tr th:only-of-type {\n",
       "        vertical-align: middle;\n",
       "    }\n",
       "\n",
       "    .dataframe tbody tr th {\n",
       "        vertical-align: top;\n",
       "    }\n",
       "\n",
       "    .dataframe thead th {\n",
       "        text-align: right;\n",
       "    }\n",
       "</style>\n",
       "<table border=\"1\" class=\"dataframe\">\n",
       "  <thead>\n",
       "    <tr style=\"text-align: right;\">\n",
       "      <th></th>\n",
       "      <th>open</th>\n",
       "      <th>high</th>\n",
       "      <th>low</th>\n",
       "      <th>close</th>\n",
       "      <th>volume</th>\n",
       "      <th>adj_high</th>\n",
       "      <th>adj_low</th>\n",
       "      <th>adj_close</th>\n",
       "      <th>adj_open</th>\n",
       "      <th>adj_volume</th>\n",
       "      <th>symbol</th>\n",
       "      <th>exchange</th>\n",
       "    </tr>\n",
       "  </thead>\n",
       "  <tbody>\n",
       "    <tr>\n",
       "      <th>0</th>\n",
       "      <td>0.697918</td>\n",
       "      <td>2.011116</td>\n",
       "      <td>2.009474</td>\n",
       "      <td>2.010745</td>\n",
       "      <td>2.629556</td>\n",
       "      <td>2.011116</td>\n",
       "      <td>2.009474</td>\n",
       "      <td>2.010745</td>\n",
       "      <td>2.009565</td>\n",
       "      <td>2.629556</td>\n",
       "      <td>1</td>\n",
       "      <td>0</td>\n",
       "    </tr>\n",
       "    <tr>\n",
       "      <th>1</th>\n",
       "      <td>0.698973</td>\n",
       "      <td>2.011894</td>\n",
       "      <td>2.008847</td>\n",
       "      <td>2.009486</td>\n",
       "      <td>2.629407</td>\n",
       "      <td>2.011894</td>\n",
       "      <td>2.008847</td>\n",
       "      <td>2.009486</td>\n",
       "      <td>2.011685</td>\n",
       "      <td>2.629407</td>\n",
       "      <td>1</td>\n",
       "      <td>0</td>\n",
       "    </tr>\n",
       "    <tr>\n",
       "      <th>2</th>\n",
       "      <td>0.699804</td>\n",
       "      <td>2.013451</td>\n",
       "      <td>2.010933</td>\n",
       "      <td>2.011135</td>\n",
       "      <td>2.624792</td>\n",
       "      <td>2.013451</td>\n",
       "      <td>2.010933</td>\n",
       "      <td>2.011135</td>\n",
       "      <td>2.013358</td>\n",
       "      <td>2.624792</td>\n",
       "      <td>1</td>\n",
       "      <td>0</td>\n",
       "    </tr>\n",
       "    <tr>\n",
       "      <th>3</th>\n",
       "      <td>0.698211</td>\n",
       "      <td>2.013341</td>\n",
       "      <td>2.009915</td>\n",
       "      <td>2.012362</td>\n",
       "      <td>2.648819</td>\n",
       "      <td>2.013341</td>\n",
       "      <td>2.009915</td>\n",
       "      <td>2.012362</td>\n",
       "      <td>2.010153</td>\n",
       "      <td>2.648819</td>\n",
       "      <td>1</td>\n",
       "      <td>0</td>\n",
       "    </tr>\n",
       "    <tr>\n",
       "      <th>4</th>\n",
       "      <td>0.697600</td>\n",
       "      <td>2.009961</td>\n",
       "      <td>2.008564</td>\n",
       "      <td>2.009325</td>\n",
       "      <td>2.568877</td>\n",
       "      <td>2.009961</td>\n",
       "      <td>2.008564</td>\n",
       "      <td>2.009325</td>\n",
       "      <td>2.008925</td>\n",
       "      <td>2.568877</td>\n",
       "      <td>1</td>\n",
       "      <td>0</td>\n",
       "    </tr>\n",
       "  </tbody>\n",
       "</table>\n",
       "</div>"
      ],
      "text/plain": [
       "       open      high       low     close    volume  adj_high   adj_low  \\\n",
       "0  0.697918  2.011116  2.009474  2.010745  2.629556  2.011116  2.009474   \n",
       "1  0.698973  2.011894  2.008847  2.009486  2.629407  2.011894  2.008847   \n",
       "2  0.699804  2.013451  2.010933  2.011135  2.624792  2.013451  2.010933   \n",
       "3  0.698211  2.013341  2.009915  2.012362  2.648819  2.013341  2.009915   \n",
       "4  0.697600  2.009961  2.008564  2.009325  2.568877  2.009961  2.008564   \n",
       "\n",
       "   adj_close  adj_open  adj_volume  symbol  exchange  \n",
       "0   2.010745  2.009565    2.629556       1         0  \n",
       "1   2.009486  2.011685    2.629407       1         0  \n",
       "2   2.011135  2.013358    2.624792       1         0  \n",
       "3   2.012362  2.010153    2.648819       1         0  \n",
       "4   2.009325  2.008925    2.568877       1         0  "
      ]
     },
     "execution_count": 96,
     "metadata": {},
     "output_type": "execute_result"
    }
   ],
   "source": [
    "df.head()"
   ]
  },
  {
   "cell_type": "code",
   "execution_count": null,
   "metadata": {},
   "outputs": [],
   "source": []
  },
  {
   "cell_type": "code",
   "execution_count": 97,
   "metadata": {},
   "outputs": [],
   "source": [
    "from sklearn.model_selection import train_test_split"
   ]
  },
  {
   "cell_type": "code",
   "execution_count": 98,
   "metadata": {},
   "outputs": [],
   "source": [
    "X_train,x_test,y_train,y_test=train_test_split(X,y,test_size=.2)"
   ]
  },
  {
   "cell_type": "code",
   "execution_count": 99,
   "metadata": {},
   "outputs": [
    {
     "data": {
      "text/plain": [
       "(1280, 11)"
      ]
     },
     "execution_count": 99,
     "metadata": {},
     "output_type": "execute_result"
    }
   ],
   "source": [
    "X_train.shape"
   ]
  },
  {
   "cell_type": "code",
   "execution_count": 100,
   "metadata": {},
   "outputs": [
    {
     "data": {
      "text/plain": [
       "(1280,)"
      ]
     },
     "execution_count": 100,
     "metadata": {},
     "output_type": "execute_result"
    }
   ],
   "source": [
    "y_train.shape"
   ]
  },
  {
   "cell_type": "code",
   "execution_count": 102,
   "metadata": {},
   "outputs": [
    {
     "data": {
      "text/plain": [
       "(1280, 11)"
      ]
     },
     "execution_count": 102,
     "metadata": {},
     "output_type": "execute_result"
    }
   ],
   "source": [
    "X_train.shape"
   ]
  },
  {
   "cell_type": "code",
   "execution_count": 103,
   "metadata": {},
   "outputs": [
    {
     "data": {
      "text/plain": [
       "(320,)"
      ]
     },
     "execution_count": 103,
     "metadata": {},
     "output_type": "execute_result"
    }
   ],
   "source": [
    "y_test.shape"
   ]
  },
  {
   "cell_type": "code",
   "execution_count": 104,
   "metadata": {},
   "outputs": [
    {
     "data": {
      "text/plain": [
       "0       0.865626\n",
       "1       0.868813\n",
       "2       0.871324\n",
       "3       0.866510\n",
       "4       0.864663\n",
       "          ...   \n",
       "1595    0.037419\n",
       "1596    0.040104\n",
       "1597    0.037590\n",
       "1598    0.034193\n",
       "1599    0.037975\n",
       "Name: open, Length: 1600, dtype: float64"
      ]
     },
     "execution_count": 104,
     "metadata": {},
     "output_type": "execute_result"
    }
   ],
   "source": [
    "y"
   ]
  },
  {
   "cell_type": "code",
   "execution_count": 105,
   "metadata": {},
   "outputs": [],
   "source": [
    "from sklearn.linear_model import LinearRegression"
   ]
  },
  {
   "cell_type": "code",
   "execution_count": 106,
   "metadata": {},
   "outputs": [],
   "source": [
    "lr=LinearRegression()"
   ]
  },
  {
   "cell_type": "code",
   "execution_count": 107,
   "metadata": {},
   "outputs": [
    {
     "data": {
      "text/plain": [
       "LinearRegression()"
      ]
     },
     "execution_count": 107,
     "metadata": {},
     "output_type": "execute_result"
    }
   ],
   "source": [
    "lr.fit(X_train,y_train)"
   ]
  },
  {
   "cell_type": "code",
   "execution_count": 109,
   "metadata": {},
   "outputs": [
    {
     "data": {
      "text/plain": [
       "0.9981301552006808"
      ]
     },
     "execution_count": 109,
     "metadata": {},
     "output_type": "execute_result"
    }
   ],
   "source": [
    "lr.score(x_test,y_test)"
   ]
  },
  {
   "cell_type": "code",
   "execution_count": 110,
   "metadata": {},
   "outputs": [],
   "source": [
    "from sklearn.linear_model import LogisticRegression"
   ]
  },
  {
   "cell_type": "code",
   "execution_count": 111,
   "metadata": {},
   "outputs": [],
   "source": [
    "lgist=LogisticRegression()"
   ]
  },
  {
   "cell_type": "code",
   "execution_count": 118,
   "metadata": {},
   "outputs": [
    {
     "ename": "ValueError",
     "evalue": "Unknown label type: 'continuous'",
     "output_type": "error",
     "traceback": [
      "\u001b[1;31m---------------------------------------------------------------------------\u001b[0m",
      "\u001b[1;31mValueError\u001b[0m                                Traceback (most recent call last)",
      "\u001b[1;32m<ipython-input-118-fc505700276e>\u001b[0m in \u001b[0;36m<module>\u001b[1;34m\u001b[0m\n\u001b[1;32m----> 1\u001b[1;33m \u001b[0mlgist\u001b[0m\u001b[1;33m.\u001b[0m\u001b[0mfit\u001b[0m\u001b[1;33m(\u001b[0m\u001b[0mX_train\u001b[0m \u001b[1;33m,\u001b[0m \u001b[0my_train\u001b[0m\u001b[1;33m)\u001b[0m\u001b[1;33m\u001b[0m\u001b[1;33m\u001b[0m\u001b[0m\n\u001b[0m",
      "\u001b[1;32m~\\anaconda3\\lib\\site-packages\\sklearn\\linear_model\\_logistic.py\u001b[0m in \u001b[0;36mfit\u001b[1;34m(self, X, y, sample_weight)\u001b[0m\n\u001b[0;32m   1343\u001b[0m                                    \u001b[0morder\u001b[0m\u001b[1;33m=\u001b[0m\u001b[1;34m\"C\"\u001b[0m\u001b[1;33m,\u001b[0m\u001b[1;33m\u001b[0m\u001b[1;33m\u001b[0m\u001b[0m\n\u001b[0;32m   1344\u001b[0m                                    accept_large_sparse=solver != 'liblinear')\n\u001b[1;32m-> 1345\u001b[1;33m         \u001b[0mcheck_classification_targets\u001b[0m\u001b[1;33m(\u001b[0m\u001b[0my\u001b[0m\u001b[1;33m)\u001b[0m\u001b[1;33m\u001b[0m\u001b[1;33m\u001b[0m\u001b[0m\n\u001b[0m\u001b[0;32m   1346\u001b[0m         \u001b[0mself\u001b[0m\u001b[1;33m.\u001b[0m\u001b[0mclasses_\u001b[0m \u001b[1;33m=\u001b[0m \u001b[0mnp\u001b[0m\u001b[1;33m.\u001b[0m\u001b[0munique\u001b[0m\u001b[1;33m(\u001b[0m\u001b[0my\u001b[0m\u001b[1;33m)\u001b[0m\u001b[1;33m\u001b[0m\u001b[1;33m\u001b[0m\u001b[0m\n\u001b[0;32m   1347\u001b[0m \u001b[1;33m\u001b[0m\u001b[0m\n",
      "\u001b[1;32m~\\anaconda3\\lib\\site-packages\\sklearn\\utils\\multiclass.py\u001b[0m in \u001b[0;36mcheck_classification_targets\u001b[1;34m(y)\u001b[0m\n\u001b[0;32m    170\u001b[0m     if y_type not in ['binary', 'multiclass', 'multiclass-multioutput',\n\u001b[0;32m    171\u001b[0m                       'multilabel-indicator', 'multilabel-sequences']:\n\u001b[1;32m--> 172\u001b[1;33m         \u001b[1;32mraise\u001b[0m \u001b[0mValueError\u001b[0m\u001b[1;33m(\u001b[0m\u001b[1;34m\"Unknown label type: %r\"\u001b[0m \u001b[1;33m%\u001b[0m \u001b[0my_type\u001b[0m\u001b[1;33m)\u001b[0m\u001b[1;33m\u001b[0m\u001b[1;33m\u001b[0m\u001b[0m\n\u001b[0m\u001b[0;32m    173\u001b[0m \u001b[1;33m\u001b[0m\u001b[0m\n\u001b[0;32m    174\u001b[0m \u001b[1;33m\u001b[0m\u001b[0m\n",
      "\u001b[1;31mValueError\u001b[0m: Unknown label type: 'continuous'"
     ]
    }
   ],
   "source": [
    "lgist.fit(X_train , y_train)"
   ]
  },
  {
   "cell_type": "code",
   "execution_count": 121,
   "metadata": {},
   "outputs": [],
   "source": [
    "from sklearn.svm import SVR\n",
    "support=SVR(kernel='linear')"
   ]
  },
  {
   "cell_type": "code",
   "execution_count": 122,
   "metadata": {},
   "outputs": [
    {
     "data": {
      "text/plain": [
       "SVR(kernel='linear')"
      ]
     },
     "execution_count": 122,
     "metadata": {},
     "output_type": "execute_result"
    }
   ],
   "source": [
    "support.fit(X_train,y_train)"
   ]
  },
  {
   "cell_type": "code",
   "execution_count": 123,
   "metadata": {},
   "outputs": [
    {
     "data": {
      "text/plain": [
       "0.9591463969877512"
      ]
     },
     "execution_count": 123,
     "metadata": {},
     "output_type": "execute_result"
    }
   ],
   "source": [
    "support.score(x_test,y_test)"
   ]
  },
  {
   "cell_type": "code",
   "execution_count": 125,
   "metadata": {},
   "outputs": [
    {
     "data": {
      "text/plain": [
       "array([0.89286541])"
      ]
     },
     "execution_count": 125,
     "metadata": {},
     "output_type": "execute_result"
    }
   ],
   "source": [
    "support.predict([X.iloc[0]])"
   ]
  },
  {
   "cell_type": "code",
   "execution_count": null,
   "metadata": {},
   "outputs": [],
   "source": []
  }
 ],
 "metadata": {
  "kernelspec": {
   "display_name": "Python 3",
   "language": "python",
   "name": "python3"
  },
  "language_info": {
   "codemirror_mode": {
    "name": "ipython",
    "version": 3
   },
   "file_extension": ".py",
   "mimetype": "text/x-python",
   "name": "python",
   "nbconvert_exporter": "python",
   "pygments_lexer": "ipython3",
   "version": "3.8.5"
  }
 },
 "nbformat": 4,
 "nbformat_minor": 4
}
