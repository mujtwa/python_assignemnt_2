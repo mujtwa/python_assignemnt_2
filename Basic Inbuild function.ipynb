{
 "cells": [
  {
   "cell_type": "code",
   "execution_count": 1,
   "metadata": {},
   "outputs": [
    {
     "name": "stdout",
     "output_type": "stream",
     "text": [
      "1\n",
      "2\n",
      "3\n",
      "4\n"
     ]
    }
   ],
   "source": [
    "l=[1,2,3,4]\n",
    "for i in l:\n",
    "    print(i)"
   ]
  },
  {
   "cell_type": "code",
   "execution_count": 2,
   "metadata": {},
   "outputs": [
    {
     "name": "stdout",
     "output_type": "stream",
     "text": [
      "1\n",
      "2\n",
      "3\n",
      "4\n",
      "this will execute after completing the for loop \n"
     ]
    }
   ],
   "source": [
    "for i in l: # for else statement\n",
    "    print(i)\n",
    "else:\n",
    "    print(\"this will execute after completing the for loop \")"
   ]
  },
  {
   "cell_type": "code",
   "execution_count": 4,
   "metadata": {},
   "outputs": [
    {
     "name": "stdout",
     "output_type": "stream",
     "text": [
      "1\n",
      "2\n",
      "3\n",
      "4\n",
      "break the statement\n"
     ]
    }
   ],
   "source": [
    "for i in l:# for loop is not complete here that why else will not execute \n",
    "    print(i)\n",
    "    if i==4:\n",
    "        print(\"break the statement\")\n",
    "        break\n",
    "else:\n",
    "    print(\"it will execute this once for loop will be able to execute it self\")"
   ]
  },
  {
   "cell_type": "code",
   "execution_count": 5,
   "metadata": {},
   "outputs": [
    {
     "name": "stdout",
     "output_type": "stream",
     "text": [
      "1\n",
      "2\n",
      "3\n",
      "4\n",
      "amujta\n"
     ]
    }
   ],
   "source": [
    "for i in l:\n",
    "    print(i)\n",
    "else:\n",
    "    print(\"amujta\")"
   ]
  },
  {
   "cell_type": "code",
   "execution_count": 9,
   "metadata": {},
   "outputs": [
    {
     "name": "stdout",
     "output_type": "stream",
     "text": [
      "* \r\n",
      "* * \r\n",
      "* * * \r\n",
      "* * * * \r\n",
      "* * * * * \r\n",
      "* * * * * * \r\n",
      "* * * * * * * \r\n"
     ]
    }
   ],
   "source": [
    "for i in range(0,7):\n",
    "    for j in range(0,i+1):\n",
    "        print(\"*\",end=\" \")\n",
    "    print(\"\\r\")   "
   ]
  },
  {
   "cell_type": "code",
   "execution_count": 11,
   "metadata": {},
   "outputs": [
    {
     "name": "stdout",
     "output_type": "stream",
     "text": [
      "*\n",
      "*\n",
      "*\n",
      "*\n",
      "*\n",
      "*\n",
      "*\n"
     ]
    }
   ],
   "source": [
    "for i in range(7):\n",
    "    print(\"*\")"
   ]
  },
  {
   "cell_type": "code",
   "execution_count": 2,
   "metadata": {},
   "outputs": [
    {
     "name": "stdout",
     "output_type": "stream",
     "text": [
      "*\r\n",
      "**\r\n",
      "***\r\n",
      "****\r\n",
      "*****\r\n",
      "******\r\n",
      "*******\r\n",
      "********\r\n"
     ]
    }
   ],
   "source": [
    "for i in range(0,8):\n",
    "    for j in range(0,i+1):\n",
    "        print(\"*\",end=\"\")\n",
    "    print(\"\\r\")  #print(\"\\n\") both are same there is one difference between them first    "
   ]
  },
  {
   "cell_type": "code",
   "execution_count": 3,
   "metadata": {},
   "outputs": [
    {
     "name": "stdout",
     "output_type": "stream",
     "text": [
      "0\n",
      "1\n",
      "2\n",
      "3\n",
      "4\n",
      "5\n",
      "6\n",
      "7\n",
      "8\n",
      "9\n",
      "10\n"
     ]
    }
   ],
   "source": [
    "i=0\n",
    "while i<=10:\n",
    "    print(i)\n",
    "    i+=1"
   ]
  },
  {
   "cell_type": "code",
   "execution_count": 4,
   "metadata": {},
   "outputs": [
    {
     "name": "stdout",
     "output_type": "stream",
     "text": [
      "this is a valid statement\n"
     ]
    }
   ],
   "source": [
    "a=7\n",
    "while a<=7:\n",
    "    print(\"this is a valid statement\")\n",
    "    a=a+1"
   ]
  },
  {
   "cell_type": "code",
   "execution_count": 5,
   "metadata": {},
   "outputs": [
    {
     "data": {
      "text/plain": [
       "False"
      ]
     },
     "execution_count": 5,
     "metadata": {},
     "output_type": "execute_result"
    }
   ],
   "source": [
    "a<=7 # beacuse now a is increamented"
   ]
  },
  {
   "cell_type": "code",
   "execution_count": 9,
   "metadata": {},
   "outputs": [
    {
     "name": "stdout",
     "output_type": "stream",
     "text": [
      "1\n",
      "2\n",
      "3\n",
      "6\n",
      "7\n",
      "8\n",
      "9\n",
      "10\n",
      "11\n"
     ]
    }
   ],
   "source": [
    "i=0\n",
    "while i<=10:\n",
    "    i=i+1\n",
    "    if i==4 or i==5:\n",
    "        continue\n",
    "    print(i)    "
   ]
  },
  {
   "cell_type": "code",
   "execution_count": 11,
   "metadata": {},
   "outputs": [
    {
     "name": "stdout",
     "output_type": "stream",
     "text": [
      "0\n",
      "1\n",
      "2\n",
      "3\n",
      "5\n",
      "6\n",
      "7\n",
      "8\n",
      "9\n",
      "check\n"
     ]
    }
   ],
   "source": [
    "for i in range(10):\n",
    "    if i==4:\n",
    "        continue\n",
    "    print(i)\n",
    "else:\n",
    "    print(\"check\")"
   ]
  },
  {
   "cell_type": "code",
   "execution_count": 13,
   "metadata": {},
   "outputs": [],
   "source": [
    "for i in range(12):\n",
    "    pass # keyword if we do not want to write in the body of anything"
   ]
  },
  {
   "cell_type": "code",
   "execution_count": 19,
   "metadata": {},
   "outputs": [],
   "source": [
    "i=34\n",
    "if a>10:\n",
    "    pass\n",
    "    "
   ]
  },
  {
   "cell_type": "code",
   "execution_count": 22,
   "metadata": {},
   "outputs": [],
   "source": [
    "i=1\n",
    "if a>10:\n",
    "    print(\"True\")\n",
    "else:\n",
    "    pass"
   ]
  },
  {
   "cell_type": "code",
   "execution_count": 24,
   "metadata": {},
   "outputs": [
    {
     "name": "stdout",
     "output_type": "stream",
     "text": [
      "2\n",
      "3\n",
      "4\n",
      "5\n",
      "6\n",
      "7\n",
      "8\n",
      "9\n",
      "10\n"
     ]
    }
   ],
   "source": [
    "i=1\n",
    "while i<10:\n",
    "    i+=1 # \n",
    "    print(i)"
   ]
  },
  {
   "cell_type": "code",
   "execution_count": 25,
   "metadata": {},
   "outputs": [],
   "source": [
    "s=\"mujtaba\""
   ]
  },
  {
   "cell_type": "code",
   "execution_count": 26,
   "metadata": {},
   "outputs": [
    {
     "data": {
      "text/plain": [
       "7"
      ]
     },
     "execution_count": 26,
     "metadata": {},
     "output_type": "execute_result"
    }
   ],
   "source": [
    "len(s)"
   ]
  },
  {
   "cell_type": "code",
   "execution_count": 29,
   "metadata": {},
   "outputs": [
    {
     "data": {
      "text/plain": [
       "4"
      ]
     },
     "execution_count": 29,
     "metadata": {},
     "output_type": "execute_result"
    }
   ],
   "source": [
    "s.find(\"a\") # retuens index number"
   ]
  },
  {
   "cell_type": "code",
   "execution_count": 30,
   "metadata": {},
   "outputs": [
    {
     "data": {
      "text/plain": [
       "2"
      ]
     },
     "execution_count": 30,
     "metadata": {},
     "output_type": "execute_result"
    }
   ],
   "source": [
    "s.count(\"a\") # count functions"
   ]
  },
  {
   "cell_type": "code",
   "execution_count": null,
   "metadata": {},
   "outputs": [],
   "source": []
  },
  {
   "cell_type": "code",
   "execution_count": 31,
   "metadata": {},
   "outputs": [
    {
     "data": {
      "text/plain": [
       "4"
      ]
     },
     "execution_count": 31,
     "metadata": {},
     "output_type": "execute_result"
    }
   ],
   "source": [
    "s.find(\"a\")"
   ]
  },
  {
   "cell_type": "code",
   "execution_count": 34,
   "metadata": {},
   "outputs": [
    {
     "data": {
      "text/plain": [
       "1"
      ]
     },
     "execution_count": 34,
     "metadata": {},
     "output_type": "execute_result"
    }
   ],
   "source": [
    "s.count(\"mu\")"
   ]
  },
  {
   "cell_type": "code",
   "execution_count": 35,
   "metadata": {},
   "outputs": [
    {
     "data": {
      "text/plain": [
       "0"
      ]
     },
     "execution_count": 35,
     "metadata": {},
     "output_type": "execute_result"
    }
   ],
   "source": [
    "s.count(\"M\") # this is case sensitive "
   ]
  },
  {
   "cell_type": "code",
   "execution_count": 37,
   "metadata": {},
   "outputs": [
    {
     "data": {
      "text/plain": [
       "-1"
      ]
     },
     "execution_count": 37,
     "metadata": {},
     "output_type": "execute_result"
    }
   ],
   "source": [
    "s.find(\"asdfsd\")"
   ]
  },
  {
   "cell_type": "code",
   "execution_count": 38,
   "metadata": {},
   "outputs": [
    {
     "data": {
      "text/plain": [
       "['mujt', 'b', '']"
      ]
     },
     "execution_count": 38,
     "metadata": {},
     "output_type": "execute_result"
    }
   ],
   "source": [
    "s.split(\"a\") # create a list "
   ]
  },
  {
   "cell_type": "code",
   "execution_count": 41,
   "metadata": {},
   "outputs": [
    {
     "name": "stdout",
     "output_type": "stream",
     "text": [
      "sfdfs\n",
      "gwrew\n",
      "sdgdge\n",
      "sdf\n",
      "wfsdgf\n",
      "d\n",
      "dfg\n"
     ]
    }
   ],
   "source": [
    "s=\"sfdfs,gwrew,sdgdge,sdf,wfsdgf,d,dfg\"\n",
    "for  i in s.split(\",\"):\n",
    "    print(i)"
   ]
  },
  {
   "cell_type": "code",
   "execution_count": 43,
   "metadata": {},
   "outputs": [
    {
     "name": "stdout",
     "output_type": "stream",
     "text": [
      "asmfsa\n",
      "dsgds\n",
      "ress\n",
      "gsd\n",
      "fw\n",
      "gsdfwa\n",
      "f\n",
      "sdf\n"
     ]
    }
   ],
   "source": [
    "s=\"asmfsa,dsgds,ress,gsd,fw,gsdfwa,f,sdf\"\n",
    "for i in s.split(\",\"):\n",
    "    print(i)"
   ]
  },
  {
   "cell_type": "code",
   "execution_count": 46,
   "metadata": {},
   "outputs": [],
   "source": [
    "s=\"\"\"\"ound this helpful. Do you? \n",
    "Yes\n",
    " \n",
    "No\n",
    " | Report abuse\n",
    "If you want to get the Amazon appstore app. You need to Google it and install it. Google play does not list it or least I could not find it.\n",
    "\n",
    "Amazon Customer · November 21, 2020\n",
    "0 of 1 found this helpful. Do you? \n",
    "Yes\n",
    " \n",
    "No\n",
    " | Report abuse\n",
    "I also couldn't get Jeremy's solution to work even thoiugh I have the same OS version as he has. I suspect that it may be due to not opening up each app in turn after installalation.\n",
    "I'm going to try redskull's \"Install Google Play Store On The Amazon Fire Tablet - Super easy!\" an see if that works. Will this void the warranty?\n",
    "\n",
    "Dr RJP · February 19, 2017\n",
    "2 of 2 found this helpful. Do you? \n",
    "Yes\n",
    " \n",
    "No\n",
    " | Report abuse\n",
    "You can get Google play store on Amazon. Look up a video on YouTube by Kevin breeze. He has all the all pkgs to download.\n",
    "Go into settings> device security> allow apps from unknown sources to ON\n",
    "Go into settings> device options> serial number> keep clicking on the serial number and it opens developer options> turn o… see more\n",
    "\n",
    "Saltwater🏝Soul · December 5, 2017\"\"\""
   ]
  },
  {
   "cell_type": "code",
   "execution_count": 47,
   "metadata": {},
   "outputs": [
    {
     "data": {
      "text/plain": [
       "'\"ound this helpful. Do you? \\nYes\\n \\nNo\\n | Report abuse\\nIf you want to get the Amazon appstore app. You need to Google it and install it. Google play does not list it or least I could not find it.\\n\\nAmazon Customer · November 21, 2020\\n0 of 1 found this helpful. Do you? \\nYes\\n \\nNo\\n | Report abuse\\nI also couldn\\'t get Jeremy\\'s solution to work even thoiugh I have the same OS version as he has. I suspect that it may be due to not opening up each app in turn after installalation.\\nI\\'m going to try redskull\\'s \"Install Google Play Store On The Amazon Fire Tablet - Super easy!\" an see if that works. Will this void the warranty?\\n\\nDr RJP · February 19, 2017\\n2 of 2 found this helpful. Do you? \\nYes\\n \\nNo\\n | Report abuse\\nYou can get Google play store on Amazon. Look up a video on YouTube by Kevin breeze. He has all the all pkgs to download.\\nGo into settings> device security> allow apps from unknown sources to ON\\nGo into settings> device options> serial number> keep clicking on the serial number and it opens developer options> turn o… see more\\n\\nSaltwater🏝Soul · December 5, 2017'"
      ]
     },
     "execution_count": 47,
     "metadata": {},
     "output_type": "execute_result"
    }
   ],
   "source": [
    "s"
   ]
  },
  {
   "cell_type": "code",
   "execution_count": 49,
   "metadata": {},
   "outputs": [
    {
     "data": {
      "text/plain": [
       "['\"ound this helpful. Do you? ',\n",
       " 'Yes',\n",
       " ' ',\n",
       " 'No',\n",
       " ' | Report abuse',\n",
       " 'If you want to get the Amazon appstore app. You need to Google it and install it. Google play does not list it or least I could not find it.',\n",
       " '',\n",
       " 'Amazon Customer · November 21, 2020',\n",
       " '0 of 1 found this helpful. Do you? ',\n",
       " 'Yes',\n",
       " ' ',\n",
       " 'No',\n",
       " ' | Report abuse',\n",
       " \"I also couldn't get Jeremy's solution to work even thoiugh I have the same OS version as he has. I suspect that it may be due to not opening up each app in turn after installalation.\",\n",
       " 'I\\'m going to try redskull\\'s \"Install Google Play Store On The Amazon Fire Tablet - Super easy!\" an see if that works. Will this void the warranty?',\n",
       " '',\n",
       " 'Dr RJP · February 19, 2017',\n",
       " '2 of 2 found this helpful. Do you? ',\n",
       " 'Yes',\n",
       " ' ',\n",
       " 'No',\n",
       " ' | Report abuse',\n",
       " 'You can get Google play store on Amazon. Look up a video on YouTube by Kevin breeze. He has all the all pkgs to download.',\n",
       " 'Go into settings> device security> allow apps from unknown sources to ON',\n",
       " 'Go into settings> device options> serial number> keep clicking on the serial number and it opens developer options> turn o… see more',\n",
       " '',\n",
       " 'Saltwater🏝Soul · December 5, 2017']"
      ]
     },
     "execution_count": 49,
     "metadata": {},
     "output_type": "execute_result"
    }
   ],
   "source": [
    "s.split(\"\\n\")"
   ]
  },
  {
   "cell_type": "code",
   "execution_count": 51,
   "metadata": {},
   "outputs": [
    {
     "name": "stdout",
     "output_type": "stream",
     "text": [
      "\"ound this helpful\n",
      " Do you? \n",
      "Yes\n",
      " \n",
      "No\n",
      " | Report abuse\n",
      "If you want to get the Amazon appstore app\n",
      " You need to Google it and install it\n",
      " Google play does not list it or least I could not find it\n",
      "\n",
      "\n",
      "Amazon Customer · November 21, 2020\n",
      "0 of 1 found this helpful\n",
      " Do you? \n",
      "Yes\n",
      " \n",
      "No\n",
      " | Report abuse\n",
      "I also couldn't get Jeremy's solution to work even thoiugh I have the same OS version as he has\n",
      " I suspect that it may be due to not opening up each app in turn after installalation\n",
      "\n",
      "I'm going to try redskull's \"Install Google Play Store On The Amazon Fire Tablet - Super easy!\" an see if that works\n",
      " Will this void the warranty?\n",
      "\n",
      "Dr RJP · February 19, 2017\n",
      "2 of 2 found this helpful\n",
      " Do you? \n",
      "Yes\n",
      " \n",
      "No\n",
      " | Report abuse\n",
      "You can get Google play store on Amazon\n",
      " Look up a video on YouTube by Kevin breeze\n",
      " He has all the all pkgs to download\n",
      "\n",
      "Go into settings> device security> allow apps from unknown sources to ON\n",
      "Go into settings> device options> serial number> keep clicking on the serial number and it opens developer options> turn o… see more\n",
      "\n",
      "Saltwater🏝Soul · December 5, 2017\n"
     ]
    }
   ],
   "source": [
    " for i in s.split(\".\"):\n",
    "        print(i)"
   ]
  },
  {
   "cell_type": "code",
   "execution_count": 52,
   "metadata": {},
   "outputs": [
    {
     "data": {
      "text/plain": [
       "'\"ound this helpful. Do you? \\nYes\\n \\nNo\\n | Report abuse\\nIf you want to get the Amazon appstore app. You need to Google it and install it. Google play does not list it or least I could not find it.\\n\\nAmazon Customer · November 21, 2020\\n0 of 1 found this helpful. Do you? \\nYes\\n \\nNo\\n | Report abuse\\nI also couldn\\'t get Jeremy\\'s solution to work even thoiugh I have the same OS version as he has. I suspect that it may be due to not opening up each app in turn after installalation.\\nI\\'m going to try redskull\\'s \"Install Google Play Store On The Amazon Fire Tablet - Super easy!\" an see if that works. Will this void the warranty?\\n\\nDr RJP · February 19, 2017\\n2 of 2 found this helpful. Do you? \\nYes\\n \\nNo\\n | Report abuse\\nYou can get Google play store on Amazon. Look up a video on YouTube by Kevin breeze. He has all the all pkgs to download.\\nGo into settings> device security> allow apps from unknown sources to ON\\nGo into settings> device options> serial number> keep clicking on the serial number and it opens developer options> turn o… see more\\n\\nSaltwater🏝Soul · December 5, 2017'"
      ]
     },
     "execution_count": 52,
     "metadata": {},
     "output_type": "execute_result"
    }
   ],
   "source": [
    "s"
   ]
  },
  {
   "cell_type": "code",
   "execution_count": null,
   "metadata": {},
   "outputs": [],
   "source": []
  },
  {
   "cell_type": "code",
   "execution_count": 54,
   "metadata": {},
   "outputs": [
    {
     "data": {
      "text/plain": [
       "'\\nGo into settings> device security> allow apps from unknown sources to ON\\nGo into settings> device options> serial number> keep clicking on the serial number and it opens developer options> turn o… see more\\n\\nSaltwater🏝Soul · December 5, 2017'"
      ]
     },
     "execution_count": 54,
     "metadata": {},
     "output_type": "execute_result"
    }
   ],
   "source": [
    "s[-1]"
   ]
  },
  {
   "cell_type": "code",
   "execution_count": 56,
   "metadata": {},
   "outputs": [
    {
     "data": {
      "text/plain": [
       "['\"ound this helpful',\n",
       " ' Do you? \\nYes\\n \\nNo\\n | Report abuse\\nIf you want to get the Amazon appstore app',\n",
       " ' You need to Google it and install it',\n",
       " ' Google play does not list it or least I could not find it',\n",
       " '\\n\\nAmazon Customer · November 21, 2020\\n0 of 1 found this helpful',\n",
       " \" Do you? \\nYes\\n \\nNo\\n | Report abuse\\nI also couldn't get Jeremy's solution to work even thoiugh I have the same OS version as he has\",\n",
       " ' I suspect that it may be due to not opening up each app in turn after installalation',\n",
       " '\\nI\\'m going to try redskull\\'s \"Install Google Play Store On The Amazon Fire Tablet - Super easy!\" an see if that works',\n",
       " ' Will this void the warranty?\\n\\nDr RJP · February 19, 2017\\n2 of 2 found this helpful',\n",
       " ' Do you? \\nYes\\n \\nNo\\n | Report abuse\\nYou can get Google play store on Amazon',\n",
       " ' Look up a video on YouTube by Kevin breeze',\n",
       " ' He has all the all pkgs to download',\n",
       " '\\nGo into settings> device security> allow apps from unknown sources to ON\\nGo into settings> device options> serial number> keep clicking on the serial number and it opens developer options> turn o… see more\\n\\nSaltwater🏝Soul · December 5, 2017']"
      ]
     },
     "execution_count": 56,
     "metadata": {},
     "output_type": "execute_result"
    }
   ],
   "source": [
    "s"
   ]
  },
  {
   "cell_type": "code",
   "execution_count": 58,
   "metadata": {},
   "outputs": [
    {
     "ename": "AttributeError",
     "evalue": "'list' object has no attribute 'lowe'",
     "output_type": "error",
     "traceback": [
      "\u001b[1;31m---------------------------------------------------------------------------\u001b[0m",
      "\u001b[1;31mAttributeError\u001b[0m                            Traceback (most recent call last)",
      "\u001b[1;32m<ipython-input-58-c12239155cf5>\u001b[0m in \u001b[0;36m<module>\u001b[1;34m\u001b[0m\n\u001b[1;32m----> 1\u001b[1;33m \u001b[0ms\u001b[0m\u001b[1;33m.\u001b[0m\u001b[0mlowe\u001b[0m\u001b[1;33m\u001b[0m\u001b[1;33m\u001b[0m\u001b[0m\n\u001b[0m",
      "\u001b[1;31mAttributeError\u001b[0m: 'list' object has no attribute 'lowe'"
     ]
    }
   ],
   "source": []
  },
  {
   "cell_type": "code",
   "execution_count": 59,
   "metadata": {},
   "outputs": [
    {
     "data": {
      "text/plain": [
       "['\"ound this helpful',\n",
       " ' Do you? \\nYes\\n \\nNo\\n | Report abuse\\nIf you want to get the Amazon appstore app',\n",
       " ' You need to Google it and install it',\n",
       " ' Google play does not list it or least I could not find it',\n",
       " '\\n\\nAmazon Customer · November 21, 2020\\n0 of 1 found this helpful',\n",
       " \" Do you? \\nYes\\n \\nNo\\n | Report abuse\\nI also couldn't get Jeremy's solution to work even thoiugh I have the same OS version as he has\",\n",
       " ' I suspect that it may be due to not opening up each app in turn after installalation',\n",
       " '\\nI\\'m going to try redskull\\'s \"Install Google Play Store On The Amazon Fire Tablet - Super easy!\" an see if that works',\n",
       " ' Will this void the warranty?\\n\\nDr RJP · February 19, 2017\\n2 of 2 found this helpful',\n",
       " ' Do you? \\nYes\\n \\nNo\\n | Report abuse\\nYou can get Google play store on Amazon',\n",
       " ' Look up a video on YouTube by Kevin breeze',\n",
       " ' He has all the all pkgs to download',\n",
       " '\\nGo into settings> device security> allow apps from unknown sources to ON\\nGo into settings> device options> serial number> keep clicking on the serial number and it opens developer options> turn o… see more\\n\\nSaltwater🏝Soul · December 5, 2017']"
      ]
     },
     "execution_count": 59,
     "metadata": {},
     "output_type": "execute_result"
    }
   ],
   "source": [
    "s"
   ]
  },
  {
   "cell_type": "code",
   "execution_count": 60,
   "metadata": {},
   "outputs": [],
   "source": [
    "s=\"\"\"\"ound this helpful. Do you? \n",
    "Yes\n",
    " \n",
    "No\n",
    " | Report abuse\n",
    "If you want to get the Amazon appstore app. You need to Google it and install it. Google play does not list it or least I could not find it.\n",
    "\n",
    "Amazon Customer · November 21, 2020\n",
    "0 of 1 found this helpful. Do you? \n",
    "Yes\n",
    " \n",
    "No\n",
    " | Report abuse\n",
    "I also couldn't get Jeremy's solution to work even thoiugh I have the same OS version as he has. I suspect that it may be due to not opening up each app in turn after installalation.\n",
    "I'm going to try redskull's \"Install Google Play Store On The Amazon Fire Tablet - Super easy!\" an see if that works. Will this void the warranty?\n",
    "\n",
    "Dr RJP · February 19, 2017\n",
    "2 of 2 found this helpful. Do you? \n",
    "Yes\n",
    " \n",
    "No\n",
    " | Report abuse\n",
    "You can get Google play store on Amazon. Look up a video on YouTube by Kevin breeze. He has all the all pkgs to download.\n",
    "Go into settings> device security> allow apps from unknown sources to ON\n",
    "Go into settings> device options> serial number> keep clicking on the serial number and it opens developer options> turn o… see more\n",
    "\n",
    "Saltwater🏝Soul · December 5, 2017\"\"\""
   ]
  },
  {
   "cell_type": "code",
   "execution_count": 61,
   "metadata": {},
   "outputs": [
    {
     "data": {
      "text/plain": [
       "'\"ound this helpful. do you? \\nyes\\n \\nno\\n | report abuse\\nif you want to get the amazon appstore app. you need to google it and install it. google play does not list it or least i could not find it.\\n\\namazon customer · november 21, 2020\\n0 of 1 found this helpful. do you? \\nyes\\n \\nno\\n | report abuse\\ni also couldn\\'t get jeremy\\'s solution to work even thoiugh i have the same os version as he has. i suspect that it may be due to not opening up each app in turn after installalation.\\ni\\'m going to try redskull\\'s \"install google play store on the amazon fire tablet - super easy!\" an see if that works. will this void the warranty?\\n\\ndr rjp · february 19, 2017\\n2 of 2 found this helpful. do you? \\nyes\\n \\nno\\n | report abuse\\nyou can get google play store on amazon. look up a video on youtube by kevin breeze. he has all the all pkgs to download.\\ngo into settings> device security> allow apps from unknown sources to on\\ngo into settings> device options> serial number> keep clicking on the serial number and it opens developer options> turn o… see more\\n\\nsaltwater🏝soul · december 5, 2017'"
      ]
     },
     "execution_count": 61,
     "metadata": {},
     "output_type": "execute_result"
    }
   ],
   "source": [
    "s.lower()"
   ]
  },
  {
   "cell_type": "code",
   "execution_count": 62,
   "metadata": {},
   "outputs": [
    {
     "data": {
      "text/plain": [
       "'\"OUND THIS HELPFUL. DO YOU? \\nYES\\n \\nNO\\n | REPORT ABUSE\\nIF YOU WANT TO GET THE AMAZON APPSTORE APP. YOU NEED TO GOOGLE IT AND INSTALL IT. GOOGLE PLAY DOES NOT LIST IT OR LEAST I COULD NOT FIND IT.\\n\\nAMAZON CUSTOMER · NOVEMBER 21, 2020\\n0 OF 1 FOUND THIS HELPFUL. DO YOU? \\nYES\\n \\nNO\\n | REPORT ABUSE\\nI ALSO COULDN\\'T GET JEREMY\\'S SOLUTION TO WORK EVEN THOIUGH I HAVE THE SAME OS VERSION AS HE HAS. I SUSPECT THAT IT MAY BE DUE TO NOT OPENING UP EACH APP IN TURN AFTER INSTALLALATION.\\nI\\'M GOING TO TRY REDSKULL\\'S \"INSTALL GOOGLE PLAY STORE ON THE AMAZON FIRE TABLET - SUPER EASY!\" AN SEE IF THAT WORKS. WILL THIS VOID THE WARRANTY?\\n\\nDR RJP · FEBRUARY 19, 2017\\n2 OF 2 FOUND THIS HELPFUL. DO YOU? \\nYES\\n \\nNO\\n | REPORT ABUSE\\nYOU CAN GET GOOGLE PLAY STORE ON AMAZON. LOOK UP A VIDEO ON YOUTUBE BY KEVIN BREEZE. HE HAS ALL THE ALL PKGS TO DOWNLOAD.\\nGO INTO SETTINGS> DEVICE SECURITY> ALLOW APPS FROM UNKNOWN SOURCES TO ON\\nGO INTO SETTINGS> DEVICE OPTIONS> SERIAL NUMBER> KEEP CLICKING ON THE SERIAL NUMBER AND IT OPENS DEVELOPER OPTIONS> TURN O… SEE MORE\\n\\nSALTWATER🏝SOUL · DECEMBER 5, 2017'"
      ]
     },
     "execution_count": 62,
     "metadata": {},
     "output_type": "execute_result"
    }
   ],
   "source": [
    "s.upper()"
   ]
  },
  {
   "cell_type": "code",
   "execution_count": 63,
   "metadata": {},
   "outputs": [
    {
     "data": {
      "text/plain": [
       "'\"Ound This Helpful. Do You? \\nYes\\n \\nNo\\n | Report Abuse\\nIf You Want To Get The Amazon Appstore App. You Need To Google It And Install It. Google Play Does Not List It Or Least I Could Not Find It.\\n\\nAmazon Customer · November 21, 2020\\n0 Of 1 Found This Helpful. Do You? \\nYes\\n \\nNo\\n | Report Abuse\\nI Also Couldn\\'T Get Jeremy\\'S Solution To Work Even Thoiugh I Have The Same Os Version As He Has. I Suspect That It May Be Due To Not Opening Up Each App In Turn After Installalation.\\nI\\'M Going To Try Redskull\\'S \"Install Google Play Store On The Amazon Fire Tablet - Super Easy!\" An See If That Works. Will This Void The Warranty?\\n\\nDr Rjp · February 19, 2017\\n2 Of 2 Found This Helpful. Do You? \\nYes\\n \\nNo\\n | Report Abuse\\nYou Can Get Google Play Store On Amazon. Look Up A Video On Youtube By Kevin Breeze. He Has All The All Pkgs To Download.\\nGo Into Settings> Device Security> Allow Apps From Unknown Sources To On\\nGo Into Settings> Device Options> Serial Number> Keep Clicking On The Serial Number And It Opens Developer Options> Turn O… See More\\n\\nSaltwater🏝Soul · December 5, 2017'"
      ]
     },
     "execution_count": 63,
     "metadata": {},
     "output_type": "execute_result"
    }
   ],
   "source": [
    "s.title()"
   ]
  },
  {
   "cell_type": "code",
   "execution_count": 65,
   "metadata": {},
   "outputs": [],
   "source": [
    "t=s.split(\".\")"
   ]
  },
  {
   "cell_type": "code",
   "execution_count": 66,
   "metadata": {},
   "outputs": [
    {
     "data": {
      "text/plain": [
       "['\"ound this helpful',\n",
       " ' Do you? \\nYes\\n \\nNo\\n | Report abuse\\nIf you want to get the Amazon appstore app',\n",
       " ' You need to Google it and install it',\n",
       " ' Google play does not list it or least I could not find it',\n",
       " '\\n\\nAmazon Customer · November 21, 2020\\n0 of 1 found this helpful',\n",
       " \" Do you? \\nYes\\n \\nNo\\n | Report abuse\\nI also couldn't get Jeremy's solution to work even thoiugh I have the same OS version as he has\",\n",
       " ' I suspect that it may be due to not opening up each app in turn after installalation',\n",
       " '\\nI\\'m going to try redskull\\'s \"Install Google Play Store On The Amazon Fire Tablet - Super easy!\" an see if that works',\n",
       " ' Will this void the warranty?\\n\\nDr RJP · February 19, 2017\\n2 of 2 found this helpful',\n",
       " ' Do you? \\nYes\\n \\nNo\\n | Report abuse\\nYou can get Google play store on Amazon',\n",
       " ' Look up a video on YouTube by Kevin breeze',\n",
       " ' He has all the all pkgs to download',\n",
       " '\\nGo into settings> device security> allow apps from unknown sources to ON\\nGo into settings> device options> serial number> keep clicking on the serial number and it opens developer options> turn o… see more\\n\\nSaltwater🏝Soul · December 5, 2017']"
      ]
     },
     "execution_count": 66,
     "metadata": {},
     "output_type": "execute_result"
    }
   ],
   "source": [
    "t"
   ]
  },
  {
   "cell_type": "code",
   "execution_count": 67,
   "metadata": {},
   "outputs": [
    {
     "data": {
      "text/plain": [
       "list"
      ]
     },
     "execution_count": 67,
     "metadata": {},
     "output_type": "execute_result"
    }
   ],
   "source": [
    "type(t) # this is a list"
   ]
  },
  {
   "cell_type": "code",
   "execution_count": 71,
   "metadata": {},
   "outputs": [],
   "source": [
    "tr=s.capitalize()"
   ]
  },
  {
   "cell_type": "code",
   "execution_count": 72,
   "metadata": {},
   "outputs": [
    {
     "data": {
      "text/plain": [
       "'\"ound this helpful. do you? \\nyes\\n \\nno\\n | report abuse\\nif you want to get the amazon appstore app. you need to google it and install it. google play does not list it or least i could not find it.\\n\\namazon customer · november 21, 2020\\n0 of 1 found this helpful. do you? \\nyes\\n \\nno\\n | report abuse\\ni also couldn\\'t get jeremy\\'s solution to work even thoiugh i have the same os version as he has. i suspect that it may be due to not opening up each app in turn after installalation.\\ni\\'m going to try redskull\\'s \"install google play store on the amazon fire tablet - super easy!\" an see if that works. will this void the warranty?\\n\\ndr rjp · february 19, 2017\\n2 of 2 found this helpful. do you? \\nyes\\n \\nno\\n | report abuse\\nyou can get google play store on amazon. look up a video on youtube by kevin breeze. he has all the all pkgs to download.\\ngo into settings> device security> allow apps from unknown sources to on\\ngo into settings> device options> serial number> keep clicking on the serial number and it opens developer options> turn o… see more\\n\\nsaltwater🏝soul · december 5, 2017'"
      ]
     },
     "execution_count": 72,
     "metadata": {},
     "output_type": "execute_result"
    }
   ],
   "source": [
    "tr"
   ]
  },
  {
   "cell_type": "code",
   "execution_count": 73,
   "metadata": {},
   "outputs": [],
   "source": [
    "q=\"mhasjdsa's\""
   ]
  },
  {
   "cell_type": "code",
   "execution_count": 74,
   "metadata": {},
   "outputs": [
    {
     "data": {
      "text/plain": [
       "\"mhasjdsa's\""
      ]
     },
     "execution_count": 74,
     "metadata": {},
     "output_type": "execute_result"
    }
   ],
   "source": [
    "q"
   ]
  },
  {
   "cell_type": "code",
   "execution_count": 78,
   "metadata": {},
   "outputs": [],
   "source": [
    "s=\"\"\"sdgsgf\n",
    "sdfgs\n",
    "gf\n",
    "ds\n",
    "gfs\n",
    "d\n",
    "fg\n",
    "sd\n",
    "f\n",
    "ds\n",
    "sdg\n",
    "s\n",
    "sdgsdfgsgd\"\"\""
   ]
  },
  {
   "cell_type": "code",
   "execution_count": 79,
   "metadata": {},
   "outputs": [
    {
     "data": {
      "text/plain": [
       "'sdgsgf\\nsdfgs\\ngf\\nds\\ngfs\\nd\\nfg\\nsd\\nf\\nds\\nsdg\\ns\\nsdgsdfgsgd'"
      ]
     },
     "execution_count": 79,
     "metadata": {},
     "output_type": "execute_result"
    }
   ],
   "source": [
    "s"
   ]
  },
  {
   "cell_type": "code",
   "execution_count": 80,
   "metadata": {},
   "outputs": [],
   "source": [
    "s=\"Mujtaba\""
   ]
  },
  {
   "cell_type": "code",
   "execution_count": 84,
   "metadata": {},
   "outputs": [
    {
     "name": "stdout",
     "output_type": "stream",
     "text": [
      "***Mujtaba***\n"
     ]
    }
   ],
   "source": [
    "print(s.center(13,\"*\"))"
   ]
  },
  {
   "cell_type": "code",
   "execution_count": 85,
   "metadata": {},
   "outputs": [],
   "source": [
    "s= \"            Mujyataba            \""
   ]
  },
  {
   "cell_type": "code",
   "execution_count": 86,
   "metadata": {},
   "outputs": [
    {
     "data": {
      "text/plain": [
       "'            Mujyataba            '"
      ]
     },
     "execution_count": 86,
     "metadata": {},
     "output_type": "execute_result"
    }
   ],
   "source": [
    "s"
   ]
  },
  {
   "cell_type": "code",
   "execution_count": 87,
   "metadata": {},
   "outputs": [
    {
     "data": {
      "text/plain": [
       "['Mujyataba']"
      ]
     },
     "execution_count": 87,
     "metadata": {},
     "output_type": "execute_result"
    }
   ],
   "source": [
    "s.rsplit()"
   ]
  },
  {
   "cell_type": "code",
   "execution_count": 88,
   "metadata": {},
   "outputs": [
    {
     "data": {
      "text/plain": [
       "'Mujyataba            '"
      ]
     },
     "execution_count": 88,
     "metadata": {},
     "output_type": "execute_result"
    }
   ],
   "source": [
    "s.lstrip()"
   ]
  },
  {
   "cell_type": "code",
   "execution_count": 89,
   "metadata": {},
   "outputs": [
    {
     "data": {
      "text/plain": [
       "'Mujyataba'"
      ]
     },
     "execution_count": 89,
     "metadata": {},
     "output_type": "execute_result"
    }
   ],
   "source": [
    "s.strip()"
   ]
  },
  {
   "cell_type": "code",
   "execution_count": 95,
   "metadata": {},
   "outputs": [
    {
     "data": {
      "text/plain": [
       "'s            Mujyataba            d'"
      ]
     },
     "execution_count": 95,
     "metadata": {},
     "output_type": "execute_result"
    }
   ],
   "source": [
    "s.join(\"sd\") # first strackt s and concatenete to my data and extract d"
   ]
  },
  {
   "cell_type": "code",
   "execution_count": 96,
   "metadata": {},
   "outputs": [
    {
     "data": {
      "text/plain": [
       "'e            Mujyataba            r            Mujyataba            t'"
      ]
     },
     "execution_count": 96,
     "metadata": {},
     "output_type": "execute_result"
    }
   ],
   "source": [
    "s.join(\"ert\")"
   ]
  },
  {
   "cell_type": "code",
   "execution_count": null,
   "metadata": {},
   "outputs": [],
   "source": [
    "s=\"sd\"\n",
    "for i in "
   ]
  },
  {
   "cell_type": "code",
   "execution_count": 97,
   "metadata": {},
   "outputs": [],
   "source": [
    "t=(\"sdf\",\"sdg\",\"ret\")\n",
    "s='-'.join(t)"
   ]
  },
  {
   "cell_type": "code",
   "execution_count": 98,
   "metadata": {},
   "outputs": [
    {
     "data": {
      "text/plain": [
       "'sdf-sdg-ret'"
      ]
     },
     "execution_count": 98,
     "metadata": {},
     "output_type": "execute_result"
    }
   ],
   "source": [
    "s"
   ]
  },
  {
   "cell_type": "code",
   "execution_count": 99,
   "metadata": {},
   "outputs": [],
   "source": [
    "s=\"ineuro\""
   ]
  },
  {
   "cell_type": "code",
   "execution_count": 100,
   "metadata": {},
   "outputs": [
    {
     "data": {
      "text/plain": [
       "'mujtabaneuro'"
      ]
     },
     "execution_count": 100,
     "metadata": {},
     "output_type": "execute_result"
    }
   ],
   "source": [
    "s.replace(\"i\",\"mujtaba\") # i replaced with mujtaba"
   ]
  },
  {
   "cell_type": "code",
   "execution_count": 101,
   "metadata": {},
   "outputs": [],
   "source": [
    "s=\"ineuroi\""
   ]
  },
  {
   "cell_type": "code",
   "execution_count": 102,
   "metadata": {},
   "outputs": [
    {
     "data": {
      "text/plain": [
       "'mujtabaneuromujtaba'"
      ]
     },
     "execution_count": 102,
     "metadata": {},
     "output_type": "execute_result"
    }
   ],
   "source": [
    "s.replace(\"i\",\"mujtaba\")"
   ]
  },
  {
   "cell_type": "code",
   "execution_count": 103,
   "metadata": {},
   "outputs": [],
   "source": [
    "s=\"mujtaba\\tali\""
   ]
  },
  {
   "cell_type": "code",
   "execution_count": 104,
   "metadata": {},
   "outputs": [
    {
     "data": {
      "text/plain": [
       "'mujtaba ali'"
      ]
     },
     "execution_count": 104,
     "metadata": {},
     "output_type": "execute_result"
    }
   ],
   "source": [
    "s.expandtabs()# expand that"
   ]
  },
  {
   "cell_type": "code",
   "execution_count": 109,
   "metadata": {},
   "outputs": [],
   "source": [
    "s=\"mujtaba\" # means we have all "
   ]
  },
  {
   "cell_type": "code",
   "execution_count": 110,
   "metadata": {},
   "outputs": [
    {
     "data": {
      "text/plain": [
       "True"
      ]
     },
     "execution_count": 110,
     "metadata": {},
     "output_type": "execute_result"
    }
   ],
   "source": [
    "s.isalpha() # true if having alpha"
   ]
  },
  {
   "cell_type": "code",
   "execution_count": 111,
   "metadata": {},
   "outputs": [],
   "source": [
    "s=\"mujtaba342\" # it identify having number or not if it is present it return true"
   ]
  },
  {
   "cell_type": "code",
   "execution_count": 112,
   "metadata": {},
   "outputs": [
    {
     "data": {
      "text/plain": [
       "True"
      ]
     },
     "execution_count": 112,
     "metadata": {},
     "output_type": "execute_result"
    }
   ],
   "source": [
    "s.isalnum()"
   ]
  },
  {
   "cell_type": "code",
   "execution_count": 113,
   "metadata": {},
   "outputs": [
    {
     "data": {
      "text/plain": [
       "False"
      ]
     },
     "execution_count": 113,
     "metadata": {},
     "output_type": "execute_result"
    }
   ],
   "source": [
    "s.isdigit() # all string has numerical values"
   ]
  },
  {
   "cell_type": "code",
   "execution_count": 114,
   "metadata": {},
   "outputs": [],
   "source": [
    "s=\"465353\""
   ]
  },
  {
   "cell_type": "code",
   "execution_count": 115,
   "metadata": {},
   "outputs": [
    {
     "data": {
      "text/plain": [
       "True"
      ]
     },
     "execution_count": 115,
     "metadata": {},
     "output_type": "execute_result"
    }
   ],
   "source": [
    "s.isdigit() # yes"
   ]
  },
  {
   "cell_type": "code",
   "execution_count": 117,
   "metadata": {},
   "outputs": [],
   "source": [
    "s=\"asdfd\""
   ]
  },
  {
   "cell_type": "code",
   "execution_count": 118,
   "metadata": {},
   "outputs": [
    {
     "data": {
      "text/plain": [
       "False"
      ]
     },
     "execution_count": 118,
     "metadata": {},
     "output_type": "execute_result"
    }
   ],
   "source": [
    "s.istitle()"
   ]
  },
  {
   "cell_type": "code",
   "execution_count": 119,
   "metadata": {},
   "outputs": [],
   "source": [
    "l=[34,2,3,3,4,34,\"mujtaba\",\"sd\",3.452]"
   ]
  },
  {
   "cell_type": "code",
   "execution_count": 120,
   "metadata": {},
   "outputs": [
    {
     "data": {
      "text/plain": [
       "[34, 2, 3, 3, 4, 34, 'mujtaba', 'sd', 3.452]"
      ]
     },
     "execution_count": 120,
     "metadata": {},
     "output_type": "execute_result"
    }
   ],
   "source": [
    "l"
   ]
  },
  {
   "cell_type": "code",
   "execution_count": 121,
   "metadata": {},
   "outputs": [],
   "source": [
    "l.append(\"sadf\")"
   ]
  },
  {
   "cell_type": "code",
   "execution_count": 122,
   "metadata": {},
   "outputs": [
    {
     "data": {
      "text/plain": [
       "[34, 2, 3, 3, 4, 34, 'mujtaba', 'sd', 3.452, 'sadf']"
      ]
     },
     "execution_count": 122,
     "metadata": {},
     "output_type": "execute_result"
    }
   ],
   "source": [
    "l"
   ]
  },
  {
   "cell_type": "code",
   "execution_count": 123,
   "metadata": {},
   "outputs": [
    {
     "data": {
      "text/plain": [
       "[34, 2, 3, 3, 4, 34, 'mujtaba', 'sd', 3.452, 'sadf', 'sdgfdafsaf']"
      ]
     },
     "execution_count": 123,
     "metadata": {},
     "output_type": "execute_result"
    }
   ],
   "source": [
    "l+['sdgfdafsaf']"
   ]
  },
  {
   "cell_type": "code",
   "execution_count": 126,
   "metadata": {},
   "outputs": [],
   "source": [
    "l.append([2,675,43,2,332,43]) # append"
   ]
  },
  {
   "cell_type": "code",
   "execution_count": 127,
   "metadata": {},
   "outputs": [
    {
     "data": {
      "text/plain": [
       "[34, 2, 3, 3, 4, 34, 'mujtaba', 'sd', 3.452, 'sadf', [2, 675, 43, 2, 332, 43]]"
      ]
     },
     "execution_count": 127,
     "metadata": {},
     "output_type": "execute_result"
    }
   ],
   "source": [
    "l"
   ]
  },
  {
   "cell_type": "code",
   "execution_count": 128,
   "metadata": {},
   "outputs": [
    {
     "data": {
      "text/plain": [
       "[34,\n",
       " 2,\n",
       " 3,\n",
       " 3,\n",
       " 4,\n",
       " 34,\n",
       " 'mujtaba',\n",
       " 'sd',\n",
       " 3.452,\n",
       " 'sadf',\n",
       " [2, 675, 43, 2, 332, 43],\n",
       " 1,\n",
       " 2,\n",
       " 3,\n",
       " 4,\n",
       " 5]"
      ]
     },
     "execution_count": 128,
     "metadata": {},
     "output_type": "execute_result"
    }
   ],
   "source": [
    "l+[1,2,3,4,5] # fashong is differnce"
   ]
  },
  {
   "cell_type": "code",
   "execution_count": 129,
   "metadata": {},
   "outputs": [
    {
     "data": {
      "text/plain": [
       "[34, 2, 3, 3, 4, 34, 'mujtaba', 'sd', 3.452, 'sadf', [2, 675, 43, 2, 332, 43]]"
      ]
     },
     "execution_count": 129,
     "metadata": {},
     "output_type": "execute_result"
    }
   ],
   "source": [
    "l"
   ]
  },
  {
   "cell_type": "code",
   "execution_count": 130,
   "metadata": {},
   "outputs": [
    {
     "data": {
      "text/plain": [
       "[2, 675, 43, 2, 332, 43]"
      ]
     },
     "execution_count": 130,
     "metadata": {},
     "output_type": "execute_result"
    }
   ],
   "source": [
    "l.pop()"
   ]
  },
  {
   "cell_type": "code",
   "execution_count": 131,
   "metadata": {},
   "outputs": [
    {
     "data": {
      "text/plain": [
       "2"
      ]
     },
     "execution_count": 131,
     "metadata": {},
     "output_type": "execute_result"
    }
   ],
   "source": [
    "l.pop(1)"
   ]
  },
  {
   "cell_type": "code",
   "execution_count": 132,
   "metadata": {},
   "outputs": [
    {
     "data": {
      "text/plain": [
       "[34, 3, 3, 4, 34, 'mujtaba', 'sd', 3.452, 'sadf']"
      ]
     },
     "execution_count": 132,
     "metadata": {},
     "output_type": "execute_result"
    }
   ],
   "source": [
    "l"
   ]
  },
  {
   "cell_type": "code",
   "execution_count": 133,
   "metadata": {},
   "outputs": [],
   "source": [
    "l.reverse() # permanet changes"
   ]
  },
  {
   "cell_type": "code",
   "execution_count": 134,
   "metadata": {},
   "outputs": [
    {
     "data": {
      "text/plain": [
       "['sadf', 3.452, 'sd', 'mujtaba', 34, 4, 3, 3, 34]"
      ]
     },
     "execution_count": 134,
     "metadata": {},
     "output_type": "execute_result"
    }
   ],
   "source": [
    "l"
   ]
  },
  {
   "cell_type": "code",
   "execution_count": 135,
   "metadata": {},
   "outputs": [
    {
     "data": {
      "text/plain": [
       "[34, 3, 3, 4, 34, 'mujtaba', 'sd', 3.452, 'sadf']"
      ]
     },
     "execution_count": 135,
     "metadata": {},
     "output_type": "execute_result"
    }
   ],
   "source": [
    "l[::-1] # not permanet change"
   ]
  },
  {
   "cell_type": "code",
   "execution_count": 136,
   "metadata": {},
   "outputs": [
    {
     "ename": "TypeError",
     "evalue": "'<' not supported between instances of 'float' and 'str'",
     "output_type": "error",
     "traceback": [
      "\u001b[1;31m---------------------------------------------------------------------------\u001b[0m",
      "\u001b[1;31mTypeError\u001b[0m                                 Traceback (most recent call last)",
      "\u001b[1;32m<ipython-input-136-fb07ac7c73ab>\u001b[0m in \u001b[0;36m<module>\u001b[1;34m\u001b[0m\n\u001b[1;32m----> 1\u001b[1;33m \u001b[0ml\u001b[0m\u001b[1;33m.\u001b[0m\u001b[0msort\u001b[0m\u001b[1;33m(\u001b[0m\u001b[1;33m)\u001b[0m\u001b[1;33m\u001b[0m\u001b[1;33m\u001b[0m\u001b[0m\n\u001b[0m",
      "\u001b[1;31mTypeError\u001b[0m: '<' not supported between instances of 'float' and 'str'"
     ]
    }
   ],
   "source": [
    "l.sort() # not work onn hetrogenuos data"
   ]
  },
  {
   "cell_type": "code",
   "execution_count": 138,
   "metadata": {},
   "outputs": [],
   "source": [
    "l=[2,3,4,5,6,45]"
   ]
  },
  {
   "cell_type": "code",
   "execution_count": 139,
   "metadata": {},
   "outputs": [],
   "source": [
    "l.sort() # sort"
   ]
  },
  {
   "cell_type": "code",
   "execution_count": 140,
   "metadata": {},
   "outputs": [
    {
     "data": {
      "text/plain": [
       "[2, 3, 4, 5, 6, 45]"
      ]
     },
     "execution_count": 140,
     "metadata": {},
     "output_type": "execute_result"
    }
   ],
   "source": [
    "l"
   ]
  },
  {
   "cell_type": "code",
   "execution_count": 141,
   "metadata": {},
   "outputs": [],
   "source": [
    "l=[\"asd\",'sdgs',\"sdfgs\"]"
   ]
  },
  {
   "cell_type": "code",
   "execution_count": 142,
   "metadata": {},
   "outputs": [],
   "source": [
    "l.sort()"
   ]
  },
  {
   "cell_type": "code",
   "execution_count": 143,
   "metadata": {},
   "outputs": [
    {
     "data": {
      "text/plain": [
       "['asd', 'sdfgs', 'sdgs']"
      ]
     },
     "execution_count": 143,
     "metadata": {},
     "output_type": "execute_result"
    }
   ],
   "source": [
    "l"
   ]
  },
  {
   "cell_type": "code",
   "execution_count": null,
   "metadata": {},
   "outputs": [],
   "source": [
    "l.sort()"
   ]
  },
  {
   "cell_type": "code",
   "execution_count": 148,
   "metadata": {},
   "outputs": [],
   "source": [
    "l.extend(\"asfasfdasf\")"
   ]
  },
  {
   "cell_type": "code",
   "execution_count": 149,
   "metadata": {},
   "outputs": [
    {
     "data": {
      "text/plain": [
       "['asd',\n",
       " 'sdfgs',\n",
       " 'sdgs',\n",
       " 'a',\n",
       " 's',\n",
       " 'f',\n",
       " 'a',\n",
       " 's',\n",
       " 'f',\n",
       " 'd',\n",
       " 'a',\n",
       " 's',\n",
       " 'f',\n",
       " 'a',\n",
       " 's',\n",
       " 'f',\n",
       " 'a',\n",
       " 's',\n",
       " 'f',\n",
       " 'd',\n",
       " 'a',\n",
       " 's',\n",
       " 'f']"
      ]
     },
     "execution_count": 149,
     "metadata": {},
     "output_type": "execute_result"
    }
   ],
   "source": [
    "l"
   ]
  },
  {
   "cell_type": "code",
   "execution_count": 150,
   "metadata": {},
   "outputs": [
    {
     "ename": "TypeError",
     "evalue": "'int' object is not iterable",
     "output_type": "error",
     "traceback": [
      "\u001b[1;31m---------------------------------------------------------------------------\u001b[0m",
      "\u001b[1;31mTypeError\u001b[0m                                 Traceback (most recent call last)",
      "\u001b[1;32m<ipython-input-150-65230bb20c77>\u001b[0m in \u001b[0;36m<module>\u001b[1;34m\u001b[0m\n\u001b[1;32m----> 1\u001b[1;33m \u001b[0ml\u001b[0m\u001b[1;33m.\u001b[0m\u001b[0mextend\u001b[0m\u001b[1;33m(\u001b[0m\u001b[1;36m23\u001b[0m\u001b[1;33m)\u001b[0m\u001b[1;33m\u001b[0m\u001b[1;33m\u001b[0m\u001b[0m\n\u001b[0m",
      "\u001b[1;31mTypeError\u001b[0m: 'int' object is not iterable"
     ]
    }
   ],
   "source": [
    "l.extend(23)  # it is not iterable"
   ]
  },
  {
   "cell_type": "code",
   "execution_count": 151,
   "metadata": {},
   "outputs": [],
   "source": [
    "l.extend((2,34,45))"
   ]
  },
  {
   "cell_type": "code",
   "execution_count": 152,
   "metadata": {},
   "outputs": [
    {
     "data": {
      "text/plain": [
       "['asd',\n",
       " 'sdfgs',\n",
       " 'sdgs',\n",
       " 'a',\n",
       " 's',\n",
       " 'f',\n",
       " 'a',\n",
       " 's',\n",
       " 'f',\n",
       " 'd',\n",
       " 'a',\n",
       " 's',\n",
       " 'f',\n",
       " 'a',\n",
       " 's',\n",
       " 'f',\n",
       " 'a',\n",
       " 's',\n",
       " 'f',\n",
       " 'd',\n",
       " 'a',\n",
       " 's',\n",
       " 'f',\n",
       " 2,\n",
       " 34,\n",
       " 45]"
      ]
     },
     "execution_count": 152,
     "metadata": {},
     "output_type": "execute_result"
    }
   ],
   "source": [
    "l"
   ]
  },
  {
   "cell_type": "code",
   "execution_count": 153,
   "metadata": {},
   "outputs": [],
   "source": [
    "s=\"mujtaba\""
   ]
  },
  {
   "cell_type": "code",
   "execution_count": 154,
   "metadata": {},
   "outputs": [],
   "source": [
    "l=[2,3,4,4]"
   ]
  },
  {
   "cell_type": "code",
   "execution_count": 155,
   "metadata": {},
   "outputs": [
    {
     "data": {
      "text/plain": [
       "[2, 3, 4, 4, 4]"
      ]
     },
     "execution_count": 155,
     "metadata": {},
     "output_type": "execute_result"
    }
   ],
   "source": [
    "l+[4]"
   ]
  },
  {
   "cell_type": "code",
   "execution_count": 156,
   "metadata": {},
   "outputs": [],
   "source": [
    "l.append(\"sdfs\") # it takes an object not iterable"
   ]
  },
  {
   "cell_type": "code",
   "execution_count": 157,
   "metadata": {},
   "outputs": [],
   "source": [
    "l.extend(\"sdf\") # first extract and then add one by one"
   ]
  },
  {
   "cell_type": "code",
   "execution_count": 158,
   "metadata": {},
   "outputs": [
    {
     "data": {
      "text/plain": [
       "[2, 3, 4, 4, 'sdfs', 's', 'd', 'f']"
      ]
     },
     "execution_count": 158,
     "metadata": {},
     "output_type": "execute_result"
    }
   ],
   "source": [
    "l"
   ]
  },
  {
   "cell_type": "code",
   "execution_count": 159,
   "metadata": {},
   "outputs": [
    {
     "data": {
      "text/plain": [
       "2"
      ]
     },
     "execution_count": 159,
     "metadata": {},
     "output_type": "execute_result"
    }
   ],
   "source": [
    "l.count(4)"
   ]
  },
  {
   "cell_type": "code",
   "execution_count": 160,
   "metadata": {},
   "outputs": [
    {
     "data": {
      "text/plain": [
       "0"
      ]
     },
     "execution_count": 160,
     "metadata": {},
     "output_type": "execute_result"
    }
   ],
   "source": [
    "l.count(\"sdgfs\")"
   ]
  },
  {
   "cell_type": "code",
   "execution_count": 162,
   "metadata": {},
   "outputs": [
    {
     "ename": "AttributeError",
     "evalue": "'list' object has no attribute 'find'",
     "output_type": "error",
     "traceback": [
      "\u001b[1;31m---------------------------------------------------------------------------\u001b[0m",
      "\u001b[1;31mAttributeError\u001b[0m                            Traceback (most recent call last)",
      "\u001b[1;32m<ipython-input-162-66c193142bc9>\u001b[0m in \u001b[0;36m<module>\u001b[1;34m\u001b[0m\n\u001b[1;32m----> 1\u001b[1;33m \u001b[0ml\u001b[0m\u001b[1;33m.\u001b[0m\u001b[0mfind\u001b[0m\u001b[1;33m(\u001b[0m\u001b[1;36m2\u001b[0m\u001b[1;33m)\u001b[0m\u001b[1;33m\u001b[0m\u001b[1;33m\u001b[0m\u001b[0m\n\u001b[0m",
      "\u001b[1;31mAttributeError\u001b[0m: 'list' object has no attribute 'find'"
     ]
    }
   ],
   "source": [
    "l.find(2)"
   ]
  },
  {
   "cell_type": "code",
   "execution_count": 163,
   "metadata": {},
   "outputs": [
    {
     "data": {
      "text/plain": [
       "2"
      ]
     },
     "execution_count": 163,
     "metadata": {},
     "output_type": "execute_result"
    }
   ],
   "source": [
    "l.index(4) # index method for doing that things"
   ]
  },
  {
   "cell_type": "code",
   "execution_count": 164,
   "metadata": {},
   "outputs": [
    {
     "data": {
      "text/plain": [
       "[2, 3, 4, 4, 'sdfs', 's', 'd', 'f']"
      ]
     },
     "execution_count": 164,
     "metadata": {},
     "output_type": "execute_result"
    }
   ],
   "source": [
    "l"
   ]
  },
  {
   "cell_type": "code",
   "execution_count": 165,
   "metadata": {},
   "outputs": [],
   "source": [
    "l=[23,3,4,312,34]"
   ]
  },
  {
   "cell_type": "code",
   "execution_count": 166,
   "metadata": {},
   "outputs": [],
   "source": [
    "l.insert(1,\"sdfsd\") # at index number 1 "
   ]
  },
  {
   "cell_type": "code",
   "execution_count": 167,
   "metadata": {},
   "outputs": [
    {
     "data": {
      "text/plain": [
       "[23, 'sdfsd', 3, 4, 312, 34]"
      ]
     },
     "execution_count": 167,
     "metadata": {},
     "output_type": "execute_result"
    }
   ],
   "source": [
    "l"
   ]
  },
  {
   "cell_type": "code",
   "execution_count": 168,
   "metadata": {},
   "outputs": [
    {
     "data": {
      "text/plain": [
       "[23, 'sdfsd', 3, 4, 312, 34]"
      ]
     },
     "execution_count": 168,
     "metadata": {},
     "output_type": "execute_result"
    }
   ],
   "source": [
    "l"
   ]
  },
  {
   "cell_type": "code",
   "execution_count": 169,
   "metadata": {},
   "outputs": [],
   "source": [
    "l.remove(\"sdfsd\")"
   ]
  },
  {
   "cell_type": "code",
   "execution_count": 170,
   "metadata": {},
   "outputs": [
    {
     "data": {
      "text/plain": [
       "[23, 3, 4, 312, 34]"
      ]
     },
     "execution_count": 170,
     "metadata": {},
     "output_type": "execute_result"
    }
   ],
   "source": [
    "l"
   ]
  },
  {
   "cell_type": "code",
   "execution_count": 171,
   "metadata": {},
   "outputs": [],
   "source": [
    "l=[23,34,32,2,3,23]"
   ]
  },
  {
   "cell_type": "code",
   "execution_count": 172,
   "metadata": {},
   "outputs": [],
   "source": [
    "l.remove(23)"
   ]
  },
  {
   "cell_type": "code",
   "execution_count": 173,
   "metadata": {},
   "outputs": [
    {
     "data": {
      "text/plain": [
       "[34, 32, 2, 3]"
      ]
     },
     "execution_count": 173,
     "metadata": {},
     "output_type": "execute_result"
    }
   ],
   "source": [
    "l"
   ]
  },
  {
   "cell_type": "code",
   "execution_count": 174,
   "metadata": {},
   "outputs": [],
   "source": [
    "t=(1,2,3,4,4,5,6)"
   ]
  },
  {
   "cell_type": "code",
   "execution_count": 175,
   "metadata": {},
   "outputs": [
    {
     "data": {
      "text/plain": [
       "(1, 2, 3, 4, 4, 5, 6)"
      ]
     },
     "execution_count": 175,
     "metadata": {},
     "output_type": "execute_result"
    }
   ],
   "source": [
    "t"
   ]
  },
  {
   "cell_type": "code",
   "execution_count": null,
   "metadata": {},
   "outputs": [],
   "source": []
  }
 ],
 "metadata": {
  "kernelspec": {
   "display_name": "Python 3",
   "language": "python",
   "name": "python3"
  },
  "language_info": {
   "codemirror_mode": {
    "name": "ipython",
    "version": 3
   },
   "file_extension": ".py",
   "mimetype": "text/x-python",
   "name": "python",
   "nbconvert_exporter": "python",
   "pygments_lexer": "ipython3",
   "version": "3.8.5"
  }
 },
 "nbformat": 4,
 "nbformat_minor": 4
}
