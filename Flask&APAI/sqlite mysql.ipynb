{
 "cells": [
  {
   "cell_type": "code",
   "execution_count": 9,
   "metadata": {},
   "outputs": [],
   "source": [
    "#from flask import Flask, render_template, request, jsonify\n",
    "def math_operation():\n",
    "        operation='add'\n",
    "        num1=23\n",
    "        num2=34\n",
    "    \n",
    "        if(operation=='add'):\n",
    "            r=num1+num2\n",
    "            result= 'the sum of '+str(num1)+' and '+str(num2) +' is '+str(r)\n",
    "        if (operation == 'subtract'):\n",
    "            r = num1 - num2\n",
    "            result = 'the difference of ' + str(num1) + ' and ' + str(num2) + ' is ' + str(r)\n",
    "        if (operation == 'multiply'):\n",
    "            r = num1 * num2\n",
    "            result = 'the product of ' + str(num1) + ' and ' + str(num2) + ' is ' + str(r)\n",
    "        if (operation == 'divide'):\n",
    "            r = num1 / num2\n",
    "            result = 'the quotient when ' + str(num1) + ' is divided by ' + str(num2) + ' is ' + str(r)\n",
    "        return (result)"
   ]
  },
  {
   "cell_type": "code",
   "execution_count": 10,
   "metadata": {},
   "outputs": [
    {
     "data": {
      "text/plain": [
       "'the sum of 23 and 34 is 57'"
      ]
     },
     "execution_count": 10,
     "metadata": {},
     "output_type": "execute_result"
    }
   ],
   "source": [
    "math_operation()"
   ]
  },
  {
   "cell_type": "code",
   "execution_count": 1,
   "metadata": {},
   "outputs": [
    {
     "name": "stdout",
     "output_type": "stream",
     "text": [
      "Collecting pymongo\n",
      "  Downloading pymongo-3.11.4-cp38-cp38-win_amd64.whl (383 kB)\n",
      "Installing collected packages: pymongo\n",
      "Successfully installed pymongo-3.11.4\n"
     ]
    }
   ],
   "source": [
    "! pip install pymongo\n"
   ]
  },
  {
   "cell_type": "code",
   "execution_count": 2,
   "metadata": {},
   "outputs": [
    {
     "data": {
      "text/plain": [
       "23"
      ]
     },
     "execution_count": 2,
     "metadata": {},
     "output_type": "execute_result"
    }
   ],
   "source": [
    "23&23"
   ]
  },
  {
   "cell_type": "code",
   "execution_count": 15,
   "metadata": {},
   "outputs": [],
   "source": [
    "def Add():\n",
    "    try:\n",
    "        n1=int(input('Enter an integer number : '))\n",
    "        if n1==4:\n",
    "            raise Exception(\"you can not pass 4\")\n",
    "    except Exception as e:\n",
    "        print(e)\n",
    "        \n",
    "    "
   ]
  },
  {
   "cell_type": "code",
   "execution_count": 16,
   "metadata": {},
   "outputs": [
    {
     "name": "stdout",
     "output_type": "stream",
     "text": [
      "Enter an integer number : 4\n",
      "you can not pass 4\n"
     ]
    }
   ],
   "source": [
    "Add()"
   ]
  },
  {
   "cell_type": "code",
   "execution_count": 2,
   "metadata": {},
   "outputs": [],
   "source": [
    "t=[i*j for i in range(3) for j in range(4)]"
   ]
  },
  {
   "cell_type": "code",
   "execution_count": 3,
   "metadata": {},
   "outputs": [
    {
     "name": "stdout",
     "output_type": "stream",
     "text": [
      "[0, 0, 0, 0, 0, 1, 2, 3, 0, 2, 4, 6]\n"
     ]
    }
   ],
   "source": [
    "print(t) # this is the reaction of our files"
   ]
  },
  {
   "cell_type": "code",
   "execution_count": 1,
   "metadata": {},
   "outputs": [],
   "source": [
    "import sqlite3"
   ]
  },
  {
   "cell_type": "code",
   "execution_count": 4,
   "metadata": {},
   "outputs": [],
   "source": [
    "t=sqlite3.connect(\"mydb\") # t is a database object actually"
   ]
  },
  {
   "cell_type": "code",
   "execution_count": 6,
   "metadata": {},
   "outputs": [
    {
     "data": {
      "text/plain": [
       "<sqlite3.Cursor at 0x177e98b0ab0>"
      ]
     },
     "execution_count": 6,
     "metadata": {},
     "output_type": "execute_result"
    }
   ],
   "source": [
    "t.execute(\"create table mytable (roll_number int , name varchar );\")"
   ]
  },
  {
   "cell_type": "code",
   "execution_count": 16,
   "metadata": {},
   "outputs": [
    {
     "data": {
      "text/plain": [
       "<sqlite3.Cursor at 0x177e9d4e340>"
      ]
     },
     "execution_count": 16,
     "metadata": {},
     "output_type": "execute_result"
    }
   ],
   "source": [
    "t.execute(\"insert into mytable (roll_number,name) values (1,'Mujtaba Ali');\")"
   ]
  },
  {
   "cell_type": "code",
   "execution_count": 17,
   "metadata": {},
   "outputs": [
    {
     "name": "stdout",
     "output_type": "stream",
     "text": [
      "(1, 'Mujtaba Ali')\n",
      "(2, 'Arshad Malik')\n",
      "(3, 'Rakesh Kumar')\n",
      "(4, 'Mohd Arif')\n",
      "(2, 'Arshad Malik')\n",
      "(3, 'Rakesh Kumar')\n",
      "(4, 'Mohd Arif')\n",
      "(1, 'Mujtaba Ali')\n"
     ]
    }
   ],
   "source": [
    " for i in t.execute(\"select * from mytable\"):\n",
    "        print(i)"
   ]
  },
  {
   "cell_type": "code",
   "execution_count": 18,
   "metadata": {},
   "outputs": [
    {
     "data": {
      "text/plain": [
       "<sqlite3.Cursor at 0x177e9d4e500>"
      ]
     },
     "execution_count": 18,
     "metadata": {},
     "output_type": "execute_result"
    }
   ],
   "source": [
    "t.execute(\"insert into mytable (roll_number,name) values (2,'Arshad Malik'),(3,'Rakesh Kumar'),(4,'Mohd Arif');\")"
   ]
  },
  {
   "cell_type": "code",
   "execution_count": 19,
   "metadata": {},
   "outputs": [
    {
     "name": "stdout",
     "output_type": "stream",
     "text": [
      "(1, 'Mujtaba Ali')\n",
      "(2, 'Arshad Malik')\n",
      "(3, 'Rakesh Kumar')\n",
      "(4, 'Mohd Arif')\n",
      "(2, 'Arshad Malik')\n",
      "(3, 'Rakesh Kumar')\n",
      "(4, 'Mohd Arif')\n",
      "(1, 'Mujtaba Ali')\n",
      "(2, 'Arshad Malik')\n",
      "(3, 'Rakesh Kumar')\n",
      "(4, 'Mohd Arif')\n"
     ]
    }
   ],
   "source": [
    " for i in t.execute(\"select * from mytable\"):\n",
    "        print(i)"
   ]
  },
  {
   "cell_type": "code",
   "execution_count": 15,
   "metadata": {},
   "outputs": [
    {
     "name": "stdout",
     "output_type": "stream",
     "text": [
      "(1, 'Mujtaba Ali')\n",
      "(2, 'Arshad Malik')\n",
      "(3, 'Rakesh Kumar')\n",
      "(4, 'Mohd Arif')\n",
      "(2, 'Arshad Malik')\n",
      "(3, 'Rakesh Kumar')\n",
      "(4, 'Mohd Arif')\n"
     ]
    }
   ],
   "source": [
    " for i in t.execute(\"select * from mytable\"):\n",
    "        print(i)"
   ]
  },
  {
   "cell_type": "code",
   "execution_count": 20,
   "metadata": {},
   "outputs": [],
   "source": [
    "import sqlite3\n"
   ]
  },
  {
   "cell_type": "code",
   "execution_count": 33,
   "metadata": {},
   "outputs": [],
   "source": [
    "r=sqlite3.connect(\"alidatabas1.db\");"
   ]
  },
  {
   "cell_type": "code",
   "execution_count": 34,
   "metadata": {},
   "outputs": [],
   "source": [
    "r.execute(\"create table tr(id int ,name varchar(20),course varchar(30),semester varchar(30))\");"
   ]
  },
  {
   "cell_type": "code",
   "execution_count": 35,
   "metadata": {},
   "outputs": [],
   "source": [
    "r.execute(\"insert into tr(id,name,course,semester) values(1,'Mujtaba Ali','BTech','2nd')\");"
   ]
  },
  {
   "cell_type": "code",
   "execution_count": 36,
   "metadata": {},
   "outputs": [],
   "source": [
    "r.commit()"
   ]
  },
  {
   "cell_type": "code",
   "execution_count": 37,
   "metadata": {},
   "outputs": [],
   "source": [
    "import sqlite3"
   ]
  },
  {
   "cell_type": "code",
   "execution_count": 38,
   "metadata": {},
   "outputs": [],
   "source": [
    "R=sqlite3.connect(\"iftm\")"
   ]
  },
  {
   "cell_type": "code",
   "execution_count": 48,
   "metadata": {},
   "outputs": [
    {
     "ename": "OperationalError",
     "evalue": "table students_info already exists",
     "output_type": "error",
     "traceback": [
      "\u001b[1;31m---------------------------------------------------------------------------\u001b[0m",
      "\u001b[1;31mOperationalError\u001b[0m                          Traceback (most recent call last)",
      "\u001b[1;32m<ipython-input-48-fa6540e1459d>\u001b[0m in \u001b[0;36m<module>\u001b[1;34m\u001b[0m\n\u001b[1;32m----> 1\u001b[1;33m \u001b[0mR\u001b[0m\u001b[1;33m.\u001b[0m\u001b[0mexecute\u001b[0m\u001b[1;33m(\u001b[0m\u001b[1;34m\"create table students_info (roll_number int  primary key AUTOINCREMENT ,name varchar(10) not null , fathers name varchar(30) not null)\"\u001b[0m\u001b[1;33m)\u001b[0m\u001b[1;33m;\u001b[0m\u001b[1;33m\u001b[0m\u001b[1;33m\u001b[0m\u001b[0m\n\u001b[0m",
      "\u001b[1;31mOperationalError\u001b[0m: table students_info already exists"
     ]
    }
   ],
   "source": [
    "R.execute(\"create table students_info (roll_number int  primary key AUTOINCREMENT ,name varchar(10) not null , fathers name varchar(30) not null)\"); "
   ]
  },
  {
   "cell_type": "code",
   "execution_count": 55,
   "metadata": {},
   "outputs": [],
   "source": [
    "R.execute(\"insert into students_info values(1,'Mujtaba Ali','mr.hafiz muqeem')\");"
   ]
  },
  {
   "cell_type": "code",
   "execution_count": 57,
   "metadata": {},
   "outputs": [],
   "source": [
    "R.commit() # commit is necessary for adding data into database"
   ]
  },
  {
   "cell_type": "code",
   "execution_count": 60,
   "metadata": {},
   "outputs": [],
   "source": [
    " R.execute('''insert into students_info values(2,'Mujtaba Ali','mr.hafiz muqeem'),\n",
    "           (3,'Mujtaba Ali','mr.hafiz muqeem'),\n",
    "           (4,'Mujtaba Ali','mr.hafiz muqeem'),\n",
    "           (5,'Mujtaba Ali','mr.hafiz muqeem'),\n",
    "           (6,'Mujtaba Ali','mr.hafiz muqeem'),\n",
    "           (7,'Mujtaba Ali','mr.hafiz muqeem'),\n",
    "           (8,'Mujtaba Ali','mr.hafiz muqeem'),\n",
    "           (9,'Mujtaba Ali','mr.hafiz muqeem'),\n",
    "           (10,'Mujtaba Ali','mr.hafiz muqeem'),\n",
    "           (11,'Mujtaba Ali','mr.hafiz muqeem'),\n",
    "           (12,'Mujtaba Ali','mr.hafiz muqeem'),\n",
    "           (13,'Mujtaba Ali','mr.hafiz muqeem') ''');"
   ]
  },
  {
   "cell_type": "code",
   "execution_count": 66,
   "metadata": {},
   "outputs": [],
   "source": [
    "t=R.commit()"
   ]
  },
  {
   "cell_type": "code",
   "execution_count": 68,
   "metadata": {},
   "outputs": [
    {
     "name": "stdout",
     "output_type": "stream",
     "text": [
      "(1, 'Mujtaba Ali', 'mr.hafiz muqeem')\n",
      "(2, 'Mujtaba Ali', 'mr.hafiz muqeem')\n",
      "(3, 'Mujtaba Ali', 'mr.hafiz muqeem')\n",
      "(4, 'Mujtaba Ali', 'mr.hafiz muqeem')\n",
      "(5, 'Mujtaba Ali', 'mr.hafiz muqeem')\n",
      "(6, 'Mujtaba Ali', 'mr.hafiz muqeem')\n",
      "(7, 'Mujtaba Ali', 'mr.hafiz muqeem')\n",
      "(8, 'Mujtaba Ali', 'mr.hafiz muqeem')\n",
      "(9, 'Mujtaba Ali', 'mr.hafiz muqeem')\n",
      "(10, 'Mujtaba Ali', 'mr.hafiz muqeem')\n",
      "(11, 'Mujtaba Ali', 'mr.hafiz muqeem')\n",
      "(12, 'Mujtaba Ali', 'mr.hafiz muqeem')\n",
      "(13, 'Mujtaba Ali', 'mr.hafiz muqeem')\n"
     ]
    }
   ],
   "source": [
    "for i in list(R.execute(\"select * from students_info\")):\n",
    "    print(i)"
   ]
  },
  {
   "cell_type": "code",
   "execution_count": 70,
   "metadata": {},
   "outputs": [],
   "source": [
    "R.execute(\"update students_info set name='Arshad Malik' Where roll_number=1\");"
   ]
  },
  {
   "cell_type": "code",
   "execution_count": 71,
   "metadata": {},
   "outputs": [
    {
     "name": "stdout",
     "output_type": "stream",
     "text": [
      "(1, 'Arshad Malik', 'mr.hafiz muqeem')\n",
      "(2, 'Mujtaba Ali', 'mr.hafiz muqeem')\n",
      "(3, 'Mujtaba Ali', 'mr.hafiz muqeem')\n",
      "(4, 'Mujtaba Ali', 'mr.hafiz muqeem')\n",
      "(5, 'Mujtaba Ali', 'mr.hafiz muqeem')\n",
      "(6, 'Mujtaba Ali', 'mr.hafiz muqeem')\n",
      "(7, 'Mujtaba Ali', 'mr.hafiz muqeem')\n",
      "(8, 'Mujtaba Ali', 'mr.hafiz muqeem')\n",
      "(9, 'Mujtaba Ali', 'mr.hafiz muqeem')\n",
      "(10, 'Mujtaba Ali', 'mr.hafiz muqeem')\n",
      "(11, 'Mujtaba Ali', 'mr.hafiz muqeem')\n",
      "(12, 'Mujtaba Ali', 'mr.hafiz muqeem')\n",
      "(13, 'Mujtaba Ali', 'mr.hafiz muqeem')\n"
     ]
    }
   ],
   "source": [
    "for i in list(R.execute(\"select * from students_info\")):\n",
    "    print(i)"
   ]
  },
  {
   "cell_type": "code",
   "execution_count": 74,
   "metadata": {},
   "outputs": [],
   "source": [
    "R.execute(\"delete  from students_info where roll_number=1 \");"
   ]
  },
  {
   "cell_type": "code",
   "execution_count": 75,
   "metadata": {},
   "outputs": [
    {
     "name": "stdout",
     "output_type": "stream",
     "text": [
      "(2, 'Mujtaba Ali', 'mr.hafiz muqeem')\n",
      "(3, 'Mujtaba Ali', 'mr.hafiz muqeem')\n",
      "(4, 'Mujtaba Ali', 'mr.hafiz muqeem')\n",
      "(5, 'Mujtaba Ali', 'mr.hafiz muqeem')\n",
      "(6, 'Mujtaba Ali', 'mr.hafiz muqeem')\n",
      "(7, 'Mujtaba Ali', 'mr.hafiz muqeem')\n",
      "(8, 'Mujtaba Ali', 'mr.hafiz muqeem')\n",
      "(9, 'Mujtaba Ali', 'mr.hafiz muqeem')\n",
      "(10, 'Mujtaba Ali', 'mr.hafiz muqeem')\n",
      "(11, 'Mujtaba Ali', 'mr.hafiz muqeem')\n",
      "(12, 'Mujtaba Ali', 'mr.hafiz muqeem')\n",
      "(13, 'Mujtaba Ali', 'mr.hafiz muqeem')\n"
     ]
    }
   ],
   "source": [
    "for i in list(R.execute(\"select * from students_info\")):\n",
    "    print(i)"
   ]
  },
  {
   "cell_type": "code",
   "execution_count": 85,
   "metadata": {},
   "outputs": [
    {
     "ename": "OperationalError",
     "evalue": "duplicate column name: Email",
     "output_type": "error",
     "traceback": [
      "\u001b[1;31m---------------------------------------------------------------------------\u001b[0m",
      "\u001b[1;31mOperationalError\u001b[0m                          Traceback (most recent call last)",
      "\u001b[1;32m<ipython-input-85-cfc966172f06>\u001b[0m in \u001b[0;36m<module>\u001b[1;34m\u001b[0m\n\u001b[1;32m----> 1\u001b[1;33m \u001b[0mR\u001b[0m\u001b[1;33m.\u001b[0m\u001b[0mexecute\u001b[0m\u001b[1;33m(\u001b[0m\u001b[1;34m\"alter table students_info add Email varchar(40) \"\u001b[0m\u001b[1;33m)\u001b[0m\u001b[1;33m;\u001b[0m\u001b[1;33m\u001b[0m\u001b[1;33m\u001b[0m\u001b[0m\n\u001b[0m",
      "\u001b[1;31mOperationalError\u001b[0m: duplicate column name: Email"
     ]
    }
   ],
   "source": [
    "R.execute(\"alter table students_info add Email varchar(40) \");\n"
   ]
  },
  {
   "cell_type": "code",
   "execution_count": 86,
   "metadata": {},
   "outputs": [
    {
     "name": "stdout",
     "output_type": "stream",
     "text": [
      "(2, 'Mujtaba Ali', 'mr.hafiz muqeem', 'alimujtaba9012@gmail.com')\n",
      "(3, 'Mujtaba Ali', 'mr.hafiz muqeem', None)\n",
      "(4, 'Mujtaba Ali', 'mr.hafiz muqeem', None)\n",
      "(5, 'Mujtaba Ali', 'mr.hafiz muqeem', None)\n",
      "(6, 'Mujtaba Ali', 'mr.hafiz muqeem', None)\n",
      "(7, 'Mujtaba Ali', 'mr.hafiz muqeem', None)\n",
      "(8, 'Mujtaba Ali', 'mr.hafiz muqeem', None)\n",
      "(9, 'Mujtaba Ali', 'mr.hafiz muqeem', None)\n",
      "(10, 'Mujtaba Ali', 'mr.hafiz muqeem', None)\n",
      "(11, 'Mujtaba Ali', 'mr.hafiz muqeem', None)\n",
      "(12, 'Mujtaba Ali', 'mr.hafiz muqeem', None)\n",
      "(13, 'Mujtaba Ali', 'mr.hafiz muqeem', None)\n"
     ]
    }
   ],
   "source": [
    "for i in list(R.execute(\"select * from students_info\")):\n",
    "    print(i)"
   ]
  },
  {
   "cell_type": "code",
   "execution_count": 87,
   "metadata": {},
   "outputs": [],
   "source": [
    "R.execute(\"update students_info set Email='alimujtaba9012@gmail.com' where roll_number=2\");"
   ]
  },
  {
   "cell_type": "code",
   "execution_count": 88,
   "metadata": {},
   "outputs": [
    {
     "name": "stdout",
     "output_type": "stream",
     "text": [
      "(2, 'Mujtaba Ali', 'mr.hafiz muqeem', 'alimujtaba9012@gmail.com')\n",
      "(3, 'Mujtaba Ali', 'mr.hafiz muqeem', None)\n",
      "(4, 'Mujtaba Ali', 'mr.hafiz muqeem', None)\n",
      "(5, 'Mujtaba Ali', 'mr.hafiz muqeem', None)\n",
      "(6, 'Mujtaba Ali', 'mr.hafiz muqeem', None)\n",
      "(7, 'Mujtaba Ali', 'mr.hafiz muqeem', None)\n",
      "(8, 'Mujtaba Ali', 'mr.hafiz muqeem', None)\n",
      "(9, 'Mujtaba Ali', 'mr.hafiz muqeem', None)\n",
      "(10, 'Mujtaba Ali', 'mr.hafiz muqeem', None)\n",
      "(11, 'Mujtaba Ali', 'mr.hafiz muqeem', None)\n",
      "(12, 'Mujtaba Ali', 'mr.hafiz muqeem', None)\n",
      "(13, 'Mujtaba Ali', 'mr.hafiz muqeem', None)\n"
     ]
    }
   ],
   "source": [
    "for i in list(R.execute(\"select * from students_info\")):\n",
    "    print(i)"
   ]
  },
  {
   "cell_type": "code",
   "execution_count": 81,
   "metadata": {},
   "outputs": [],
   "source": [
    "R.commit()"
   ]
  },
  {
   "cell_type": "code",
   "execution_count": 95,
   "metadata": {},
   "outputs": [
    {
     "ename": "OperationalError",
     "evalue": "no such table: students_info",
     "output_type": "error",
     "traceback": [
      "\u001b[1;31m---------------------------------------------------------------------------\u001b[0m",
      "\u001b[1;31mOperationalError\u001b[0m                          Traceback (most recent call last)",
      "\u001b[1;32m<ipython-input-95-e3ede616a9c2>\u001b[0m in \u001b[0;36m<module>\u001b[1;34m\u001b[0m\n\u001b[1;32m----> 1\u001b[1;33m \u001b[0mR\u001b[0m\u001b[1;33m.\u001b[0m\u001b[0mexecute\u001b[0m\u001b[1;33m(\u001b[0m\u001b[1;34m\"alter table students_info rename to mujtaba\"\u001b[0m\u001b[1;33m)\u001b[0m\u001b[1;33m;\u001b[0m\u001b[1;33m\u001b[0m\u001b[1;33m\u001b[0m\u001b[0m\n\u001b[0m\u001b[0;32m      2\u001b[0m \u001b[0mR\u001b[0m\u001b[1;33m.\u001b[0m\u001b[0mcommit\u001b[0m\u001b[1;33m(\u001b[0m\u001b[1;33m)\u001b[0m\u001b[1;33m\u001b[0m\u001b[1;33m\u001b[0m\u001b[0m\n",
      "\u001b[1;31mOperationalError\u001b[0m: no such table: students_info"
     ]
    }
   ],
   "source": [
    "R.execute(\"alter table students_info rename to mujtaba\");\n",
    "R.commit()"
   ]
  },
  {
   "cell_type": "code",
   "execution_count": 96,
   "metadata": {},
   "outputs": [
    {
     "name": "stdout",
     "output_type": "stream",
     "text": [
      "(2, 'Mujtaba Ali', 'mr.hafiz muqeem', 'alimujtaba9012@gmail.com')\n",
      "(3, 'Mujtaba Ali', 'mr.hafiz muqeem', None)\n",
      "(4, 'Mujtaba Ali', 'mr.hafiz muqeem', None)\n",
      "(5, 'Mujtaba Ali', 'mr.hafiz muqeem', None)\n",
      "(6, 'Mujtaba Ali', 'mr.hafiz muqeem', None)\n",
      "(7, 'Mujtaba Ali', 'mr.hafiz muqeem', None)\n",
      "(8, 'Mujtaba Ali', 'mr.hafiz muqeem', None)\n",
      "(9, 'Mujtaba Ali', 'mr.hafiz muqeem', None)\n",
      "(10, 'Mujtaba Ali', 'mr.hafiz muqeem', None)\n",
      "(11, 'Mujtaba Ali', 'mr.hafiz muqeem', None)\n",
      "(12, 'Mujtaba Ali', 'mr.hafiz muqeem', None)\n",
      "(13, 'Mujtaba Ali', 'mr.hafiz muqeem', None)\n"
     ]
    }
   ],
   "source": [
    "for i in list(R.execute(\"select * from mujtaba\")):\n",
    "    print(i)"
   ]
  },
  {
   "cell_type": "code",
   "execution_count": 94,
   "metadata": {},
   "outputs": [],
   "source": [
    "R.commit()"
   ]
  },
  {
   "cell_type": "markdown",
   "metadata": {},
   "source": [
    "# mysql structured query language"
   ]
  },
  {
   "cell_type": "code",
   "execution_count": 97,
   "metadata": {},
   "outputs": [],
   "source": [
    "\n",
    "import mysql.connector as connection"
   ]
  },
  {
   "cell_type": "code",
   "execution_count": 109,
   "metadata": {},
   "outputs": [
    {
     "name": "stdout",
     "output_type": "stream",
     "text": [
      "[('btech',), ('demopython',), ('information_schema',), ('mydb',), ('mysql',), ('performance_schema',), ('student',), ('sys',), ('university_database',)]\n"
     ]
    }
   ],
   "source": [
    "try: # exception handling\n",
    "    mydb=connection.connect(host=\"localhost\",user=\"root\",password=\"root\")\n",
    "    #print(mydb.is_connected())\n",
    "    query=\"show databases\"\n",
    "    mycursor=mydb.cursor()\n",
    "    mycursor.execute(query)\n",
    "    print(mycursor.fetchall())\n",
    "except Exception as e:\n",
    "    print(e)\n",
    " # connection is established\n"
   ]
  },
  {
   "cell_type": "code",
   "execution_count": 113,
   "metadata": {},
   "outputs": [
    {
     "name": "stdout",
     "output_type": "stream",
     "text": [
      "True\n"
     ]
    }
   ],
   "source": [
    "try:\n",
    "    mydb=connection.connect(host=\"localhost\",user=\"root\",password=\"root\") # mydb is an object actually \n",
    "    print(mydb.is_connected())\n",
    "    query=\"create database uttarP\"\n",
    "    mycursor=mydb.cursor()\n",
    "    mycursor.execute(query)\n",
    "    mydb.close()\n",
    "    \n",
    "except Exception as e:\n",
    "    mydb.close()\n",
    "    print(e)\n",
    "    \n",
    "    "
   ]
  },
  {
   "cell_type": "code",
   "execution_count": 128,
   "metadata": {},
   "outputs": [
    {
     "name": "stdout",
     "output_type": "stream",
     "text": [
      "True\n",
      "1050 (42S01): Table 'rampur' already exists\n"
     ]
    }
   ],
   "source": [
    "try:\n",
    "    mydb=connection.connect(host=\"localhost\",user=\"root\",password=\"root\",database=\"uttarP\")\n",
    "    print(mydb.is_connected())\n",
    "    query=\"create table rampur (id int not null , SdmName varchar(30) not null,VdoName varchar(30) , NofVillages int)\"\n",
    "    mycursor=mydb.cursor()\n",
    "    mycursor.execute(query)\n",
    "    \n",
    "   \n",
    "    \n",
    "except Exception as e:\n",
    "    print(e)"
   ]
  },
  {
   "cell_type": "code",
   "execution_count": 129,
   "metadata": {},
   "outputs": [
    {
     "name": "stdout",
     "output_type": "stream",
     "text": [
      "True\n"
     ]
    },
    {
     "ename": "ProgrammingError",
     "evalue": "1054 (42S22): Unknown column 'NofVillages' in 'field list'",
     "output_type": "error",
     "traceback": [
      "\u001b[1;31m---------------------------------------------------------------------------\u001b[0m",
      "\u001b[1;31mMySQLInterfaceError\u001b[0m                       Traceback (most recent call last)",
      "\u001b[1;32m~\\anaconda3\\lib\\site-packages\\mysql\\connector\\connection_cext.py\u001b[0m in \u001b[0;36mcmd_query\u001b[1;34m(self, query, raw, buffered, raw_as_string)\u001b[0m\n\u001b[0;32m    505\u001b[0m                 \u001b[0mquery\u001b[0m \u001b[1;33m=\u001b[0m \u001b[0mquery\u001b[0m\u001b[1;33m.\u001b[0m\u001b[0mencode\u001b[0m\u001b[1;33m(\u001b[0m\u001b[1;34m'utf-8'\u001b[0m\u001b[1;33m)\u001b[0m\u001b[1;33m\u001b[0m\u001b[1;33m\u001b[0m\u001b[0m\n\u001b[1;32m--> 506\u001b[1;33m             self._cmysql.query(query,\n\u001b[0m\u001b[0;32m    507\u001b[0m                                \u001b[0mraw\u001b[0m\u001b[1;33m=\u001b[0m\u001b[0mraw\u001b[0m\u001b[1;33m,\u001b[0m \u001b[0mbuffered\u001b[0m\u001b[1;33m=\u001b[0m\u001b[0mbuffered\u001b[0m\u001b[1;33m,\u001b[0m\u001b[1;33m\u001b[0m\u001b[1;33m\u001b[0m\u001b[0m\n",
      "\u001b[1;31mMySQLInterfaceError\u001b[0m: Unknown column 'NofVillages' in 'field list'",
      "\nDuring handling of the above exception, another exception occurred:\n",
      "\u001b[1;31mProgrammingError\u001b[0m                          Traceback (most recent call last)",
      "\u001b[1;32m<ipython-input-129-28c5d4d29f52>\u001b[0m in \u001b[0;36m<module>\u001b[1;34m\u001b[0m\n\u001b[0;32m      3\u001b[0m \u001b[0mquery\u001b[0m\u001b[1;33m=\u001b[0m\u001b[1;34m\"insert into rampur (id,SdmName,VdoName,NofVillages) values(1,'Mujtaba Ali','Ramzam khan',100)\"\u001b[0m\u001b[1;33m\u001b[0m\u001b[1;33m\u001b[0m\u001b[0m\n\u001b[0;32m      4\u001b[0m \u001b[0mmycursor\u001b[0m\u001b[1;33m=\u001b[0m\u001b[0mmydb\u001b[0m\u001b[1;33m.\u001b[0m\u001b[0mcursor\u001b[0m\u001b[1;33m(\u001b[0m\u001b[1;33m)\u001b[0m\u001b[1;33m\u001b[0m\u001b[1;33m\u001b[0m\u001b[0m\n\u001b[1;32m----> 5\u001b[1;33m \u001b[0mmycursor\u001b[0m\u001b[1;33m.\u001b[0m\u001b[0mexecute\u001b[0m\u001b[1;33m(\u001b[0m\u001b[0mquery\u001b[0m\u001b[1;33m)\u001b[0m\u001b[1;33m\u001b[0m\u001b[1;33m\u001b[0m\u001b[0m\n\u001b[0m\u001b[0;32m      6\u001b[0m \u001b[0mmydb\u001b[0m\u001b[1;33m.\u001b[0m\u001b[0mclose\u001b[0m\u001b[1;33m(\u001b[0m\u001b[1;33m)\u001b[0m\u001b[1;33m\u001b[0m\u001b[1;33m\u001b[0m\u001b[0m\n\u001b[0;32m      7\u001b[0m \u001b[1;33m\u001b[0m\u001b[0m\n",
      "\u001b[1;32m~\\anaconda3\\lib\\site-packages\\mysql\\connector\\cursor_cext.py\u001b[0m in \u001b[0;36mexecute\u001b[1;34m(self, operation, params, multi)\u001b[0m\n\u001b[0;32m    267\u001b[0m \u001b[1;33m\u001b[0m\u001b[0m\n\u001b[0;32m    268\u001b[0m         \u001b[1;32mtry\u001b[0m\u001b[1;33m:\u001b[0m\u001b[1;33m\u001b[0m\u001b[1;33m\u001b[0m\u001b[0m\n\u001b[1;32m--> 269\u001b[1;33m             result = self._cnx.cmd_query(stmt, raw=self._raw,\n\u001b[0m\u001b[0;32m    270\u001b[0m                                          \u001b[0mbuffered\u001b[0m\u001b[1;33m=\u001b[0m\u001b[0mself\u001b[0m\u001b[1;33m.\u001b[0m\u001b[0m_buffered\u001b[0m\u001b[1;33m,\u001b[0m\u001b[1;33m\u001b[0m\u001b[1;33m\u001b[0m\u001b[0m\n\u001b[0;32m    271\u001b[0m                                          raw_as_string=self._raw_as_string)\n",
      "\u001b[1;32m~\\anaconda3\\lib\\site-packages\\mysql\\connector\\connection_cext.py\u001b[0m in \u001b[0;36mcmd_query\u001b[1;34m(self, query, raw, buffered, raw_as_string)\u001b[0m\n\u001b[0;32m    508\u001b[0m                                raw_as_string=raw_as_string)\n\u001b[0;32m    509\u001b[0m         \u001b[1;32mexcept\u001b[0m \u001b[0mMySQLInterfaceError\u001b[0m \u001b[1;32mas\u001b[0m \u001b[0mexc\u001b[0m\u001b[1;33m:\u001b[0m\u001b[1;33m\u001b[0m\u001b[1;33m\u001b[0m\u001b[0m\n\u001b[1;32m--> 510\u001b[1;33m             raise errors.get_mysql_exception(exc.errno, msg=exc.msg,\n\u001b[0m\u001b[0;32m    511\u001b[0m                                              sqlstate=exc.sqlstate)\n\u001b[0;32m    512\u001b[0m         \u001b[1;32mexcept\u001b[0m \u001b[0mAttributeError\u001b[0m\u001b[1;33m:\u001b[0m\u001b[1;33m\u001b[0m\u001b[1;33m\u001b[0m\u001b[0m\n",
      "\u001b[1;31mProgrammingError\u001b[0m: 1054 (42S22): Unknown column 'NofVillages' in 'field list'"
     ]
    }
   ],
   "source": [
    " mydb=connection.connect(host=\"localhost\",user=\"root\",password=\"root\",database=\"uttarP\")\n",
    "print(mydb.is_connected())\n",
    "query=\"insert into rampur (id,SdmName,VdoName,NofVillages) values(1,'Mujtaba Ali','Ramzam khan',100)\"\n",
    "mycursor=mydb.cursor()\n",
    "mycursor.execute(query)\n",
    "mydb.close()\n",
    "    "
   ]
  },
  {
   "cell_type": "code",
   "execution_count": 133,
   "metadata": {},
   "outputs": [
    {
     "name": "stdout",
     "output_type": "stream",
     "text": [
      "True\n"
     ]
    }
   ],
   "source": [
    "try:\n",
    "    mydb=connection.connect(host=\"localhost\",user=\"root\",password=\"root\",database=\"uttarP\")\n",
    "    print(mydb.is_connected())\n",
    "    query=\"insert into rampur(id,SdmName,VdoName,NofVaillages) values(2,'Mujtaba Ali','Tarwez Ansari',40)\"\n",
    "    mycursor=mydb.cursor()\n",
    "    mycursor.execute(query)\n",
    "    mydb.close()\n",
    "except Exception as e:\n",
    "    mydb.close()\n",
    "    \n",
    "    print(e)\n",
    "    "
   ]
  },
  {
   "cell_type": "code",
   "execution_count": 135,
   "metadata": {},
   "outputs": [
    {
     "name": "stdout",
     "output_type": "stream",
     "text": [
      "True\n"
     ]
    }
   ],
   "source": [
    "try:\n",
    "    mydb=connection.connect(host=\"localhost\",user=\"root\",password=\"root\",database=\"uttarp\")\n",
    "    print(mydb.is_connected())\n",
    "    query=\"insert into rampur(id,SdmName,VdoName,NofVaillages) values(2,'Mujtaba Ali','Tarwez Ansari',40)\"\n",
    "    mycursor=mydb.cursor()\n",
    "    mycursor.execute(query)\n",
    "    mydb.close()\n",
    "except Exception as e:\n",
    "    mydb.close()\n",
    "    \n",
    "    print(e)\n",
    "    "
   ]
  },
  {
   "cell_type": "code",
   "execution_count": 136,
   "metadata": {},
   "outputs": [
    {
     "name": "stdout",
     "output_type": "stream",
     "text": [
      "True\n"
     ]
    }
   ],
   "source": [
    "try:\n",
    "    mydb=connection.connect(host=\"localhost\",user=\"root\",password=\"root\",database=\"uttarp\")\n",
    "    print(mydb.is_connected())\n",
    "    query=\"insert into rampur(id,SdmName,VdoName,NofVaillages) values(2,'Mujtaba Ali','Tarwez Ansari',40)\"\n",
    "    mycursor=mydb.cursor()\n",
    "    mycursor.execute(query)\n",
    "    mydb.close()\n",
    "except Exception as e:\n",
    "    mydb.close()\n",
    "    \n",
    "    print(e)\n",
    "    "
   ]
  },
  {
   "cell_type": "code",
   "execution_count": 137,
   "metadata": {},
   "outputs": [],
   "source": [
    "\n",
    "import mysql.connector as connection"
   ]
  },
  {
   "cell_type": "code",
   "execution_count": 140,
   "metadata": {},
   "outputs": [
    {
     "name": "stdout",
     "output_type": "stream",
     "text": [
      "True\n"
     ]
    }
   ],
   "source": [
    "try:\n",
    "    myd=connection.connect(host=\"localhost\",database=\"uttarp\",user=\"root\",password=\"root\",use_pure=True)\n",
    "    print(myd.is_connected())\n",
    "    q=\"insert into rampur (id,SdmName,VdoName,NofVaillages) values(4,'tariq','jafar',100)\"\n",
    "    mycur=myd.cursor()\n",
    "    mycur.execute(q)\n",
    "    myd.close()\n",
    "except Exception as e:\n",
    "    print(e)\n",
    "    \n",
    "    "
   ]
  },
  {
   "cell_type": "code",
   "execution_count": 143,
   "metadata": {},
   "outputs": [
    {
     "name": "stdout",
     "output_type": "stream",
     "text": [
      "True\n"
     ]
    }
   ],
   "source": [
    "import mysql.connector as connection\n",
    "try:\n",
    "    mydb=connection.connect(host=\"localhost\",user=\"root\", password=\"root\")\n",
    "    print(mydb.is_connected())\n",
    "    query=\"create database laptop\"\n",
    "    my_cursor=mydb.cursor()\n",
    "    my_cursor.execute(query)\n",
    "    my_cursor.close()\n",
    "except Exception as e:\n",
    "    print(e)\n",
    "    "
   ]
  },
  {
   "cell_type": "code",
   "execution_count": 146,
   "metadata": {},
   "outputs": [
    {
     "name": "stdout",
     "output_type": "stream",
     "text": [
      "True\n"
     ]
    }
   ],
   "source": [
    "import mysql.connector as connection\n",
    "try:\n",
    "    mydb=connection.connect(host=\"localhost\",user=\"root\", password=\"root\",database=\"laptop\")\n",
    "    print(mydb.is_connected())\n",
    "    query=\"create table asus(serial_number int , Name varchar(30), price int)\"\n",
    "    my_cursor=mydb.cursor()\n",
    "    my_cursor.execute(query)\n",
    "    my_cursor.close()\n",
    "except Exception as e:\n",
    "    print(e)"
   ]
  },
  {
   "cell_type": "code",
   "execution_count": 149,
   "metadata": {},
   "outputs": [
    {
     "name": "stdout",
     "output_type": "stream",
     "text": [
      "True\n"
     ]
    }
   ],
   "source": [
    "import mysql.connector as connection\n",
    "try:\n",
    "    mydb=connection.connect(host=\"localhost\",user=\"root\", password=\"root\",database=\"laptop\")\n",
    "    print(mydb.is_connected())\n",
    "    query=\"insert into asus(serial_number,Name,Price) values(123,'Vivobook',245000)\"\n",
    "    my_cursor=mydb.cursor()\n",
    "    my_cursor.execute(query)\n",
    "    mydb.commit() # we have to use commit to add data into database\n",
    "    my_cursor.close()\n",
    "except Exception as e:\n",
    "    print(e)"
   ]
  },
  {
   "cell_type": "code",
   "execution_count": 152,
   "metadata": {},
   "outputs": [],
   "source": [
    "query=\"insert into asus(serial_number,Name,Price) values(342,'ultra notebook',50000)\"\n",
    "my_cursor=mydb.cursor()\n",
    "my_cursor.execute(query)\n",
    "mydb.commit()"
   ]
  },
  {
   "cell_type": "code",
   "execution_count": 153,
   "metadata": {},
   "outputs": [],
   "source": [
    "query=\"insert into asus(serial_number,Name,Price) values(765,'Notebook pro',675555)\"\n",
    "my_cursor.execute(query)\n",
    "mydb.commit()"
   ]
  },
  {
   "cell_type": "code",
   "execution_count": 1,
   "metadata": {},
   "outputs": [],
   "source": [
    "import mysql.connector as conncetion\n"
   ]
  },
  {
   "cell_type": "code",
   "execution_count": 5,
   "metadata": {},
   "outputs": [
    {
     "name": "stdout",
     "output_type": "stream",
     "text": [
      "True\n",
      "('100', 'Arif Ali', '5.54', '7.56', '8.56')\n",
      "('19118001', 'AAKASH KUMAR', '7.07', '7.72', '7.4')\n",
      "('19118002', 'ABDHESH', '6.83', '7.41', '7.12')\n",
      "('19118003', 'ABHISHEK BHARTI', '8.07', '9.14', '8.6')\n",
      "('19118004', 'AJAY VANSH', '7.31', '8.41', '7.86')\n",
      "('19118005', 'AKASH KUMAR', '7.55', '8.55', '8.05')\n",
      "('19118006', 'AMBIKA SONI', '7.52', '8.86', '8.19')\n",
      "('19118007', 'AMISH MITTAL', '6.03', '7.45', '6.74')\n",
      "('19118008', 'AMIT KUMAR', '7.1', '7.72', '7.41')\n",
      "('19118009', 'ANKUR KUMAR', '8.79', '9.14', '8.97')\n",
      "('19118010', 'ANSHIKA GOSWAMI', '8.66', '9.31', '8.98')\n",
      "('19118011', 'ANUJ KUMAR', '7.41', '8.62', '8.02')\n",
      "('19118012', 'ARJUN KUMAR', '7.9', '8.59', '8.24')\n",
      "('19118013', 'ARSHAD MALIK', '8.38', '8.83', '8.6')\n",
      "('19118014', 'ARVIND KUMAR', '7.1', '8.28', '7.69')\n",
      "('19118015', 'ASHUTOSH KUMAR TIWARI', '7.79', '9.07', '8.43')\n",
      "('19118016', 'AYUSHI', '6.55', '6.34', '6.45')\n",
      "('19118017', 'BARJ PAL SINGH', '6.9', '0.31', '3.6')\n",
      "('19118018', 'CHIRAG SINGH', '7.69', '9', '8.34')\n",
      "('19118019', 'DEVENDRA SINGH', '9.21', '8.86', '9.03')\n",
      "('19118021', 'DIVYANSH GUPTA', '6.97', '9.14', '8.05')\n",
      "('19118022', 'DURVESH KUMAR', '7.9', '8.03', '7.97')\n",
      "('19118023', 'HARSH KUMAR GAUTAM', '6.69', '8.72', '7.71')\n",
      "('19118024', 'JAGMOHAN SINGH', '6.38', '0.31', '3.34')\n",
      "('19118025', 'JAYDEEP BABU', '7.41', '8.55', '7.98')\n",
      "('19118026', 'KAMINI SINGH', '6.93', '8.55', '7.74')\n",
      "('19118027', 'KM. KHUSHBOO', '7.69', '8.72', '8.21')\n",
      "('19118028', 'KM. ANCHAL PAWAN', '7.24', '8.97', '8.0')\n",
      "('19118029', 'LOKANDER', '7.48', '8.69', '8.09')\n",
      "('19118030', 'MAYANK KUMAR', '7.07', '8.31', '7.69')\n",
      "('19118031', 'MOHD DANISH', '8.93', '8.69', '8.81')\n",
      "('19118032', 'MOHD NADEEM ALI', '8.1', '9', '8.55')\n",
      "('19118033', 'MOHIT SAGAR', '7.38', '8.55', '7.97')\n",
      "('19118034', 'MUJTABA ALI', '9.38', '8.28', '8.83')\n",
      "('19118035', 'NILESH KUMAR', '7.76', '8.45', '8.1')\n",
      "('19118036', 'PIYUSH SHARMA', '6.9', '8.31', '7.6')\n",
      "('19118037', 'PRASHASTI', '8.48', '8.86', '8.67')\n",
      "('19118038', 'PRINCE KUMAR', '7.93', '8.97', '8.45')\n",
      "('19118039', 'RAJESH KUMAR', '6.86', '8.38', '7.62')\n",
      "('19118040', 'SHIVAM KUMAR', '6.83', '8.14', '7.48')\n",
      "('19118041', 'SHIVAM KUMAR', '7.55', '8.28', '7.91')\n",
      "('19118042', 'SHIVRAM SINGH', '8.66', '9.31', '8.98')\n",
      "('19118043', 'SHUBHAM KASHYAP', '8', '9.03', '8.52')\n",
      "('19118044', 'SHUBHAM KUMAR', '8.07', '8.55', '8.31')\n",
      "('19118045', 'SONIA', '6.97', '8.83', '7.9')\n",
      "('19118046', 'TANYA RAJ', '8.62', '9.48', '9.05')\n",
      "('19118047', 'UJJWAL KUMAR', '7.55', '8.41', '7.9')\n",
      "('19118048', 'VIKAS', '7.69', '7.97', '7.83')\n",
      "('19118049', 'VINKUL KUMAR', '7.69', '8.86', '8.28')\n",
      "('19118050', 'VISHAL SINGH', '7.03', '8.9', '7.97')\n",
      "('19118052', 'ANKIT KUMAR', '8.03', '8.14', '8.09')\n",
      "('19118053', 'DAYANAND', '6.38', '8', '7.19')\n",
      "('19118054', 'DEEPAK KUMAR', '6.69', '8.31', '7.5')\n",
      "('19118055', 'GOVIND SINGH', '7.17', '6.24', '6.71')\n",
      "('19118056', 'VISHAL SINGH', '6.79', '7.76', '7.28')\n",
      "('19118057', 'BOBY KUMAR', '7.76', '8.76', '8.26')\n"
     ]
    }
   ],
   "source": [
    "try:\n",
    "    mydb=conncetion.connect(host=\"localhost\",user=\"root\",password=\"root\",database=\"btech\")\n",
    "    print(mydb.is_connected())\n",
    "    query=\"select * from data\"\n",
    "    mycursor=mydb.cursor()\n",
    "    mycursor.execute(query)\n",
    "    for r in mycursor.fetchall():\n",
    "        print(r)\n",
    "    mydb.close()    \n",
    "except Exception as e:\n",
    "    print(e)\n",
    "    "
   ]
  },
  {
   "cell_type": "code",
   "execution_count": 11,
   "metadata": {},
   "outputs": [],
   "source": [
    "import csv"
   ]
  },
  {
   "cell_type": "code",
   "execution_count": 13,
   "metadata": {
    "scrolled": true
   },
   "outputs": [
    {
     "name": "stdout",
     "output_type": "stream",
     "text": [
      "['19118001,AAKASH KUMAR,7.07,7.72,7.4,PASS,,,,,,,,,,,']\n",
      "['19118002,ABDHESH,6.83,7.41,7.12,PASS,,,,,,,,,,,']\n",
      "['19118003,ABHISHEK BHARTI,8.07,9.14,8.6,PASS,9.14,,,,,,,,,,']\n",
      "['19118004,AJAY VANSH,7.31,8.41,7.86,PASS,,,,,,,,,,,']\n",
      "['19118005,AKASH KUMAR,7.55,8.55,8.05,PASS,,,,,,,,,,,']\n",
      "['19118006,AMBIKA SONI,7.52,8.86,8.19,PASS,,19118013,8.38,8.83,8.6,,,,,,']\n",
      "['19118007,AMISH MITTAL,6.03,7.45,6.74,PCP,,,,,,,,,,,']\n",
      "['19118008,AMIT KUMAR,7.1,7.72,7.41,PASS,,,,,,,19118003,ABHISHEK BHARTI,8.07,9.14,8.6']\n",
      "['19118052,ANKIT KUMAR,8.03,8.14,8.09,PASS,,,,,,,19118006,AMBIKA SONI,7.52,8.86,8.19']\n",
      "['19118009,ANKUR KUMAR,8.79,9.14,8.97,PASS,9.14,,,,,,19118009,ANKUR KUMAR,8.79,9.14,8.97']\n",
      "['19118010,ANSHIKA GOSWAMI,8.66,9.31,8.98,PASS,9.31,,,,,,19118010,ANSHIKA GOSWAMI,8.66,9.31,8.98']\n",
      "['19118011,ANUJ KUMAR,7.41,8.62,8.02,PASS,,,,,,,19118013,ARSHAD MALIK,8.38,8.83,8.6']\n",
      "['19118012,ARJUN KUMAR,7.9,8.59,8.24,PASS,,,,,,,19118015,ASHUTOSH KUMAR TIWARI,7.79,9.07,8.43']\n",
      "['19118013,ARSHAD MALIK,8.38,8.83,8.6,PASS,,Grand Total,22.52,24.65,23.58,,19118018,CHIRAG SINGH,7.69,9,8.34']\n",
      "['19118014,ARVIND KUMAR,7.1,8.28,7.69,PASS,,,,,,,19118019,DEVENDRA SINGH,9.21,8.86,9.03']\n",
      "['19118015,ASHUTOSH KUMAR TIWARI,7.79,9.07,8.43,PASS,9.07,,,,,,19118021,DIVYANSH GUPTA,6.97,9.14,8.05']\n",
      "['19118016,AYUSHI,6.55,6.34,6.45,PASS,,,,,,,19118028,KM. ANCHAL PAWAN,7.24,8.97,8.1']\n",
      "['19118017,BARJ PAL SINGH,6.9,0.31,3.6,FAIL,,,,,,,19118032,MOHD NADEEM ALI,8.1,9,8.55']\n",
      "['19118057,BOBY KUMAR,7.76,8.76,8.26,PASS,,,,,,,ROLL NO,NAME,1st SEMESTER SGPA,2nd SEMESTER SGPA,CUMULATIVE GRADE POIMT AVERAGE (CGPA)']\n",
      "['19118018,CHIRAG SINGH,7.69,9,8.34,PASS,,,,,,,19118037,PRASHASTI,8.48,8.86,8.67']\n",
      "['19118053,DAYANAND,6.38,8,7.19,PASS,,,,,,,19118038,PRINCE KUMAR,7.93,8.97,8.45']\n",
      "['19118054,DEEPAK KUMAR,6.69,8.31,7.5,PASS,,,,,,,19118042,SHIVRAM SINGH,8.66,9.31,8.98']\n",
      "['19118019,DEVENDRA SINGH,9.21,8.86,9.03,PASS,,Row Labels,Sum of 1st SEMESTER SGPA,Sum of 2nd SEMESTER SGPA,Sum of CUMULATIVE GRADE POIMT AVERAGE (CGPA),,19118043,SHUBHAM KASHYAP,8,9.03,8.52']\n",
      "['19118021,DIVYANSH GUPTA,6.97,9.14,8.05,PASS,9.14,,,,,,19118045,SONIA,6.97,8.83,7.9']\n",
      "['19118022,DURVESH KUMAR,7.9,8.03,7.97,PASS,,,,,,,19118046,TANYA RAJ,8.62,9.48,9.05']\n",
      "['19118055,GOVIND SINGH,7.17,6.24,6.71,PASS,,,,,,,19118049,VINKUL KUMAR,7.69,8.86,8.28']\n",
      "['19118023,HARSH KUMAR GAUTAM,6.69,8.72,7.71,PASS,,,,,,,19118050,VISHAL SINGH,7.03,8.9,7.97']\n",
      "['19118024,JAGMOHAN SINGH,6.38,0.31,3.34,FAIL,,,,,,,,,,,']\n",
      "['19118025,JAYDEEP BABU,7.41,8.55,7.98,PASS,,,,,,,,,,,']\n",
      "['19118026,KAMINI SINGH,6.93,8.55,7.74,PASS,,,,,,,,,,,']\n",
      "['19118028,KM. ANCHAL PAWAN,7.24,8.97,8.1,PASS,,NAME,(Multiple Items),,,,,,,,']\n",
      "['19118027,KM. KHUSHBOO,7.69,8.72,8.21,PASS,,,,,,,,,,,']\n",
      "['19118029,LOKANDER,7.48,8.69,8.09,PASS,,,,,,,,,,,']\n",
      "['19118030,MAYANK KUMAR,7.07,8.31,7.69,PCP,,,,,,,,,,,']\n",
      "['19118031,MOHD DANISH,8.93,8.69,8.81,PASS,,,,,,,,,,,']\n",
      "['19118032,MOHD NADEEM ALI,8.1,9,8.55,PASS,,,,,,,,,,,']\n",
      "['19118033,MOHIT SAGAR,7.38,8.55,7.97,PASS,,,,,,,,,,,']\n",
      "['19118034,MUJTABA ALI,9.38,8.28,8.83,PASS,,,,,,,,,,,']\n",
      "['19118035,NILESH KUMAR,7.76,8.45,8.1,PASS,,,,,,,,,,,']\n",
      "['19118036,PIYUSH SHARMA,6.9,8.31,7.6,PCP,,,,,,,,,,,']\n",
      "['19118037,PRASHASTI,8.48,8.86,8.67,PASS,,19118002,6.83,7.41,7.12,,,,,,']\n",
      "['19118038,PRINCE KUMAR,7.93,8.97,8.45,PASS,,,,,,,,,,,']\n",
      "['19118039,RAJESH KUMAR,6.86,8.38,7.62,PASS,,,,,,,,,,,']\n",
      "['19118041,SHIVAM KUMAR,7.55,8.28,7.91,PASS,,,,,,,,,,,']\n",
      "['19118040,SHIVAM KUMAR,6.83,8.14,7.48,PASS,,,,,,,,,,,']\n",
      "['19118042,SHIVRAM SINGH,8.66,9.31,8.98,PASS,9.31,,,,,,,,,,']\n",
      "['19118043,SHUBHAM KASHYAP,8,9.03,8.52,PASS,9.03,,,,,,,,,,']\n",
      "['19118044,SHUBHAM KUMAR,8.07,8.55,8.31,PASS,,,,,,,,,,,']\n",
      "['19118045,SONIA,6.97,8.83,7.9,PASS,,,,,,,,,,,']\n",
      "['19118046,TANYA RAJ,8.62,9.48,9.05,PASS,9.48,,,,,,,,,,']\n",
      "['19118047,UJJWAL KUMAR,7.55,8.41,7.98,PASS,,,,,,,,,,,']\n",
      "['19118048,VIKAS,7.69,7.97,7.83,PASS,,,,,,,,,,,']\n",
      "['19118049,VINKUL KUMAR,7.69,8.86,8.28,PASS,,19118004,7.31,8.41,7.86,,,,,,']\n",
      "['19118050,VISHAL SINGH,7.03,8.9,7.97,PASS,,,,,,,,,,,']\n",
      "['19118056,VISHAL SINGH,6.79,7.76,7.28,PASS,,,,,,,,,,,']\n"
     ]
    }
   ],
   "source": [
    "f=open(r\"C:\\Users\\asus\\Documents\\MSOFFICE\\Excel\\IFTM RUSELT.csv\",\"r\")\n",
    "next(f)\n",
    "data_csv=csv.reader(f,delimiter=\"\\n\")\n",
    "for i in data_csv:\n",
    "    print(i)\n"
   ]
  },
  {
   "cell_type": "code",
   "execution_count": 22,
   "metadata": {},
   "outputs": [
    {
     "data": {
      "text/plain": [
       "0"
      ]
     },
     "execution_count": 22,
     "metadata": {},
     "output_type": "execute_result"
    }
   ],
   "source": [
    "f.seek(0)"
   ]
  },
  {
   "cell_type": "code",
   "execution_count": 24,
   "metadata": {},
   "outputs": [
    {
     "name": "stdout",
     "output_type": "stream",
     "text": [
      "Roll Number,Name,1Semester,2 Semester,1&2(1 year),,,,,,,,,,,,\n",
      "\n",
      "19118001,AAKASH KUMAR,7.07,7.72,7.4,PASS,,,,,,,,,,,\n",
      "\n",
      "19118002,ABDHESH,6.83,7.41,7.12,PASS,,,,,,,,,,,\n",
      "\n",
      "19118003,ABHISHEK BHARTI,8.07,9.14,8.6,PASS,9.14,,,,,,,,,,\n",
      "\n",
      "19118004,AJAY VANSH,7.31,8.41,7.86,PASS,,,,,,,,,,,\n",
      "\n",
      "19118005,AKASH KUMAR,7.55,8.55,8.05,PASS,,,,,,,,,,,\n",
      "\n",
      "19118006,AMBIKA SONI,7.52,8.86,8.19,PASS,,19118013,8.38,8.83,8.6,,,,,,\n",
      "\n",
      "19118007,AMISH MITTAL,6.03,7.45,6.74,PCP,,,,,,,,,,,\n",
      "\n",
      "19118008,AMIT KUMAR,7.1,7.72,7.41,PASS,,,,,,,19118003,ABHISHEK BHARTI,8.07,9.14,8.6\n",
      "\n",
      "19118052,ANKIT KUMAR,8.03,8.14,8.09,PASS,,,,,,,19118006,AMBIKA SONI,7.52,8.86,8.19\n",
      "\n",
      "19118009,ANKUR KUMAR,8.79,9.14,8.97,PASS,9.14,,,,,,19118009,ANKUR KUMAR,8.79,9.14,8.97\n",
      "\n",
      "19118010,ANSHIKA GOSWAMI,8.66,9.31,8.98,PASS,9.31,,,,,,19118010,ANSHIKA GOSWAMI,8.66,9.31,8.98\n",
      "\n",
      "19118011,ANUJ KUMAR,7.41,8.62,8.02,PASS,,,,,,,19118013,ARSHAD MALIK,8.38,8.83,8.6\n",
      "\n",
      "19118012,ARJUN KUMAR,7.9,8.59,8.24,PASS,,,,,,,19118015,ASHUTOSH KUMAR TIWARI,7.79,9.07,8.43\n",
      "\n",
      "19118013,ARSHAD MALIK,8.38,8.83,8.6,PASS,,Grand Total,22.52,24.65,23.58,,19118018,CHIRAG SINGH,7.69,9,8.34\n",
      "\n",
      "19118014,ARVIND KUMAR,7.1,8.28,7.69,PASS,,,,,,,19118019,DEVENDRA SINGH,9.21,8.86,9.03\n",
      "\n",
      "19118015,ASHUTOSH KUMAR TIWARI,7.79,9.07,8.43,PASS,9.07,,,,,,19118021,DIVYANSH GUPTA,6.97,9.14,8.05\n",
      "\n",
      "19118016,AYUSHI,6.55,6.34,6.45,PASS,,,,,,,19118028,KM. ANCHAL PAWAN,7.24,8.97,8.1\n",
      "\n",
      "19118017,BARJ PAL SINGH,6.9,0.31,3.6,FAIL,,,,,,,19118032,MOHD NADEEM ALI,8.1,9,8.55\n",
      "\n",
      "19118057,BOBY KUMAR,7.76,8.76,8.26,PASS,,,,,,,ROLL NO,NAME,1st SEMESTER SGPA,2nd SEMESTER SGPA,CUMULATIVE GRADE POIMT AVERAGE (CGPA)\n",
      "\n",
      "19118018,CHIRAG SINGH,7.69,9,8.34,PASS,,,,,,,19118037,PRASHASTI,8.48,8.86,8.67\n",
      "\n",
      "19118053,DAYANAND,6.38,8,7.19,PASS,,,,,,,19118038,PRINCE KUMAR,7.93,8.97,8.45\n",
      "\n",
      "19118054,DEEPAK KUMAR,6.69,8.31,7.5,PASS,,,,,,,19118042,SHIVRAM SINGH,8.66,9.31,8.98\n",
      "\n",
      "19118019,DEVENDRA SINGH,9.21,8.86,9.03,PASS,,Row Labels,Sum of 1st SEMESTER SGPA,Sum of 2nd SEMESTER SGPA,Sum of CUMULATIVE GRADE POIMT AVERAGE (CGPA),,19118043,SHUBHAM KASHYAP,8,9.03,8.52\n",
      "\n",
      "19118021,DIVYANSH GUPTA,6.97,9.14,8.05,PASS,9.14,,,,,,19118045,SONIA,6.97,8.83,7.9\n",
      "\n",
      "19118022,DURVESH KUMAR,7.9,8.03,7.97,PASS,,,,,,,19118046,TANYA RAJ,8.62,9.48,9.05\n",
      "\n",
      "19118055,GOVIND SINGH,7.17,6.24,6.71,PASS,,,,,,,19118049,VINKUL KUMAR,7.69,8.86,8.28\n",
      "\n",
      "19118023,HARSH KUMAR GAUTAM,6.69,8.72,7.71,PASS,,,,,,,19118050,VISHAL SINGH,7.03,8.9,7.97\n",
      "\n",
      "19118024,JAGMOHAN SINGH,6.38,0.31,3.34,FAIL,,,,,,,,,,,\n",
      "\n",
      "19118025,JAYDEEP BABU,7.41,8.55,7.98,PASS,,,,,,,,,,,\n",
      "\n",
      "19118026,KAMINI SINGH,6.93,8.55,7.74,PASS,,,,,,,,,,,\n",
      "\n",
      "19118028,KM. ANCHAL PAWAN,7.24,8.97,8.1,PASS,,NAME,(Multiple Items),,,,,,,,\n",
      "\n",
      "19118027,KM. KHUSHBOO,7.69,8.72,8.21,PASS,,,,,,,,,,,\n",
      "\n",
      "19118029,LOKANDER,7.48,8.69,8.09,PASS,,,,,,,,,,,\n",
      "\n",
      "19118030,MAYANK KUMAR,7.07,8.31,7.69,PCP,,,,,,,,,,,\n",
      "\n",
      "19118031,MOHD DANISH,8.93,8.69,8.81,PASS,,,,,,,,,,,\n",
      "\n",
      "19118032,MOHD NADEEM ALI,8.1,9,8.55,PASS,,,,,,,,,,,\n",
      "\n",
      "19118033,MOHIT SAGAR,7.38,8.55,7.97,PASS,,,,,,,,,,,\n",
      "\n",
      "19118034,MUJTABA ALI,9.38,8.28,8.83,PASS,,,,,,,,,,,\n",
      "\n",
      "19118035,NILESH KUMAR,7.76,8.45,8.1,PASS,,,,,,,,,,,\n",
      "\n",
      "19118036,PIYUSH SHARMA,6.9,8.31,7.6,PCP,,,,,,,,,,,\n",
      "\n",
      "19118037,PRASHASTI,8.48,8.86,8.67,PASS,,19118002,6.83,7.41,7.12,,,,,,\n",
      "\n",
      "19118038,PRINCE KUMAR,7.93,8.97,8.45,PASS,,,,,,,,,,,\n",
      "\n",
      "19118039,RAJESH KUMAR,6.86,8.38,7.62,PASS,,,,,,,,,,,\n",
      "\n",
      "19118041,SHIVAM KUMAR,7.55,8.28,7.91,PASS,,,,,,,,,,,\n",
      "\n",
      "19118040,SHIVAM KUMAR,6.83,8.14,7.48,PASS,,,,,,,,,,,\n",
      "\n",
      "19118042,SHIVRAM SINGH,8.66,9.31,8.98,PASS,9.31,,,,,,,,,,\n",
      "\n",
      "19118043,SHUBHAM KASHYAP,8,9.03,8.52,PASS,9.03,,,,,,,,,,\n",
      "\n",
      "19118044,SHUBHAM KUMAR,8.07,8.55,8.31,PASS,,,,,,,,,,,\n",
      "\n",
      "19118045,SONIA,6.97,8.83,7.9,PASS,,,,,,,,,,,\n",
      "\n",
      "19118046,TANYA RAJ,8.62,9.48,9.05,PASS,9.48,,,,,,,,,,\n",
      "\n",
      "19118047,UJJWAL KUMAR,7.55,8.41,7.98,PASS,,,,,,,,,,,\n",
      "\n",
      "19118048,VIKAS,7.69,7.97,7.83,PASS,,,,,,,,,,,\n",
      "\n",
      "19118049,VINKUL KUMAR,7.69,8.86,8.28,PASS,,19118004,7.31,8.41,7.86,,,,,,\n",
      "\n",
      "19118050,VISHAL SINGH,7.03,8.9,7.97,PASS,,,,,,,,,,,\n",
      "\n",
      "19118056,VISHAL SINGH,6.79,7.76,7.28,PASS,,,,,,,,,,,\n",
      "\n"
     ]
    }
   ],
   "source": [
    "for i in open(r\"C:\\Users\\asus\\Documents\\MSOFFICE\\Excel\\IFTM RUSELT.csv\",\"r\"):\n",
    "    print(i)"
   ]
  },
  {
   "cell_type": "code",
   "execution_count": 35,
   "metadata": {},
   "outputs": [],
   "source": [
    "import csv\n",
    "f=open(r\"C:\\Users\\asus\\Documents\\MSOFFICE\\Excel\\student_score.csv\",\"r\")\n",
    "next(f)\n",
    "csv_data=csv.reader(f,delimiter=\"\\n\")\n"
   ]
  },
  {
   "cell_type": "code",
   "execution_count": 36,
   "metadata": {
    "scrolled": true
   },
   "outputs": [
    {
     "name": "stdout",
     "output_type": "stream",
     "text": [
      "['2.5,21']\n",
      "['5.1,47']\n",
      "['3.2,27']\n",
      "['8.5,75']\n",
      "['3.5,30']\n",
      "['1.5,20']\n",
      "['9.2,88']\n",
      "['5.5,60']\n",
      "['8.3,81']\n",
      "['2.7,25']\n",
      "['7.7,85']\n",
      "['5.9,62']\n",
      "['4.5,41']\n",
      "['3.3,42']\n",
      "['1.1,17']\n",
      "['8.9,95']\n",
      "['2.5,30']\n",
      "['1.9,24']\n",
      "['6.1,67']\n",
      "['7.4,69']\n",
      "['2.7,30']\n",
      "['4.8,54']\n",
      "['3.8,35']\n",
      "['6.9,76']\n",
      "['7.8,86']\n"
     ]
    }
   ],
   "source": [
    "for i in csv_data:\n",
    "    print(i)"
   ]
  },
  {
   "cell_type": "code",
   "execution_count": 49,
   "metadata": {},
   "outputs": [],
   "source": [
    "import mysql.connector as connection"
   ]
  },
  {
   "cell_type": "code",
   "execution_count": 50,
   "metadata": {},
   "outputs": [
    {
     "name": "stdout",
     "output_type": "stream",
     "text": [
      "True\n",
      "1050 (42S01): Table 'score' already exists\n"
     ]
    }
   ],
   "source": [
    "try:\n",
    "    mydb=conncetion.connect(host=\"localhost\",user=\"root\",password=\"root\",database=\"uttarp\")\n",
    "    print(mydb.is_connected())\n",
    "    query=\"create table score (hourse float,percentage float) \"\n",
    "    mycursor=mydb.cursor()\n",
    "    mycursor.execute(query)\n",
    "except Exception as e:\n",
    "    print(e)\n",
    "    "
   ]
  },
  {
   "cell_type": "code",
   "execution_count": 51,
   "metadata": {},
   "outputs": [
    {
     "data": {
      "text/plain": [
       "0"
      ]
     },
     "execution_count": 51,
     "metadata": {},
     "output_type": "execute_result"
    }
   ],
   "source": [
    "f.seek(0)"
   ]
  },
  {
   "cell_type": "code",
   "execution_count": 52,
   "metadata": {},
   "outputs": [],
   "source": [
    "for i in data_csv:\n",
    "    print(i)\n",
    "    mycursor.execute(\"insert into score values({data})\".format(data=(i)))\n",
    "    mydb.commit()    \n",
    "mydb.close()    "
   ]
  },
  {
   "cell_type": "code",
   "execution_count": 54,
   "metadata": {
    "scrolled": true
   },
   "outputs": [
    {
     "ename": "MySQLInterfaceError",
     "evalue": "MySQL server has gone away",
     "output_type": "error",
     "traceback": [
      "\u001b[1;31m---------------------------------------------------------------------------\u001b[0m",
      "\u001b[1;31mMySQLInterfaceError\u001b[0m                       Traceback (most recent call last)",
      "\u001b[1;32m<ipython-input-54-40b9e069e092>\u001b[0m in \u001b[0;36m<module>\u001b[1;34m\u001b[0m\n\u001b[0;32m      2\u001b[0m     \u001b[1;32mfor\u001b[0m \u001b[0mj\u001b[0m \u001b[1;32min\u001b[0m \u001b[0mi\u001b[0m\u001b[1;33m[\u001b[0m\u001b[1;36m1\u001b[0m\u001b[1;33m]\u001b[0m\u001b[1;33m:\u001b[0m\u001b[1;33m\u001b[0m\u001b[1;33m\u001b[0m\u001b[0m\n\u001b[0;32m      3\u001b[0m         \u001b[0mmycursor\u001b[0m\u001b[1;33m.\u001b[0m\u001b[0mexecute\u001b[0m\u001b[1;33m(\u001b[0m\u001b[1;34m\"insert into score (hourse,score) values({data})\"\u001b[0m\u001b[1;33m.\u001b[0m\u001b[0mformat\u001b[0m\u001b[1;33m(\u001b[0m\u001b[0mdata\u001b[0m\u001b[1;33m=\u001b[0m\u001b[1;33m(\u001b[0m\u001b[0mj\u001b[0m\u001b[1;33m)\u001b[0m\u001b[1;33m)\u001b[0m\u001b[1;33m)\u001b[0m\u001b[1;33m\u001b[0m\u001b[1;33m\u001b[0m\u001b[0m\n\u001b[1;32m----> 4\u001b[1;33m \u001b[0mmydb\u001b[0m\u001b[1;33m.\u001b[0m\u001b[0mcommit\u001b[0m\u001b[1;33m(\u001b[0m\u001b[1;33m)\u001b[0m\u001b[1;33m\u001b[0m\u001b[1;33m\u001b[0m\u001b[0m\n\u001b[0m",
      "\u001b[1;32m~\\anaconda3\\lib\\site-packages\\mysql\\connector\\connection_cext.py\u001b[0m in \u001b[0;36mcommit\u001b[1;34m(self)\u001b[0m\n\u001b[0;32m    397\u001b[0m         \u001b[1;34m\"\"\"Commit current transaction\"\"\"\u001b[0m\u001b[1;33m\u001b[0m\u001b[1;33m\u001b[0m\u001b[0m\n\u001b[0;32m    398\u001b[0m         \u001b[1;32mif\u001b[0m \u001b[0mself\u001b[0m\u001b[1;33m.\u001b[0m\u001b[0m_cmysql\u001b[0m\u001b[1;33m:\u001b[0m\u001b[1;33m\u001b[0m\u001b[1;33m\u001b[0m\u001b[0m\n\u001b[1;32m--> 399\u001b[1;33m             \u001b[0mself\u001b[0m\u001b[1;33m.\u001b[0m\u001b[0m_cmysql\u001b[0m\u001b[1;33m.\u001b[0m\u001b[0mcommit\u001b[0m\u001b[1;33m(\u001b[0m\u001b[1;33m)\u001b[0m\u001b[1;33m\u001b[0m\u001b[1;33m\u001b[0m\u001b[0m\n\u001b[0m\u001b[0;32m    400\u001b[0m \u001b[1;33m\u001b[0m\u001b[0m\n\u001b[0;32m    401\u001b[0m     \u001b[1;32mdef\u001b[0m \u001b[0mrollback\u001b[0m\u001b[1;33m(\u001b[0m\u001b[0mself\u001b[0m\u001b[1;33m)\u001b[0m\u001b[1;33m:\u001b[0m\u001b[1;33m\u001b[0m\u001b[1;33m\u001b[0m\u001b[0m\n",
      "\u001b[1;31mMySQLInterfaceError\u001b[0m: MySQL server has gone away"
     ]
    }
   ],
   "source": [
    "for i in enumerate(data_csv):\n",
    "    for j in i[1]:\n",
    "        mycursor.execute(\"insert into score (hourse,score) values({data})\".format(data=(j)))\n",
    "mydb.commit()        "
   ]
  },
  {
   "cell_type": "code",
   "execution_count": 55,
   "metadata": {},
   "outputs": [],
   "source": [
    "import mysql.connector as connection"
   ]
  },
  {
   "cell_type": "code",
   "execution_count": 5,
   "metadata": {},
   "outputs": [],
   "source": [
    "f=open(r\"C:\\Users\\asus\\Documents\\MSOFFICE\\Excel\\student_score.csv\",\"r\")\n",
    "next(f)\n",
    "csv_data=csv.reader(f,delimiter =\"\\n\")\n",
    "for i in enumerate(data_csv):\n",
    "    for j in i[1]:\n",
    "        mycursor.execute(\"insert into score (hourse,score) values({data})\".format(data=(j)))\n",
    "mydb.commit()    \n"
   ]
  },
  {
   "cell_type": "code",
   "execution_count": 6,
   "metadata": {},
   "outputs": [],
   "source": [
    "import mysql.connector as connection"
   ]
  },
  {
   "cell_type": "code",
   "execution_count": 7,
   "metadata": {},
   "outputs": [
    {
     "name": "stdout",
     "output_type": "stream",
     "text": [
      "True\n"
     ]
    }
   ],
   "source": [
    "mydb=connection.connect(host=\"localhost\",user=\"root\",password=\"root\",database=\"uttarp\")\n",
    "print(mydb.is_connected())\n",
    "\n"
   ]
  },
  {
   "cell_type": "code",
   "execution_count": 8,
   "metadata": {},
   "outputs": [],
   "source": [
    "import csv\n",
    "mycursor=mydb.cursor()\n",
    "f=open(r\"C:\\Users\\asus\\Documents\\MSOFFICE\\Excel\\student_score.csv\",\"r\")\n",
    "next(f)\n",
    "data_csv=csv.reader(f,delimiter=\"\\n\")\n",
    "for i in enumerate(data_csv):\n",
    "    for j in i[1]:\n",
    "        mycursor.execute(\"insert into score values ({data})\".format(data=(j)))\n",
    "mydb.commit()        "
   ]
  },
  {
   "cell_type": "code",
   "execution_count": 9,
   "metadata": {},
   "outputs": [],
   "source": [
    "import sqlite3"
   ]
  },
  {
   "cell_type": "code",
   "execution_count": 10,
   "metadata": {},
   "outputs": [],
   "source": [
    "mydb=sqlite3.connect(\"simple\")"
   ]
  },
  {
   "cell_type": "code",
   "execution_count": 11,
   "metadata": {},
   "outputs": [
    {
     "data": {
      "text/plain": [
       "<sqlite3.Cursor at 0x23308c48880>"
      ]
     },
     "execution_count": 11,
     "metadata": {},
     "output_type": "execute_result"
    }
   ],
   "source": [
    "mydb.execute(\"create table sample (hourse float , score float)\")"
   ]
  },
  {
   "cell_type": "code",
   "execution_count": 13,
   "metadata": {},
   "outputs": [],
   "source": [
    "mydb.execute(\"insert into sample values(3.2,67.45)\")\n",
    "mydb.commit()"
   ]
  },
  {
   "cell_type": "code",
   "execution_count": 16,
   "metadata": {},
   "outputs": [],
   "source": [
    "import csv\n",
    "f=open(r\"C:\\Users\\asus\\Documents\\MSOFFICE\\Excel\\student_score.csv\",\"r\")\n",
    "next(f)\n",
    "data_csv=csv.reader(f,delimiter=\"\\n\")\n",
    "for i in enumerate(data_csv):\n",
    "    for j in i[1]:\n",
    "        mydb.execute(\"insert into sample values ({data})\".format(data=(j)))\n",
    "mydb.commit()       "
   ]
  },
  {
   "cell_type": "code",
   "execution_count": null,
   "metadata": {},
   "outputs": [],
   "source": []
  }
 ],
 "metadata": {
  "kernelspec": {
   "display_name": "Python 3",
   "language": "python",
   "name": "python3"
  },
  "language_info": {
   "codemirror_mode": {
    "name": "ipython",
    "version": 3
   },
   "file_extension": ".py",
   "mimetype": "text/x-python",
   "name": "python",
   "nbconvert_exporter": "python",
   "pygments_lexer": "ipython3",
   "version": "3.8.5"
  }
 },
 "nbformat": 4,
 "nbformat_minor": 4
}
